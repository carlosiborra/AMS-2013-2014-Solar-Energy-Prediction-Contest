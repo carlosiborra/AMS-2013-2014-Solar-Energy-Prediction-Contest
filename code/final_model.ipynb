{
 "cells": [
  {
   "attachments": {},
   "cell_type": "markdown",
   "metadata": {},
   "source": [
    "# Práctica 1. Aprendizaje Automático\n",
    "\n",
    "Authors: Carlos Iborra Llopis (100451170), Alejandra Galán Arrospide (100451273) <br>\n",
    "Link al repositorio de GitHub: https://github.com/carlosiborra/Grupo02-Practica1-AprendizajeAutomatico"
   ]
  },
  {
   "cell_type": "markdown",
   "metadata": {},
   "source": [
    "## 8.3. Entrenar el modelo final"
   ]
  },
  {
   "cell_type": "code",
   "execution_count": 3,
   "metadata": {},
   "outputs": [],
   "source": [
    "import pandas as pd\n",
    "import joblib\n",
    "\n",
    "# Load the final model from .pkl file\n",
    "model = joblib.load('../data/model/modelo_final.pkl')\n",
    "\n",
    "# Load the competition data\n",
    "comp_df = pd.read_csv(\"../data/comp_st2ns1.txt.bz2\", compression=\"bz2\", index_col=0)\n",
    "\n",
    "# Predict the competition data\n",
    "pred = model.predict(comp_df)\n",
    "\n",
    "# Save the predictions to a .csv file\n",
    "pd.DataFrame(pred).to_csv(\"../data/predicciones.csv\", index=False)\n"
   ]
  }
 ],
 "metadata": {
  "kernelspec": {
   "display_name": "Python 3",
   "language": "python",
   "name": "python3"
  },
  "language_info": {
   "codemirror_mode": {
    "name": "ipython",
    "version": 3
   },
   "file_extension": ".py",
   "mimetype": "text/x-python",
   "name": "python",
   "nbconvert_exporter": "python",
   "pygments_lexer": "ipython3",
   "version": "3.10.10"
  },
  "orig_nbformat": 4,
  "vscode": {
   "interpreter": {
    "hash": "b4c01c8f52586033bb4bb2bf4f864991e275e728809d596b5bf2a750c26b84f7"
   }
  }
 },
 "nbformat": 4,
 "nbformat_minor": 2
}
