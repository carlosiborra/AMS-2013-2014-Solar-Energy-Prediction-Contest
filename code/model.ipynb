{
 "cells": [
  {
   "attachments": {},
   "cell_type": "markdown",
   "metadata": {},
   "source": [
    "# Práctica 1. Aprendizaje Automático\n",
    "\n",
    "Authors: Carlos Iborra Llopis (100451170), Alejandra Galán Arrospide (100451273)\n"
   ]
  },
  {
   "cell_type": "markdown",
   "metadata": {},
   "source": [
    "# 0. Table of contents\n",
    "\n",
    "- [Práctica 1. Aprendizaje Automático](#práctica-1-aprendizaje-automático)\n",
    "  - [0. Table of contents](#0-table-of-contents)\n",
    "  - [1. Requirements](#1-requirements)\n",
    "  - [2. Reading the datasets](#2-reading-the-datasets)\n"
   ]
  },
  {
   "attachments": {},
   "cell_type": "markdown",
   "metadata": {},
   "source": [
    "# 1. Requirements\n"
   ]
  },
  {
   "cell_type": "code",
   "execution_count": null,
   "metadata": {},
   "outputs": [],
   "source": [
    "\"\"\" Importing necessary libraries \"\"\"\n",
    "import pandas as pd\n",
    "import numpy as np\n",
    "import matplotlib.pyplot as plt\n",
    "import missingno as msno\n"
   ]
  },
  {
   "attachments": {},
   "cell_type": "markdown",
   "metadata": {},
   "source": [
    "# 2. Reading the datasets\n",
    "\n",
    "Reading the datasets from the bz2 files, group 2.\n"
   ]
  },
  {
   "cell_type": "code",
   "execution_count": null,
   "metadata": {},
   "outputs": [],
   "source": [
    "\"\"\" Reading the dataset \"\"\"\n",
    "disp_df = pd.read_csv(\"../data/disp_st2ns1.txt.bz2\",\n",
    "                      compression=\"bz2\", index_col=0)\n",
    "comp_df = pd.read_csv(\"../data/comp_st2ns1.txt.bz2\",\n",
    "                      compression=\"bz2\", index_col=0)\n"
   ]
  },
  {
   "attachments": {},
   "cell_type": "markdown",
   "metadata": {},
   "source": [
    "# 3. EDA\n"
   ]
  },
  {
   "attachments": {},
   "cell_type": "markdown",
   "metadata": {},
   "source": [
    "**Key Concepts of Exploratory Data Analysis**\n",
    "\n",
    "- **2 types of Data Analysis**\n",
    "  - Confirmatory Data Analysis\n",
    "  - Exploratory Data Analysis\n",
    "- **4 Objectives of EDA**\n",
    "  - Discover Patterns\n",
    "  - Spot Anomalies\n",
    "  - Frame Hypothesis\n",
    "  - Check Assumptions\n",
    "- **2 methods for exploration**\n",
    "  - Univariate Analysis\n",
    "  - Bivariate Analysis\n",
    "- **Stuff done during EDA**\n",
    "  - Trends\n",
    "  - Distribution\n",
    "  - Mean\n",
    "  - Median\n",
    "  - Outlier\n",
    "  - Spread measurement (SD)\n",
    "  - Correlations\n",
    "  - Hypothesis testing\n",
    "  - Visual Exploration\n"
   ]
  },
  {
   "attachments": {},
   "cell_type": "markdown",
   "metadata": {},
   "source": [
    "## 3.1. Dataset description\n",
    "- **apcp_sfc**: 3-Hour accumulated precipitation at the surface (kg·m⁽⁻²⁾)\n",
    "- **dlwrf_sfc**: Downward long-wave radiative flux average at the surface (W·m⁽⁻²⁾)\n",
    "- **dswrf_sfc**: Downward short-wave radiative flux average at the surface (W·m⁽⁻²⁾)\n",
    "- **pres_msl**: Air pressure at mean sea level (Pa)\n",
    "- **pwat_eatm**: Precipitable Water over the entire depth of the atmosphere (kg·m⁽⁻²⁾)\n",
    "- **spfh_2m**: Specific Humidity at 2 m above ground (kg·kg⁽⁻¹⁾)\n",
    "- **tcdc_eatm**: Total cloud cover over the entire depth of the atmosphere (%)\n",
    "- **tcolc_eatm**: Total column-integrated condensate over the entire atmos. (kg·m⁽⁻²⁾)\n",
    "- **tmax_2m**: Maximum Temperature over the past 3 hours at 2 m above the ground (K)\n",
    "- **tmin_2m**: Mininmum Temperature over the past 3 hours at 2 m above the ground (K)\n",
    "- **tmp_2m**: Current temperature at 2 m above the ground (K)\n",
    "- **tmp_sfc**: Temperature of the surface (K)\n",
    "- **ulwrf_sfc**: Upward long-wave radiation at the surface (W·m⁽⁻²⁾)\n",
    "- **ulwrf_tatm**: Upward long-wave radiation at the top of the atmosphere (W·m⁽⁻²⁾)\n",
    "- **uswrf_sfc**: Upward short-wave radiation at the surface (W·m⁽⁻²⁾)\n"
   ]
  },
  {
   "cell_type": "code",
   "execution_count": null,
   "metadata": {},
   "outputs": [],
   "source": [
    "disp_df.describe()\n"
   ]
  },
  {
   "cell_type": "code",
   "execution_count": null,
   "metadata": {},
   "outputs": [],
   "source": [
    "disp_df.shape\n"
   ]
  },
  {
   "cell_type": "code",
   "execution_count": null,
   "metadata": {},
   "outputs": [],
   "source": [
    "disp_df.head()\n"
   ]
  },
  {
   "cell_type": "code",
   "execution_count": null,
   "metadata": {},
   "outputs": [],
   "source": [
    "result = disp_df.eq(0.0).sum()/len(disp_df)*100\n",
    "\n",
    "# select only results over 50.0\n",
    "result = result[result > 30.0]\n",
    "result = result.sort_values(ascending=False)\n",
    "result\n"
   ]
  },
  {
   "cell_type": "code",
   "execution_count": null,
   "metadata": {},
   "outputs": [],
   "source": [
    "disp_df.isna().sum()\n"
   ]
  },
  {
   "cell_type": "code",
   "execution_count": null,
   "metadata": {},
   "outputs": [],
   "source": [
    "disp_df.info()\n"
   ]
  },
  {
   "attachments": {},
   "cell_type": "markdown",
   "metadata": {},
   "source": [
    "## 3.2. Missing values"
   ]
  },
  {
   "attachments": {},
   "cell_type": "markdown",
   "metadata": {},
   "source": [
    "### Observations\n",
    "The variables with most ammount of zeros are:\n",
    "- **dswrf_s1_1**: Downward short-wave radiative flux average at the surface, at 12:00 UTC, normal to have a lot of zeros as it is not sunny at 12:00\n",
    "- **uswrf_s1_1**: Upward short-wave radiation at the surface, at 12:00 UTC, normal to have a lot of zeros as it is not sunny at 12:00\n",
    "- **apcp_s**: 3-Hour accumulated precipitation at the surface, as it is not raining every day, it is normal to have a lot of zeros\n",
    "- **tcdc_ea**: Total cloud cover over the entire depth of the atmosphere, as it is not cloudy every day, it is normal to have a lot of zeros"
   ]
  },
  {
   "attachments": {},
   "cell_type": "markdown",
   "metadata": {},
   "source": [
    "First, lets start by assigning the zeros to NaNs. By doing this we can visualize the varibles that take more values other than zero."
   ]
  },
  {
   "cell_type": "code",
   "execution_count": null,
   "metadata": {},
   "outputs": [],
   "source": [
    "disp_df_nan = disp_df.replace(0.0, np.nan)"
   ]
  },
  {
   "cell_type": "code",
   "execution_count": null,
   "metadata": {},
   "outputs": [],
   "source": [
    "# Sustitute 0.0 values with NaN and plot the name of the columns with missing values\n",
    "msno.bar(disp_df_nan, labels=True, fontsize=10)\n",
    "# Exporting image as png to ../data/img folder\n",
    "plt.savefig(\"../data/img/missing_values.png\")\n"
   ]
  },
  {
   "cell_type": "code",
   "execution_count": null,
   "metadata": {},
   "outputs": [],
   "source": [
    "\"\"\" Plotting the missing values in a matrix \"\"\"\n",
    "msno.matrix(disp_df_nan, labels=True, fontsize=10, color=(.3, .3, .3))\n",
    "# Exporting image as png to ../data/img folder\n",
    "plt.savefig(\"../data/img/missing_values_matrix.png\")\n"
   ]
  },
  {
   "cell_type": "code",
   "execution_count": null,
   "metadata": {},
   "outputs": [],
   "source": [
    "msno.heatmap(disp_df_nan, fontsize=10)\n",
    "# Exporting image as png to ../data/img folder\n",
    "plt.savefig(\"../data/img/missing_values_heatmap.png\")\n"
   ]
  },
  {
   "cell_type": "code",
   "execution_count": null,
   "metadata": {},
   "outputs": [],
   "source": [
    "\"\"\" Plotting the dendrogram \"\"\"\n",
    "msno.dendrogram(disp_df_nan, fontsize=10)\n",
    "# Exporting image as png to ../data/img folder\n",
    "plt.savefig(\"../data/img/missing_values_dendrogram.png\")"
   ]
  }
 ],
 "metadata": {
  "kernelspec": {
   "display_name": "Python 3",
   "language": "python",
   "name": "python3"
  },
  "language_info": {
   "codemirror_mode": {
    "name": "ipython",
    "version": 3
   },
   "file_extension": ".py",
   "mimetype": "text/x-python",
   "name": "python",
   "nbconvert_exporter": "python",
   "pygments_lexer": "ipython3",
   "version": "3.9.13"
  },
  "orig_nbformat": 4,
  "vscode": {
   "interpreter": {
    "hash": "b4c01c8f52586033bb4bb2bf4f864991e275e728809d596b5bf2a750c26b84f7"
   }
  }
 },
 "nbformat": 4,
 "nbformat_minor": 2
}
