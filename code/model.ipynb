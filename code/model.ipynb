{
 "cells": [
  {
   "attachments": {},
   "cell_type": "markdown",
   "metadata": {},
   "source": [
    "# Práctica 1. Aprendizaje Automático\n",
    "\n",
    "Authors: Carlos Iborra Llopis (100451170), Alejandra Galán Arrospide (100451273) <br>\n",
    "Link al repositorio de GitHub: https://github.com/carlosiborra/Grupo02-Practica1-AprendizajeAutomatico"
   ]
  },
  {
   "attachments": {},
   "cell_type": "markdown",
   "metadata": {},
   "source": [
    "# 0. Table of contents\n",
    "\n",
    "- [Práctica 1. Aprendizaje Automático](#práctica-1-aprendizaje-automático)\n",
    "  - [0. Table of contents](#0-table-of-contents)\n",
    "  - [1. Requirements](#1-requirements)\n",
    "  - [2. Reading the datasets](#2-reading-the-datasets)\n",
    "  - [3. Exploratory Data Analysis](#3-EDA)"
   ]
  },
  {
   "attachments": {},
   "cell_type": "markdown",
   "metadata": {},
   "source": [
    "# 1. Requirements\n"
   ]
  },
  {
   "cell_type": "code",
   "execution_count": 2,
   "metadata": {
    "notebookRunGroups": {
     "groupValue": "1"
    }
   },
   "outputs": [],
   "source": [
    "\"\"\" Importing necessary libraries \"\"\"\n",
    "import pandas as pd\n",
    "import numpy as np\n",
    "import matplotlib.pyplot as plt\n",
    "import missingno as msno\n",
    "import seaborn as sns\n",
    "import scipy.stats as st\n",
    "import scipy\n",
    "import sklearn\n",
    "\n",
    "from matplotlib.cbook import boxplot_stats as bps"
   ]
  },
  {
   "attachments": {},
   "cell_type": "markdown",
   "metadata": {},
   "source": [
    "### 1.1. Cleaning ../data/img/ folder\n",
    "This way we avoid creating multiple images and sending the old ones to the trash.<br>\n",
    "Also using this to upload cleaner commits to GitHub.\n"
   ]
  },
  {
   "cell_type": "code",
   "execution_count": 3,
   "metadata": {
    "notebookRunGroups": {
     "groupValue": "1"
    }
   },
   "outputs": [],
   "source": [
    "\"\"\" Cleaning the ../data/img/ folder \"\"\"\n",
    "import os\n",
    "import glob\n",
    "\n",
    "files = glob.glob(\"../data/img/*\")\n",
    "for f in files:\n",
    "    if os.path.isfile(f) and f.endswith(\".png\"):\n",
    "        os.remove(f)\n",
    "\n",
    "files = glob.glob(\"../data/img/box-plot/*\")\n",
    "for f in files:\n",
    "    if os.path.isfile(f) and f.endswith(\".png\"):\n",
    "        os.remove(f)"
   ]
  },
  {
   "attachments": {},
   "cell_type": "markdown",
   "metadata": {},
   "source": [
    "---\n",
    "# 2. Reading the datasets\n",
    "Reading the datasets from the bz2 files, group 2."
   ]
  },
  {
   "cell_type": "code",
   "execution_count": 4,
   "metadata": {
    "notebookRunGroups": {
     "groupValue": "1"
    }
   },
   "outputs": [],
   "source": [
    "\"\"\" Reading the dataset \"\"\"\n",
    "disp_df = pd.read_csv(\"../data/disp_st2ns1.txt.bz2\", compression=\"bz2\", index_col=0)\n",
    "comp_df = pd.read_csv(\"../data/comp_st2ns1.txt.bz2\", compression=\"bz2\", index_col=0)"
   ]
  },
  {
   "attachments": {},
   "cell_type": "markdown",
   "metadata": {},
   "source": [
    "---\n",
    "# 3. EDA"
   ]
  },
  {
   "attachments": {},
   "cell_type": "markdown",
   "metadata": {},
   "source": [
    "**Key Concepts of Exploratory Data Analysis**\n",
    "\n",
    "- **2 types of Data Analysis**\n",
    "  - Confirmatory Data Analysis\n",
    "  - Exploratory Data Analysis\n",
    "- **4 Objectives of EDA**\n",
    "  - Discover Patterns\n",
    "  - Spot Anomalies\n",
    "  - Frame Hypothesis\n",
    "  - Check Assumptions\n",
    "- **2 methods for exploration**\n",
    "  - Univariate Analysis\n",
    "  - Bivariate Analysis\n",
    "- **Stuff done during EDA**\n",
    "  - Trends\n",
    "  - Distribution\n",
    "  - Mean\n",
    "  - Median\n",
    "  - Outlier\n",
    "  - Spread measurement (SD)\n",
    "  - Correlations\n",
    "  - Hypothesis testing\n",
    "  - Visual Exploration\n"
   ]
  },
  {
   "attachments": {},
   "cell_type": "markdown",
   "metadata": {},
   "source": [
    "## 3.0. Dataset preparation\n",
    "\n",
    "To conduct exploratory data analysis (EDA) on our real data, we need to prepare the data first. Therefore, we have decided to separate the data into training and test sets at an early stage to avoid data leakage, which could result in an overly optimistic evaluation of the model, among other consequences. This separation will be done by dividing the data prematurely into training and test sets since potential data leakage can occur from the usage of the test partition, especially when including the result variable.\n",
    "\n",
    "It is important to note that this step is necessary because all the information obtained in this section will be used to make decisions such as dimensionality reduction. Furthermore, this approach makes the evaluation more realistic and rigorous since the test set is not used until the end of the process.\n",
    "\n",
    "\n"
   ]
  },
  {
   "cell_type": "code",
   "execution_count": null,
   "metadata": {},
   "outputs": [],
   "source": [
    "\"\"\" Train Test Split (time series) \"\"\"\n",
    "\n",
    "# * Make a copy of the dataframe (as Padas dataframe is mutable, therefore uses a reference)\n",
    "disp_df_copy = disp_df.copy()\n",
    "\n",
    "# print(disp_df)\n",
    "# print(disp_df_copy)\n",
    "\n",
    "# Now we make the train_x, train_y, test_x, test_y splits taking into account the time series\n",
    "# Note: the time series is ordered by date, therefore we need to split the data in a way that the train data is before the test data\n",
    "# Note: the 10 first years are used for training and the last two years for testing\n",
    "# Note: this is done because if not, we will be predicting the past from the future, which leads to errors and overfitting (data leakage) in the model\n",
    "\n",
    "# * Calculate the number of rows for training and testing\n",
    "num_rows = disp_df_copy.shape[0]\n",
    "num_train_rows = int(\n",
    "    num_rows * 10 / 12\n",
    ")  # 10 first years for training, 2 last years for testing\n",
    "\n",
    "# * Split the data into train and test dataframes (using iloc instead of train_test_split as it picks random rows)\n",
    "train_df = disp_df_copy.iloc[\n",
    "    :num_train_rows, :\n",
    "]  # train contains the first 10 years of rows\n",
    "test_df = disp_df_copy.iloc[\n",
    "    num_train_rows:, :\n",
    "]  # test contains the last 2 years of rows\n",
    "\n",
    "# Print the number of rows for each dataframe\n",
    "print(f\"Number of rows for training (EDA): {train_df.shape[0]}\")\n",
    "print(f\"Number of rows for testing: {test_df.shape[0]}\")\n",
    "\n",
    "\n",
    "# ! We maintain the original dataframe for later use (as we will divide it into train and test dataframes below)\n",
    "# ! For the EDA, we will use the train_df dataframe (with the outpout variable)."
   ]
  },
  {
   "attachments": {},
   "cell_type": "markdown",
   "metadata": {},
   "source": [
    "## 3.1. Dataset description\n",
    "\n",
    "- **apcp_sfc**: 3-Hour accumulated precipitation at the surface (kg·m⁽⁻²⁾)\n",
    "- **dlwrf_sfc**: Downward long-wave radiative flux average at the surface (W·m⁽⁻²⁾)\n",
    "- **dswrf_sfc**: Downward short-wave radiative flux average at the surface (W·m⁽⁻²⁾)\n",
    "- **pres_msl**: Air pressure at mean sea level (Pa)\n",
    "- **pwat_eatm**: Precipitable Water over the entire depth of the atmosphere (kg·m⁽⁻²⁾)\n",
    "- **spfh_2m**: Specific Humidity at 2 m above ground (kg·kg⁽⁻¹⁾)\n",
    "- **tcdc_eatm**: Total cloud cover over the entire depth of the atmosphere (%)\n",
    "- **tcolc_eatm**: Total column-integrated condensate over the entire atmos. (kg·m⁽⁻²⁾)\n",
    "- **tmax_2m**: Maximum Temperature over the past 3 hours at 2 m above the ground (K)\n",
    "- **tmin_2m**: Mininmum Temperature over the past 3 hours at 2 m above the ground (K)\n",
    "- **tmp_2m**: Current temperature at 2 m above the ground (K)\n",
    "- **tmp_sfc**: Temperature of the surface (K)\n",
    "- **ulwrf_sfc**: Upward long-wave radiation at the surface (W·m⁽⁻²⁾)\n",
    "- **ulwrf_tatm**: Upward long-wave radiation at the top of the atmosphere (W·m⁽⁻²⁾)\n",
    "- **uswrf_sfc**: Upward short-wave radiation at the surface (W·m⁽⁻²⁾)\n"
   ]
  },
  {
   "cell_type": "code",
   "execution_count": null,
   "metadata": {},
   "outputs": [],
   "source": [
    "# Display all the columns of the dataframe\n",
    "pd.set_option(\"display.max_columns\", None)\n",
    "\n",
    "train_df.describe()"
   ]
  },
  {
   "cell_type": "code",
   "execution_count": null,
   "metadata": {},
   "outputs": [],
   "source": [
    "train_df.shape"
   ]
  },
  {
   "cell_type": "code",
   "execution_count": null,
   "metadata": {},
   "outputs": [],
   "source": [
    "train_df.head()"
   ]
  },
  {
   "cell_type": "code",
   "execution_count": null,
   "metadata": {},
   "outputs": [],
   "source": [
    "train_df.info()"
   ]
  },
  {
   "attachments": {},
   "cell_type": "markdown",
   "metadata": {},
   "source": [
    "## 3.2. Missing values\n"
   ]
  },
  {
   "attachments": {},
   "cell_type": "markdown",
   "metadata": {},
   "source": [
    "Fist, we check the number the total number of missing values in the dataset in order to know if we have to clean the dataset or not."
   ]
  },
  {
   "cell_type": "code",
   "execution_count": null,
   "metadata": {},
   "outputs": [],
   "source": [
    "train_df.isna().sum()"
   ]
  },
  {
   "attachments": {},
   "cell_type": "markdown",
   "metadata": {},
   "source": [
    "As we can oberve, there are no missing values in the dataset, but theres still the possibility of having missing values measured as 0's, so we will check if all those zeros make sense in the context of the dataset or not."
   ]
  },
  {
   "cell_type": "code",
   "execution_count": null,
   "metadata": {},
   "outputs": [],
   "source": [
    "# In the plot, we can see that there are a lot of 0 values in the dataset\n",
    "train_df.plot(legend=False, figsize=(15, 5))"
   ]
  },
  {
   "cell_type": "code",
   "execution_count": null,
   "metadata": {},
   "outputs": [],
   "source": [
    "result = train_df.eq(0.0).sum() / len(train_df) * 100\n",
    "\n",
    "# Select those columns with more than 30% of zeros\n",
    "result = result[result > 30.0]\n",
    "result = result.sort_values(ascending=False)\n",
    "result"
   ]
  },
  {
   "cell_type": "markdown",
   "metadata": {},
   "source": []
  },
  {
   "attachments": {},
   "cell_type": "markdown",
   "metadata": {},
   "source": [
    "### Observations\n",
    "\n",
    "As output of the previous cell, we can see that there exist a lot of zeros in the dataset, let's analize if those zeros make sense or not.\n",
    "\n",
    "The variables with most ammount of zeros (>30%) are:\n",
    "\n",
    "- **dswrf_s1_1**: Downward short-wave radiative flux average at the surface, at 12:00 UTC, normal to have a lot of zeros as it is not sunny at 12:00\n",
    "- **uswrf_s1_1**: Upward short-wave radiation at the surface, at 12:00 UTC, normal to have a lot of zeros as it is not sunny at 12:00\n",
    "- **apcp_s**: 3-Hour accumulated precipitation at the surface, as it is not raining every day, it is normal to have a lot of zeros\n",
    "- **tcdc_ea**: Total cloud cover over the entire depth of the atmosphere, as it is not cloudy every day, it is normal to have a lot of zeros\n"
   ]
  },
  {
   "attachments": {},
   "cell_type": "markdown",
   "metadata": {},
   "source": [
    "First, lets start by assigning the zeros to NaNs. By doing this we can visualize the varibles that take more values other than zero.\n"
   ]
  },
  {
   "cell_type": "code",
   "execution_count": null,
   "metadata": {},
   "outputs": [],
   "source": [
    "disp_df_nan = train_df.replace(0.0, np.nan)"
   ]
  },
  {
   "cell_type": "code",
   "execution_count": null,
   "metadata": {},
   "outputs": [],
   "source": [
    "\"\"\" Plotting missing values \"\"\"\n",
    "# Sustitute 0.0 values with NaN and plot the name of the columns with missing values\n",
    "# ? msno.bar is a simple visualization of nullity by column\n",
    "msno.bar(disp_df_nan, labels=True, fontsize=7, figsize=(15, 7))\n",
    "\n",
    "# Exporting image as png to ../data/img folder\n",
    "plt.savefig(\"../data/img/missing_values_bar.png\")"
   ]
  },
  {
   "cell_type": "code",
   "execution_count": null,
   "metadata": {},
   "outputs": [],
   "source": [
    "\"\"\" Plotting the missing values in a matrix \"\"\"\n",
    "\n",
    "# ? The msno.matrix nullity matrix is a data-dense display which lets you quickly visually pick out patterns in data completion.\n",
    "msno.matrix(disp_df_nan)\n",
    "\n",
    "# Exporting image as png to ../data/img folder\n",
    "plt.savefig(\"../data/img/missing_values_matrix.png\")"
   ]
  },
  {
   "cell_type": "code",
   "execution_count": null,
   "metadata": {},
   "outputs": [],
   "source": [
    "\"\"\" Plotting the missing values in a heatmap \"\"\"\n",
    "# As in a hetmap not every value is shown, we must delimit the values to the ones with more than 30% of missing values\n",
    "result = disp_df.eq(0.0).sum() / len(disp_df) * 100\n",
    "result = result[result > 30.0]  # Select those columns with more than 30% of zeros\n",
    "result = result.sort_values(ascending=False)\n",
    "result = result.index.tolist()  # Convert to list\n",
    "result\n",
    "\n",
    "# ? The missingno correlation heatmap measures nullity correlation: how strongly the presence or absence of one variable affects the presence of another\n",
    "msno.heatmap(disp_df_nan[result], fontsize=7, figsize=(15, 7))\n",
    "\n",
    "# Exporting image as png to ../data/img folder\n",
    "plt.savefig(\"../data/img/missing_values_heatmap.png\")"
   ]
  },
  {
   "cell_type": "code",
   "execution_count": null,
   "metadata": {},
   "outputs": [],
   "source": [
    "\"\"\" Plotting the dendrogram \"\"\"\n",
    "\n",
    "# ? The dendrogram allows you to more fully correlate variable completion, revealing trends deeper than the pairwise ones visible in the correlation heatmap:\n",
    "msno.dendrogram(disp_df_nan, orientation=\"top\", fontsize=7, figsize=(15, 7))\n",
    "\n",
    "# Exporting image as png to ../data/img folder\n",
    "plt.savefig(\"../data/img/missing_values_dendrogram.png\")"
   ]
  },
  {
   "attachments": {},
   "cell_type": "markdown",
   "metadata": {
    "notebookRunGroups": {
     "groupValue": "1"
    }
   },
   "source": [
    "### Conclusions\n",
    "In this section, we have observe that there are no attibutes with 'Null' nor 'NaN' nor 'None' values. This indicated that at a first glance, the data is clean, at least of those datatypes.\n",
    "\n",
    "In second place, we have observed that the attributes that we suspected could have an important number of missing values (represented by 0 instead of the previously mentioned), had instead valuable information, as we have proved along this section.<br>Since the data is clean and we have concluded there are no missing values, we do not need to complete them using a model or other methods, so we can move on to the next step, observing the outliers."
   ]
  },
  {
   "attachments": {},
   "cell_type": "markdown",
   "metadata": {},
   "source": [
    "## 3.3. Outliers\n"
   ]
  },
  {
   "attachments": {},
   "cell_type": "markdown",
   "metadata": {},
   "source": [
    "Detecting outliers in a dataset before training a model is crucial because outliers can significantly affect the performance and accuracy of the model. Outliers are data points that deviate significantly from the rest of the dataset and can cause the model to learn incorrect patterns and relationships. When outliers are present in the data, they can also increase the variance of the model, which can result in overfitting. Overfitting occurs when the model fits too closely to the training data, leading to poor generalization to new data. Therefore, it is important to detect and handle outliers appropriately to ensure the model's accuracy and robustness."
   ]
  },
  {
   "cell_type": "code",
   "execution_count": null,
   "metadata": {},
   "outputs": [],
   "source": [
    "list_of_attributes = train_df.columns.values.tolist()\n",
    "#print(list_of_attributes)"
   ]
  },
  {
   "cell_type": "code",
   "execution_count": null,
   "metadata": {},
   "outputs": [],
   "source": [
    "# Boxplot with all attributes in the dataset\n",
    "# sns.boxplot(data=train_df, orient=\"h\")\n",
    "# plt.show()"
   ]
  },
  {
   "cell_type": "code",
   "execution_count": null,
   "metadata": {},
   "outputs": [],
   "source": [
    "train_df.describe()"
   ]
  },
  {
   "cell_type": "code",
   "execution_count": null,
   "metadata": {},
   "outputs": [],
   "source": [
    "train_df['apcp_sf1_1'].value_counts()"
   ]
  },
  {
   "attachments": {},
   "cell_type": "markdown",
   "metadata": {},
   "source": [
    "Here, by plotting the boxplots and making the outliers (fliers) visible, we are able to see some outliers in the dataset.<br>\n",
    "Take into account that the outliers are represented by the points outside the boxplot and they can be potentially wrong values or just values that are not usual in the dataset (ruido)."
   ]
  },
  {
   "attachments": {},
   "cell_type": "markdown",
   "metadata": {},
   "source": [
    "### 3.3.1. Histogram to identify outliers"
   ]
  },
  {
   "cell_type": "code",
   "execution_count": null,
   "metadata": {},
   "outputs": [],
   "source": [
    "\"\"\" Histogram showing the distribtuion of train_df to show the outliers \"\"\"\n",
    "plt.hist(train_df)\n",
    "plt.show()"
   ]
  },
  {
   "attachments": {},
   "cell_type": "markdown",
   "metadata": {},
   "source": [
    "### 3.3.2. Boxplot to identify outliers"
   ]
  },
  {
   "attachments": {},
   "cell_type": "markdown",
   "metadata": {},
   "source": [
    "With the objective of noticing the outliers on each attribute, we create a box-plot of each of the attributes "
   ]
  },
  {
   "cell_type": "code",
   "execution_count": null,
   "metadata": {},
   "outputs": [],
   "source": [
    "\"\"\" Plotting the boxplot for each attribute and getting the outliers of each attribute \"\"\"\n",
    "total_outliers = []\n",
    "# * We iterate over the list of attributes\n",
    "for attribute in list_of_attributes:\n",
    "    # * sns.regplot(x=train_df[attribute], y=train_df['total'], fit_reg=False)\n",
    "    sns.boxplot(data=train_df[attribute], x=train_df[attribute], orient=\"h\")\n",
    "    # * Use the command below to show each plot (small size for visualization sake)\n",
    "    # sns.set(rc={'figure.figsize':(1,.5)})\n",
    "    # plt.show()\n",
    "    # * All the images are saved in the folder ../data/img/box-plot\n",
    "    plt.savefig(f\"../data/img/box-plot/{str(attribute)}.png\")\n",
    "\n",
    "    # We obtain the a list of outliers for each attribute\n",
    "    list_of_outliers = train_df[attribute][train_df[attribute] > train_df[attribute].quantile(0.75) + 1.5*(train_df[attribute].quantile(0.75) - train_df[attribute].quantile(0.25))].tolist()\n",
    "    outliers = [f'{attribute} outliers'] + [len(list_of_outliers)] + [list_of_outliers]\n",
    "    # * In order to print the total number of outliers for each attribute\n",
    "    # print(f'{attribute} has {len(list_of_outliers)} outliers')\n",
    "    # ! Data structure: [attribute, number of outliers, list of outliers]\n",
    "    # print(outliers)\n",
    "    total_outliers.append(outliers)\n",
    "\n",
    "# print the first 2 elements of each element in the list -> [[atb, num],[atb, num],...]\n",
    "num_atb_outliers = 0\n",
    "for i in total_outliers:\n",
    "    if i[1] != 0:\n",
    "        num_atb_outliers += 1\n",
    "        print(f\"{i[0:2]}...\")\n",
    "        \n",
    "# Number of outliers != 0 for each attribute\n",
    "print(f\"Total number of atributes with outliers: {num_atb_outliers} / {len(total_outliers)-1}\")"
   ]
  },
  {
   "attachments": {},
   "cell_type": "markdown",
   "metadata": {},
   "source": [
    "We managed to create a list containing the name of the atribute, the number of outliers and the value of the outliers for each attribute, calculated by applying the IQR method.<br> This is relevant as we managed to create a 'total_outliers' variable that contains the list data structures of all the different outliers from all the attributes, so that it can be easily accessed in a future to remove the outliers from the dataset if needed for testing purposes.\n",
    "\n",
    "As suspected, we can see that **there are a lot of outliers in the dataset**, therefore it is plausible that some of them are noise, thus possibly being removed in a future model in order to improve it (either by hand or by selection in the preprocess pipeline).<br>Now, we need to analyze if they are the result of bad measurements or if they are significant data for the analysis.\n"
   ]
  },
  {
   "attachments": {},
   "cell_type": "markdown",
   "metadata": {},
   "source": [
    "Additionaly, as we will see later, this amount of outliers indicate us that probably a Robust Scaler will be more appropriate than using a Standard Scaler, as the Robust Scaler is more robust to outliers than the Standard Scaler, thus being more appropriate for this dataset model."
   ]
  },
  {
   "attachments": {},
   "cell_type": "markdown",
   "metadata": {},
   "source": [
    "### 3.3.3. Skewness and Kurtosis to identify outliers\n",
    "Skewness and kurtosis are commonly used to measure the shape of a distribution. Skewness measures the degree of asymmetry in the distribution, while kurtosis measures the degree of flatness in the distribution compared to a normal distribution.\n",
    "We will look for observations that are far from the central tendency of the distribution and may indicate the presence of extreme values or data points that do not fit the pattern of the majority of the data (which as expected, happens to be the case in this dataset)."
   ]
  },
  {
   "cell_type": "code",
   "execution_count": null,
   "metadata": {},
   "outputs": [],
   "source": [
    "\"\"\" Skewness \"\"\"\n",
    "# ? skewness: measure of the asymmetry of the probability distribution of a real-valued random variable about its mean.\n",
    "train_df.skew().sort_values(ascending=False)"
   ]
  },
  {
   "cell_type": "code",
   "execution_count": null,
   "metadata": {},
   "outputs": [],
   "source": [
    "\"\"\" Kurtosis \"\"\"\n",
    "# ? kurtosis: measure of whether the data are heavy-tailed or light-tailed relative to a normal distribution.\n",
    "train_df.kurt().sort_values(ascending=False)"
   ]
  },
  {
   "cell_type": "code",
   "execution_count": null,
   "metadata": {},
   "outputs": [],
   "source": [
    "y = train_df[\"apcp_sf4_1\"]\n",
    "plt.figure(1)\n",
    "plt.title(\"Normal\")\n",
    "sns.distplot(y, kde=True, fit=st.norm)\n",
    "plt.figure(2)\n",
    "plt.title(\"Log Normal\")\n",
    "sns.distplot(y, kde=True, fit=st.lognorm)"
   ]
  },
  {
   "cell_type": "code",
   "execution_count": null,
   "metadata": {},
   "outputs": [],
   "source": [
    "sns.distplot(train_df.skew(), color=\"blue\", axlabel=\"Skewness\")"
   ]
  },
  {
   "cell_type": "code",
   "execution_count": null,
   "metadata": {},
   "outputs": [],
   "source": [
    "plt.figure(figsize=(12, 8))\n",
    "sns.distplot(\n",
    "    train_df.kurt(), color=\"r\", axlabel=\"Kurtosis\", norm_hist=False, kde=True, rug=False\n",
    ")\n",
    "# plt.hist(train.kurt(),orientation = 'vertical',histtype = 'bar',label ='Kurtosis', color ='blue')\n",
    "plt.show()"
   ]
  },
  {
   "attachments": {},
   "cell_type": "markdown",
   "metadata": {},
   "source": [
    "## 3.4. Correlation\n"
   ]
  },
  {
   "attachments": {},
   "cell_type": "markdown",
   "metadata": {},
   "source": [
    "In this section we are getting information about the correlation of the variables between them. This information is valuable in order to make good decisions when deleting redundant attributes. Also note we are getting information about the correlation between each attribute and the solution variable. This allows us to know the most relevant attributes, making the best decisions when creating the different models.  "
   ]
  },
  {
   "cell_type": "code",
   "execution_count": null,
   "metadata": {},
   "outputs": [],
   "source": [
    "correlation = train_df.corr()\n",
    "correlation = abs(correlation)\n",
    "print(correlation.shape)  # 76 x 76 matrix of correlation values"
   ]
  },
  {
   "attachments": {},
   "cell_type": "markdown",
   "metadata": {},
   "source": [
    "### Getting the correlation matrix formatted into our own data structure\n",
    "This is done for the sake of simplicity and to be able to visualize the correlation matrix in a more intuitive way.\n"
   ]
  },
  {
   "cell_type": "code",
   "execution_count": null,
   "metadata": {},
   "outputs": [],
   "source": [
    "correlation_list = []\n",
    "\n",
    "for column in train_df.columns:\n",
    "    correlation.loc[:, column] = abs(\n",
    "        correlation.iloc[:, train_df.columns.get_loc(column)]\n",
    "    )\n",
    "    mask = correlation.loc[:, column] > 0.95\n",
    "    # print(correlation[column][mask].sort_values(ascending = False))\n",
    "\n",
    "    # Translate the comment below to English:\n",
    "    # we add the correlation values to a list of lists, which contains the names of the correlated columns and their correlation index\n",
    "\n",
    "    # The first segment adds the name of the column we are analyzing\n",
    "    # The second segment adds the names of the columns correlated (except the column we are analyzing) > 0.95\n",
    "    # The third segment adds the correlation index of the columns correlated (except the column we are analyzing) > 0.95\n",
    "    # Second and third segment are added to the first segment as a list of lists\n",
    "\n",
    "    # First we need to create a dictionary with the column names and their correlation values (except the column we are analyzing)\n",
    "    dict = {\n",
    "        key: value\n",
    "        for key, value in correlation.loc[column, mask]\n",
    "        .sort_values(ascending=False)\n",
    "        .iloc[1:]\n",
    "        .to_dict()\n",
    "        .items()\n",
    "    }\n",
    "    # print (dict)\n",
    "\n",
    "    # Then we create a list of lists with the column names and their correlation values from the dictionary created above\n",
    "    corr_list = [[key] + [value] for key, value in dict.items()]\n",
    "    # Finally we add the name of the column we are analyzing to the list of lists created above as the first element of the list (str)\n",
    "    corr_list.insert(0, [\"Columna: \" + column])\n",
    "\n",
    "    # ! Data structure: [[columna, [columna correlada 1, indice de correlacion], [columna correlada 2, indice de correlacion], ...], ...]\n",
    "    print(corr_list)\n",
    "\n",
    "    correlation_list += [corr_list]\n",
    "print(correlation_list)"
   ]
  },
  {
   "attachments": {},
   "cell_type": "markdown",
   "metadata": {},
   "source": [
    "### Correlation Heat Map"
   ]
  },
  {
   "cell_type": "code",
   "execution_count": null,
   "metadata": {},
   "outputs": [],
   "source": [
    "\"\"\" seaborne Correlation Heat Map \"\"\"\n",
    "# It needs to show all the columns\n",
    "fig, ax = plt.subplots(figsize=(19, 18))\n",
    "\n",
    "plt.title(\"Correlation Heat Map\", y=1)\n",
    "# We use blue color scale because it is easier to see the annotations and the correlation values\n",
    "sns.heatmap(\n",
    "    correlation,\n",
    "    square=True,\n",
    "    cmap=\"Blues\",\n",
    "    annot=True,\n",
    "    fmt=\".2f\",\n",
    "    annot_kws={\"size\": 4},\n",
    "    cbar_kws={\"shrink\": 0.5},\n",
    "    vmin=0.0,\n",
    "    vmax=1,\n",
    ")\n",
    "# We can modify vmax=0.95 in order to get same color scale for values with more than 0.95 correlation\n",
    "# Note: it delays around 15 seconds as it needs to plot a 76*76 matrix with its 5766 correlation values\n",
    "\n",
    "# Exporting image as png to ../data/img folder - easier to visualize the annotations, better resolution\n",
    "plt.savefig(\"../data/img/correlation_heatmap.png\", dpi=200)"
   ]
  },
  {
   "attachments": {},
   "cell_type": "markdown",
   "metadata": {},
   "source": [
    "We can observe clearly how there are a lot of correlations between the different attributes, which is expected as they are all weather related variables.<br> This is important to know as it will allow us to know which attributes are redundant and which ones are not, so that we can delete the redundant ones in order to improve the model. <br><br> Once obtained the most correlated columns of the dataset, we can plot them and visualize their correlation."
   ]
  },
  {
   "cell_type": "code",
   "execution_count": null,
   "metadata": {},
   "outputs": [],
   "source": [
    "# 1\n",
    "columns = ['apcp_sf1_1', 'apcp_sf2_1', 'apcp_sf3_1','apcp_sf4_1', 'apcp_sf5_1']\n",
    "\n",
    "sns.pairplot(train_df[columns], height = 1, kind ='scatter',diag_kind='kde')\n",
    "plt.show()"
   ]
  },
  {
   "cell_type": "code",
   "execution_count": null,
   "metadata": {},
   "outputs": [],
   "source": [
    "# 2\n",
    "columns = [ 'dlwrf_s1_1', 'dlwrf_s2_1', 'dlwrf_s3_1', 'dlwrf_s4_1', 'dlwrf_s5_1']\n",
    "\n",
    "sns.pairplot(train_df[columns], height = 1, kind ='scatter',diag_kind='kde')\n",
    "plt.show()"
   ]
  },
  {
   "cell_type": "code",
   "execution_count": null,
   "metadata": {},
   "outputs": [],
   "source": [
    "# 3\n",
    "columns = ['pwat_ea1_1', 'pwat_ea2_1','pwat_ea3_1','pwat_ea4_1','pwat_ea5_1', 'dlwrf_s1_1', 'dlwrf_s2_1', 'dlwrf_s3_1', 'dlwrf_s4_1', 'dlwrf_s5_1']\n",
    "\n",
    "sns.pairplot(train_df[columns], height = 1, kind ='scatter',diag_kind='kde')\n",
    "plt.show()"
   ]
  },
  {
   "cell_type": "code",
   "execution_count": null,
   "metadata": {},
   "outputs": [],
   "source": [
    "# 4\n",
    "columns = ['dswrf_s1_1', 'dswrf_s2_1', 'dswrf_s3_1', 'dswrf_s4_1', 'dswrf_s5_1']\n",
    "\n",
    "sns.pairplot(train_df[columns], height = 1, kind ='scatter',diag_kind='kde')\n",
    "plt.show()"
   ]
  },
  {
   "cell_type": "code",
   "execution_count": null,
   "metadata": {},
   "outputs": [],
   "source": [
    "# 5\n",
    "columns = ['dswrf_s1_1', 'dswrf_s2_1', 'dswrf_s3_1', 'dswrf_s4_1', 'dswrf_s5_1', 'uswrf_s1_1', 'uswrf_s2_1', 'uswrf_s3_1', 'uswrf_s4_1', 'uswrf_s5_1']\n",
    "\n",
    "sns.pairplot(train_df[columns], height = 1, kind ='scatter',diag_kind='kde')\n",
    "plt.show()"
   ]
  },
  {
   "cell_type": "code",
   "execution_count": null,
   "metadata": {},
   "outputs": [],
   "source": [
    "# 6\n",
    "columns = ['pres_ms1_1', 'pres_ms2_1', 'pres_ms3_1', 'pres_ms4_1', 'pres_ms5_1']\n",
    "\n",
    "sns.pairplot(train_df[columns], height = 1, kind ='scatter',diag_kind='kde')\n",
    "plt.show()"
   ]
  },
  {
   "cell_type": "code",
   "execution_count": null,
   "metadata": {},
   "outputs": [],
   "source": [
    "# 7\n",
    "columns = ['pwat_ea1_1', 'pwat_ea2_1','pwat_ea3_1','pwat_ea4_1','pwat_ea5_1', 'spfh_2m1_1', 'spfh_2m2_1', 'spfh_2m3_1', 'spfh_2m4_1', 'spfh_2m5_1']\n",
    "\n",
    "sns.pairplot(train_df[columns], height = 1, kind ='scatter',diag_kind='kde')\n",
    "plt.show()"
   ]
  },
  {
   "cell_type": "code",
   "execution_count": null,
   "metadata": {},
   "outputs": [],
   "source": [
    "# 8\n",
    "columns = ['spfh_2m1_1', 'spfh_2m2_1', 'spfh_2m3_1', 'spfh_2m4_1', 'spfh_2m5_1','ulwrf_s1_1', 'ulwrf_s2_1', 'ulwrf_s3_1', 'ulwrf_s4_1', 'ulwrf_s5_1']\n",
    "\n",
    "sns.pairplot(train_df[columns], height = 1, kind ='scatter',diag_kind='kde')\n",
    "plt.show()"
   ]
  },
  {
   "cell_type": "code",
   "execution_count": null,
   "metadata": {},
   "outputs": [],
   "source": [
    "# 9\n",
    "# columns = ['tmax_2m1_1', 'tmax_2m2_1', 'tmax_2m3_1', 'tmax_2m4_1', 'tmax_2m5_1', 'tmin_2m1_1', 'tmin_2m2_1', 'tmin_2m3_1', 'tmin_2m4_1', 'tmin_2m5_1','tmp_2m_1_1', 'tmp_2m_2_1', 'tmp_2m_3_1', 'tmp_2m_4_1', 'tmp_2m_5_1', 'tmp_sfc1_1', 'tmp_sfc2_1', 'tmp_sfc3_1', 'tmp_sfc4_1', 'tmp_sfc5_1','ulwrf_s1_1', 'ulwrf_s2_1', 'ulwrf_s3_1', 'ulwrf_s4_1', 'ulwrf_s5_1']\n",
    "\n",
    "# sns.pairplot(train_df[columns], height = 1 ,kind ='scatter',diag_kind='kde')\n",
    "# plt.show()"
   ]
  },
  {
   "cell_type": "code",
   "execution_count": null,
   "metadata": {},
   "outputs": [],
   "source": [
    "# 10\n",
    "columns = [\"ulwrf_t1_1\", \"ulwrf_t2_1\", \"ulwrf_t3_1\"]\n",
    "\n",
    "sns.pairplot(train_df[columns], height=1, kind=\"scatter\", diag_kind=\"kde\")\n",
    "plt.show()"
   ]
  },
  {
   "cell_type": "code",
   "execution_count": null,
   "metadata": {},
   "outputs": [],
   "source": [
    "# 11\n",
    "columns = ['ulwrf_t4_1', 'ulwrf_t5_1', ]\n",
    "\n",
    "sns.pairplot(train_df[columns], height = 1 ,kind ='scatter',diag_kind='kde')\n",
    "plt.show()\n"
   ]
  },
  {
   "cell_type": "code",
   "execution_count": null,
   "metadata": {},
   "outputs": [],
   "source": [
    "# 12\n",
    "columns = [\"uswrf_s2_1\", \"uswrf_s3_1\", \"uswrf_s4_1\", \"uswrf_s5_1\"]\n",
    "\n",
    "sns.pairplot(train_df[columns], height=1, kind=\"scatter\", diag_kind=\"kde\")\n",
    "plt.show()"
   ]
  },
  {
   "attachments": {},
   "cell_type": "markdown",
   "metadata": {},
   "source": [
    "In the graphs above, we can observe than the most correlated variables present a linear relationship between them. This shows as a diagonal in the graph, since both variables grow at the same time.<br>\n",
    "As we already commented, this is expected as the variables are all weather related, so it is normal that they are correlated and must be taken into account when creating the model (eliminating the redundant ones)."
   ]
  },
  {
   "attachments": {},
   "cell_type": "markdown",
   "metadata": {},
   "source": [
    "---\n",
    "# 4. Train-Test division \n",
    "\n",
    "Since we are working with a time dependent data, we need to avoid mixing it. Also, we are required to add the first 10 years of data to the train set and the last 2 years to the test set. This means we are assigning a 83.333333 percent of the data to train and a 16.66666666 to test.\n",
    "\n",
    "**Note**: This division was already done before the EDA. We overwrite it to start from a clean state."
   ]
  },
  {
   "attachments": {},
   "cell_type": "markdown",
   "metadata": {},
   "source": [
    "Note: `iloc` is useful when we want to split data based on the index or other criteria, while `train_test_split` is useful when wanting to randomly split data into training and testing subsets.<br>\n",
    "Therefore, we will use `iloc` to split the data into train and test sets as we are dealing with time dependent data."
   ]
  },
  {
   "cell_type": "code",
   "execution_count": 5,
   "metadata": {
    "notebookRunGroups": {
     "groupValue": "1"
    }
   },
   "outputs": [],
   "source": [
    "import time\n",
    "import matplotlib.pyplot as plt\n",
    "\n",
    "# Import the metrics from sklearn\n",
    "from sklearn.metrics import mean_squared_error, mean_absolute_error\n",
    "\n",
    "from sklearn.pipeline import Pipeline\n",
    "\n",
    "# As we have noted during the EDA, for this dataset full of outliers, its preferable to use the RobustScaler\n",
    "# Although this wont make a huge difference\n",
    "from sklearn.preprocessing import StandardScaler, RobustScaler\n",
    "\n",
    "from sklearn.feature_selection import SelectKBest, f_regression\n",
    "from sklearn.model_selection import TimeSeriesSplit, RandomizedSearchCV, GridSearchCV"
   ]
  },
  {
   "attachments": {},
   "cell_type": "markdown",
   "metadata": {},
   "source": [
    "## 4.1. Train-Test split"
   ]
  },
  {
   "cell_type": "code",
   "execution_count": 6,
   "metadata": {
    "notebookRunGroups": {
     "groupValue": "1"
    }
   },
   "outputs": [
    {
     "name": "stdout",
     "output_type": "stream",
     "text": [
      "Number of rows for training: 3650\n",
      "Number of rows for testing: 730\n",
      "(3650, 75) (3650,) (730, 75) (730,)\n"
     ]
    }
   ],
   "source": [
    "\"\"\" Train Test Split (time series) \"\"\"\n",
    "\n",
    "np.random.seed(10)\n",
    "\n",
    "# * Make a copy of the dataframe (as Padas dataframe is mutable, therefore uses a reference)\n",
    "disp_df_copy = disp_df.copy()\n",
    "\n",
    "# print(disp_df)\n",
    "# print(disp_df_copy)\n",
    "\n",
    "# Now we make the train_x, train_y, test_x, test_y splits taking into account the time series\n",
    "# Note: the time series is ordered by date, therefore we need to split the data in a way that the train data is before the test data\n",
    "# Note: the 10 first years are used for training and the last two years for testing\n",
    "# Note: this is done because if not, we will be predicting the past from the future, which leads to errors and overfitting (data leakage) in the model\n",
    "\n",
    "# * Calculate the number of rows for training and testing\n",
    "num_rows = disp_df_copy.shape[0]\n",
    "num_train_rows = int(\n",
    "    num_rows * 10 / 12\n",
    ")  # 10 first years for training, 2 last years for testing\n",
    "\n",
    "# * Split the data into train and test dataframes (using iloc instead of train_test_split as it picks random rows)\n",
    "train_df = disp_df_copy.iloc[\n",
    "    :num_train_rows, :\n",
    "]  # train contains the first 10 years of rows\n",
    "test_df = disp_df_copy.iloc[\n",
    "    num_train_rows:, :\n",
    "]  # test contains the last 2 years of rows\n",
    "\n",
    "# Print the number of rows for each dataframe\n",
    "print(f\"Number of rows for training: {train_df.shape[0]}\")\n",
    "print(f\"Number of rows for testing: {test_df.shape[0]}\")\n",
    "\n",
    "# Print the dataframes\n",
    "# print(train_df), print(test_df)\n",
    "\n",
    "# * Separate the input features and target variable for training and testing\n",
    "X_train = train_df.drop(\"salida\", axis=1)  # This is the input features for training\n",
    "y_train = train_df[\"salida\"]  # This is the target variable for training\n",
    "X_test = test_df.drop(\"salida\", axis=1)  # This is the input features for testing\n",
    "y_test = test_df[\"salida\"]  # This is the target variable for testing\n",
    "\n",
    "# Print the shapes of the dataframes\n",
    "print(X_train.shape, y_train.shape, X_test.shape, y_test.shape)"
   ]
  },
  {
   "attachments": {},
   "cell_type": "markdown",
   "metadata": {},
   "source": [
    "## 4.2. Train-Test RMSE and MAE function"
   ]
  },
  {
   "attachments": {},
   "cell_type": "markdown",
   "metadata": {},
   "source": [
    "This function enables us to analyze the level of overfitting in the model. To perform this analysis, we compare the results of the training dataset from the first fold created by the time-series split, with the validation results of the same fold. Note that by using the training and validation sets, we avoid using the test set for any analysis."
   ]
  },
  {
   "cell_type": "code",
   "execution_count": null,
   "metadata": {},
   "outputs": [],
   "source": [
    "np.random.seed(10)\n",
    "def train_and_test_folds (model,score, X_train, y_train, X_test, y_test, dic_folds):\n",
    "    # we print the type of the data X_train\n",
    "    print(type(X_train))\n",
    "    X_train2 = X_train.loc[X_train.index.isin(dic_folds[\"F1\"][0])]\n",
    "    y_train2 = y_train.loc[y_train.index.isin(dic_folds[\"F1\"][0])]\n",
    "\n",
    "    X_test2 = X_train.loc[X_train.index.isin(dic_folds[\"F1\"][1])]\n",
    "    y_test2 = y_train.loc[y_train.index.isin(dic_folds[\"F1\"][1])]\n",
    "    y_train_pred = model.predict(X_train2)\n",
    "    rmse_train = mean_squared_error(y_train2, y_train_pred, squared=False)\n",
    "    mae_train = mean_absolute_error(y_train2, y_train_pred)\n",
    "\n",
    "\n",
    "    y_test_pred = model.predict(X_test2)\n",
    "    rmse_test = mean_squared_error(y_test2, y_test_pred, squared=False)\n",
    "    mae_test = mean_absolute_error(y_test2, y_test_pred)\n",
    "\n",
    "\n",
    "    print(f\"Results of the best estimator of {model.__class__.__name__}\")\n",
    "    print(f\"NMAE in validation: {score:.2f}\")\n",
    "    print(f\"RMSE train: {rmse_train:.2f}\", f\"MAE train: {mae_train:.2f}\", sep=\"\\t\")\n",
    "    print(f\"RMSE test: {rmse_test:.2f}\", f\"MAE test: {mae_test:.2f}\", sep=\"\\t\")\n",
    "\n",
    "    # ! Train accuracy using scatter plot\n",
    "    plt.plot(X_train2.iloc[:, [0]], y_train2, \".\", label=\"train first fold\")\n",
    "    plt.plot(X_train2.iloc[:, [0]], y_train_pred, \"r.\", label=\"train first fold pred\")\n",
    "    plt.legend()\n",
    "    plt.show()\n",
    "\n",
    "    # ! Prediction errors using a histogram\n",
    "    # Calculate the difference between test predictions and test data\n",
    "    prediction_errors = y_train2 - y_train_pred\n",
    "    \n",
    "    plt.hist(prediction_errors, bins=25)\n",
    "    plt.xlabel('Prediction Errors')\n",
    "    plt.ylabel('Frequency')\n",
    "    plt.title(f'Prediction Errors (RMSE: {rmse_train:.2f}, MAE: {mae_train:.2f})')\n",
    "    plt.show()\n",
    "\n",
    "\n",
    "    # ! Test accuracy using scatter plot\n",
    "    plt.plot(X_test2.iloc[:, [0]], y_test2, \".\", label=\"validation first fold\")\n",
    "    plt.plot(X_test2.iloc[:, [0]], y_test_pred, \"r.\", label=\"validation first fold pred\")\n",
    "    plt.legend()\n",
    "    plt.show()\n",
    " \n",
    "    # ! Prediction errors using a histogram\n",
    "    # Calculate the difference between test predictions and test data\n",
    "    prediction_errors = y_test2 - y_test_pred\n",
    "\n",
    "    plt.hist(prediction_errors, bins=25)\n",
    "    plt.xlabel('Prediction Errors')\n",
    "    plt.ylabel('Frequency')\n",
    "    plt.title(f'Prediction Errors (RMSE: {rmse_test:.2f}, MAE: {mae_test:.2f})')\n",
    "    plt.show()\n",
    "\n",
    "    return [score, rmse_train, mae_train, rmse_test, mae_test]"
   ]
  },
  {
   "cell_type": "code",
   "execution_count": 7,
   "metadata": {
    "notebookRunGroups": {
     "groupValue": "1"
    }
   },
   "outputs": [],
   "source": [
    "np.random.seed(10)\n",
    "\n",
    "\n",
    "def train_and_test(model, score, X_train, y_train, X_test, y_test):\n",
    "    # Train\n",
    "    y_train_pred = model.predict(X_train)\n",
    "    rmse_train = mean_squared_error(y_train, y_train_pred, squared=False)\n",
    "    mae_train = mean_absolute_error(y_train, y_train_pred)\n",
    "\n",
    "    # Test\n",
    "    y_test_pred = model.predict(X_test)\n",
    "    rmse_test = mean_squared_error(y_test, y_test_pred, squared=False)\n",
    "    mae_test = mean_absolute_error(y_test, y_test_pred)\n",
    "\n",
    "    print(f\"Results of the best estimator of {model.__class__.__name__}\")\n",
    "    print(f\"NMAE in validation: {score:.2f}\")\n",
    "    print(f\"RMSE train: {rmse_train:.2f}\", f\"MAE train: {mae_train:.2f}\", sep=\"\\t\")\n",
    "    print(f\"RMSE test: {rmse_test:.2f}\", f\"MAE test: {mae_test:.2f}\", sep=\"\\t\")\n",
    "\n",
    "    # ! Train accuracy using scatter plot\n",
    "    # plt.plot(X_train.iloc[:, [0]], y_train, \".\", label=\"train\")\n",
    "    # plt.plot(X_train.iloc[:, [0]], y_train_pred, \"r.\", label=\"train pred\")\n",
    "    # plt.legend()\n",
    "    # plt.show()\n",
    "\n",
    "    # ! Prediction errors using a histogram\n",
    "    # Calculate the difference between test predictions and test data\n",
    "    prediction_errors = y_train - y_train_pred\n",
    "    \n",
    "    # plt.hist(prediction_errors, bins=25)\n",
    "    # plt.xlabel('Prediction Errors')\n",
    "    # plt.ylabel('Frequency')\n",
    "    # plt.title(f'Prediction Errors (RMSE: {rmse_train:.2f}, MAE: {mae_train:.2f})')\n",
    "    # plt.show()\n",
    "\n",
    "    \n",
    "    # ! Test accuracy using scatter plot\n",
    "    # plt.plot(X_test.iloc[:, [0]], y_test, \".\", label=\"test\")\n",
    "    # plt.plot(X_test.iloc[:, [0]], y_test_pred, \"r.\", label=\"test pred\")\n",
    "    # plt.legend()\n",
    "    # plt.show()\n",
    " \n",
    "    # ! Prediction errors using a histogram\n",
    "    # Calculate the difference between test predictions and test data\n",
    "    prediction_errors = y_test - y_test_pred\n",
    "\n",
    "    # plt.hist(prediction_errors, bins=25)\n",
    "    # plt.xlabel('Prediction Errors')\n",
    "    # plt.ylabel('Frequency')\n",
    "    # plt.title(f'Prediction Errors (RMSE: {rmse_test:.2f}, MAE: {mae_test:.2f})')\n",
    "    # plt.show()\n",
    "\n",
    "    return [score, rmse_train, mae_train, rmse_test, mae_test]"
   ]
  },
  {
   "attachments": {},
   "cell_type": "markdown",
   "metadata": {},
   "source": [
    "## 4.3. Print model results"
   ]
  },
  {
   "cell_type": "code",
   "execution_count": 8,
   "metadata": {
    "notebookRunGroups": {
     "groupValue": "1"
    }
   },
   "outputs": [],
   "source": [
    "def print_results(name, model, score, time):\n",
    "    print(\"---------------------------------------------------\")\n",
    "    print(f\"{name} best model is:\\n\\n{model}\")\n",
    "    print(\"\\nParameters:\", model.best_params_)\n",
    "\n",
    "    print(\n",
    "        f\"\\nPerformance: NMAE (val): {score[0]}\",\n",
    "        f\"RMSE train: {score[1]}\",\n",
    "        f\"MAE train: {score[2]}\",\n",
    "        f\"RMSE train: {score[3]}\",\n",
    "        f\"MAE test: {score[4]}\",\n",
    "        sep=\" | \",\n",
    "    )\n",
    "\n",
    "    print(f\"Execution time: {time}s\")"
   ]
  },
  {
   "attachments": {},
   "cell_type": "markdown",
   "metadata": {},
   "source": [
    "---\n",
    "# 5. Basic methods:"
   ]
  },
  {
   "attachments": {},
   "cell_type": "markdown",
   "metadata": {},
   "source": [
    "During this section, we will analyze the performance of three methods: KNN, Regression Trees, and Linear Regression. For each method, we will provide a predefined model and another model with selected hyper-parameters. Our hypothesis is that the selected models will provide better performance, while the predefined ones will be better in terms of timing.\n",
    "\n",
    "Please note that we will be using GridSearch with only one possibility (the predefined one) for the hyper-parameter to make it easier to create the predefined models. Additionally, we have decided to use RandomSearch for the selection of the parameters as it has been shown to provide good results with much less computing required."
   ]
  },
  {
   "cell_type": "code",
   "execution_count": 9,
   "metadata": {
    "notebookRunGroups": {
     "groupValue": "1"
    }
   },
   "outputs": [],
   "source": [
    "# Three dictionaries to store the results of the models\n",
    "models, results, times = {}, {}, {}"
   ]
  },
  {
   "attachments": {},
   "cell_type": "markdown",
   "metadata": {},
   "source": [
    "## 5.1. KNN\n"
   ]
  },
  {
   "attachments": {},
   "cell_type": "markdown",
   "metadata": {},
   "source": [
    "KNN (k-Nearest Neighbors) is a non-parametric algorithm used for classification and regression. It works by finding the k closest training examples in the feature space to a new input, and assigns the output value based on the majority class among the k neighbors in the case of classification or the average of the output values in the case of regression(our case). The value of k is a hyperparameter that must be chosen before training the model."
   ]
  },
  {
   "cell_type": "code",
   "execution_count": 10,
   "metadata": {
    "notebookRunGroups": {
     "groupValue": "1"
    }
   },
   "outputs": [],
   "source": [
    "from sklearn.neighbors import KNeighborsRegressor"
   ]
  },
  {
   "attachments": {},
   "cell_type": "markdown",
   "metadata": {},
   "source": [
    "### 5.1.1. KNN - Predefined parameters"
   ]
  },
  {
   "attachments": {},
   "cell_type": "markdown",
   "metadata": {},
   "source": [
    "#### 5.1.1.1. KNN - Predefined parameters - No attribute selection"
   ]
  },
  {
   "cell_type": "code",
   "execution_count": null,
   "metadata": {},
   "outputs": [],
   "source": [
    "#! NEW VERSION\n",
    "\n",
    "\n",
    "np.random.seed(10)\n",
    "n_splits = 5\n",
    "\n",
    "# Using a pipeline to scale the data and then apply the model\n",
    "pipeline = Pipeline(\n",
    "    [\n",
    "        (\"scale\", StandardScaler()),\n",
    "        # ('select', SelectKBest(f_regression)),\n",
    "        (\"model\", KNeighborsRegressor()),\n",
    "    ]\n",
    ")\n",
    "\n",
    "param_grid = {\n",
    "    \"model__n_neighbors\": [5],\n",
    "    \"model__weights\": [\"uniform\"],\n",
    "    \"model__metric\": [\"minkowski\"],\n",
    "    # 'select__k': list(range(1, X_train.shape[1]+1))\n",
    "}\n",
    "\n",
    "model = GridSearchCV(\n",
    "    pipeline,\n",
    "    param_grid,\n",
    "    scoring=\"neg_mean_absolute_error\",\n",
    "    cv=TimeSeriesSplit(\n",
    "        n_splits\n",
    "    ),  # We use TimeSeriesSplit to split the data in folds without losing the temporal order\n",
    ")\n",
    "\n",
    "start_time = time.time()\n",
    "model.fit(X=X_train, y=y_train)\n",
    "end_time = time.time()\n",
    "\n",
    "total_time = end_time - start_time\n",
    "\n",
    "# We calculate the subsets used for training and testing in the different folds of the cross-validation\n",
    "dict_folds = {}\n",
    "\n",
    "\n",
    "for n_splits, (train_index, test_index) in enumerate(model.cv.split(X_train)):\n",
    "    index = \"F\"+str(n_splits+1)\n",
    "    train_index_formatted = []\n",
    "    test_index_formatted = []\n",
    "    for i in range(len(train_index)):\n",
    "        train_index_formatted.append( 'V' + str(int(train_index[i]+1)))\n",
    "    \n",
    "    for i in range(len(test_index)):\n",
    "        test_index_formatted.append( 'V' + str(int(test_index[i]+1)))\n",
    "\n",
    "    dict_folds[index] = [train_index_formatted,test_index_formatted]\n",
    "score = train_and_test_folds( model.best_estimator_, model.best_score_, X_train, y_train, X_test, y_test, dict_folds)   \n",
    "\n",
    "models[\"KNN_pred\"] = model\n",
    "results[\"KNN_pred\"] = score\n",
    "times[\"KNN_pred\"] = total_time\n",
    "\n",
    "print_results(\"KNN PREDEFINED PARAMETERS\", model, score, total_time)\n"
   ]
  },
  {
   "cell_type": "code",
   "execution_count": 11,
   "metadata": {
    "notebookRunGroups": {
     "groupValue": "1"
    }
   },
   "outputs": [
    {
     "name": "stdout",
     "output_type": "stream",
     "text": [
      "Results of the best estimator of Pipeline\n",
      "NMAE in validation: -3239984.25\n",
      "RMSE train: 3517654.38\tMAE train: 2493007.22\n",
      "RMSE test: 4052918.05\tMAE test: 2932657.73\n",
      "---------------------------------------------------\n",
      "KNN PREDEFINED PARAMETERS best model is:\n",
      "\n",
      "GridSearchCV(cv=TimeSeriesSplit(gap=0, max_train_size=None, n_splits=5, test_size=None),\n",
      "             estimator=Pipeline(steps=[('scale', RobustScaler()),\n",
      "                                       ('model', KNeighborsRegressor())]),\n",
      "             param_grid={'model__algorithm': ['auto'],\n",
      "                         'model__metric': ['minkowski'],\n",
      "                         'model__n_neighbors': [5],\n",
      "                         'model__weights': ['uniform']},\n",
      "             scoring='neg_mean_absolute_error')\n",
      "\n",
      "Parameters: {'model__algorithm': 'auto', 'model__metric': 'minkowski', 'model__n_neighbors': 5, 'model__weights': 'uniform'}\n",
      "\n",
      "Performance: NMAE (val): -3239984.25 | RMSE train: 3517654.379918169 | MAE train: 2493007.2164383563 | RMSE train: 4052918.045996807 | MAE test: 2932657.7260273974\n",
      "Execution time: 0.2155897617340088s\n"
     ]
    }
   ],
   "source": [
    "np.random.seed(10)\n",
    "n_splits = 5\n",
    "\n",
    "pipeline = Pipeline(\n",
    "    [\n",
    "        (\"scale\", RobustScaler()),\n",
    "        (\"model\", KNeighborsRegressor()),\n",
    "    ]\n",
    ")\n",
    "\n",
    "param_grid = {\n",
    "    \"model__n_neighbors\": [5],\n",
    "    \"model__weights\": [\"uniform\"],\n",
    "    \"model__metric\": [\"minkowski\"],\n",
    "    \"model__algorithm\": [\"auto\"],\n",
    "}\n",
    "\n",
    "model = GridSearchCV(\n",
    "    pipeline,\n",
    "    param_grid,\n",
    "    scoring=\"neg_mean_absolute_error\",\n",
    "    cv=TimeSeriesSplit(\n",
    "        n_splits\n",
    "    ),\n",
    "    n_jobs=-1,\n",
    ")\n",
    "\n",
    "start_time = time.time()\n",
    "model.fit(X=X_train, y=y_train)\n",
    "end_time = time.time()\n",
    "\n",
    "total_time = end_time - start_time\n",
    "\n",
    "score = train_and_test(\n",
    "    model.best_estimator_, model.best_score_, X_train, y_train, X_test, y_test\n",
    ")\n",
    "\n",
    "models[\"KNN_pred\"] = model\n",
    "results[\"KNN_pred\"] = score\n",
    "times[\"KNN_pred\"] = total_time\n",
    "\n",
    "print_results(\"KNN PREDEFINED PARAMETERS\", model, score, total_time)"
   ]
  },
  {
   "attachments": {},
   "cell_type": "markdown",
   "metadata": {},
   "source": [
    "#### 5.1.1.2. KNN - Predefined parameters - Attribute selection"
   ]
  },
  {
   "cell_type": "code",
   "execution_count": 12,
   "metadata": {
    "notebookRunGroups": {
     "groupValue": "1"
    }
   },
   "outputs": [
    {
     "name": "stdout",
     "output_type": "stream",
     "text": [
      "Results of the best estimator of Pipeline\n",
      "NMAE in validation: -2690780.41\n",
      "RMSE train: 3108869.52\tMAE train: 2162755.27\n",
      "RMSE test: 3817678.94\tMAE test: 2636704.85\n",
      "---------------------------------------------------\n",
      "KNN PREDEFINED PARAMETERS best model is:\n",
      "\n",
      "GridSearchCV(cv=TimeSeriesSplit(gap=0, max_train_size=None, n_splits=5, test_size=None),\n",
      "             estimator=Pipeline(steps=[('scale', RobustScaler()),\n",
      "                                       ('select',\n",
      "                                        SelectKBest(score_func=<function f_regression at 0x7fbf8629ab90>)),\n",
      "                                       ('model', KNeighborsRegressor())]),\n",
      "             param_grid={'model__algorithm': ['auto'],\n",
      "                         'model__metric': ['minkowski'],\n",
      "                         'model__n_neighbors': [5],\n",
      "                         'model__weights': ['uniform'],\n",
      "                         'select__k': [1, 2, 3, 4, 5, 6, 7, 8, 9, 10, 11, 12,\n",
      "                                       13, 14, 15, 16, 17, 18, 19, 20, 21, 22,\n",
      "                                       23, 24, 25, 26, 27, 28, 29, 30, ...]},\n",
      "             scoring='neg_mean_absolute_error')\n",
      "\n",
      "Parameters: {'model__algorithm': 'auto', 'model__metric': 'minkowski', 'model__n_neighbors': 5, 'model__weights': 'uniform', 'select__k': 6}\n",
      "\n",
      "Performance: NMAE (val): -2690780.4078947366 | RMSE train: 3108869.5243311627 | MAE train: 2162755.2657534247 | RMSE train: 3817678.9396583214 | MAE test: 2636704.8493150687\n",
      "Execution time: 9.636045217514038s\n"
     ]
    }
   ],
   "source": [
    "np.random.seed(10)\n",
    "n_splits = 5\n",
    "\n",
    "# Using a pipeline to scale the data and then apply the model\n",
    "pipeline = Pipeline(\n",
    "    [\n",
    "        (\"scale\", RobustScaler()),\n",
    "        (\"select\", SelectKBest(f_regression)),\n",
    "        (\"model\", KNeighborsRegressor()),\n",
    "    ]\n",
    ")\n",
    "\n",
    "param_grid = {\n",
    "    \"model__n_neighbors\": [5],\n",
    "    \"model__weights\": [\"uniform\"],\n",
    "    \"model__metric\": [\"minkowski\"],\n",
    "    \"model__algorithm\": [\"auto\"],\n",
    "    \"select__k\": list(range(1, X_train.shape[1] + 1)),\n",
    "}\n",
    "\n",
    "model = GridSearchCV(\n",
    "    pipeline,\n",
    "    param_grid,\n",
    "    scoring=\"neg_mean_absolute_error\",\n",
    "    cv=TimeSeriesSplit(n_splits),\n",
    "    n_jobs=-1,\n",
    ")\n",
    "\n",
    "start_time = time.time()\n",
    "model.fit(X=X_train, y=y_train)\n",
    "end_time = time.time()\n",
    "\n",
    "total_time = end_time - start_time\n",
    "\n",
    "score = train_and_test(\n",
    "    model.best_estimator_, model.best_score_, X_train, y_train, X_test, y_test\n",
    ")\n",
    "\n",
    "models[\"KNN_pred_k\"] = model\n",
    "results[\"KNN_pred_k\"] = score\n",
    "times[\"KNN_pred_k\"] = total_time\n",
    "\n",
    "print_results(\"KNN PREDEFINED PARAMETERS\", model, score, total_time)"
   ]
  },
  {
   "attachments": {},
   "cell_type": "markdown",
   "metadata": {},
   "source": [
    "Since the NMAE is normalized by the mean absolute error of the test set, it is expected to be different from the MAE calculated directly using the mean_absolute_error function. The NMAE is a way to evaluate the performance of a model in a cross-validation setting, while the MAE is a direct measure of the model's performance on the training set.\n",
    "\n",
    "Therefore, as we can not use the results of RMSE nor MAE in test, we will use the NMAE scoring given in validation to select the best model (as it is a fairly correct aproximation)."
   ]
  },
  {
   "attachments": {},
   "cell_type": "markdown",
   "metadata": {},
   "source": [
    "###  5.1.2. KNN - Selected parameters"
   ]
  },
  {
   "attachments": {},
   "cell_type": "markdown",
   "metadata": {},
   "source": [
    "As seen during the EDA, we have a lot of outliers in the dataset, so we will use a Robust Scaler to scale the data, as it is more robust to outliers than the Standard Scaler or the MinMax Scaler."
   ]
  },
  {
   "attachments": {},
   "cell_type": "markdown",
   "metadata": {},
   "source": [
    "In order to make the process of comparing the Selected parameters with the Predefined parameters, we will create two different models, one for each set of parameters, created one from another with the best parameters found in the previous step and a pipeline with the preprocessing steps."
   ]
  },
  {
   "attachments": {},
   "cell_type": "markdown",
   "metadata": {},
   "source": [
    "#### 5.1.2.1. KNN - Selected parameters - No attribute selection"
   ]
  },
  {
   "attachments": {},
   "cell_type": "markdown",
   "metadata": {},
   "source": [
    "For this model, as explained in the introduction of the section, the main parameter is the number of neighbors considered. Additionally, we have decided to add other relevant parameters that should be chosen:\n",
    "\n",
    "- The metric: KNN is a model based on the distances of the data points, so the way we measure this distance affects the results.\n",
    "- The weights: We can decide whether we give the same importance to all neighbors or if the closest neighbors should have a greater impact on the result."
   ]
  },
  {
   "cell_type": "code",
   "execution_count": 13,
   "metadata": {
    "notebookRunGroups": {
     "groupValue": "1"
    }
   },
   "outputs": [
    {
     "name": "stdout",
     "output_type": "stream",
     "text": [
      "Results of the best estimator of Pipeline\n",
      "NMAE in validation: -2880131.56\n",
      "RMSE train: 0.00\tMAE train: 0.00\n",
      "RMSE test: 3565366.01\tMAE test: 2558754.34\n",
      "---------------------------------------------------\n",
      "KNN SELECTED PARAMETERS best model is:\n",
      "\n",
      "RandomizedSearchCV(cv=TimeSeriesSplit(gap=0, max_train_size=None, n_splits=5, test_size=None),\n",
      "                   estimator=Pipeline(steps=[('scaler', RobustScaler()),\n",
      "                                             ('model', KNeighborsRegressor())]),\n",
      "                   n_iter=75,\n",
      "                   param_distributions={'model__algorithm': ['auto',\n",
      "                                                             'ball_tree',\n",
      "                                                             'kd_tree',\n",
      "                                                             'brute'],\n",
      "                                        'model__metric': ['euclidean',\n",
      "                                                          'manhattan',\n",
      "                                                          'minkowski',\n",
      "                                                          'chebyshev'],\n",
      "                                        'model__n_neighbors': [1, 3, 5, 7, 9,\n",
      "                                                               11, 13, 15, 17,\n",
      "                                                               19, 21, 23, 25,\n",
      "                                                               27, 29, 31, 33,\n",
      "                                                               35, 37, 39, 41,\n",
      "                                                               43, 45, 47, 49],\n",
      "                                        'model__weights': ['uniform',\n",
      "                                                           'distance']},\n",
      "                   scoring='neg_mean_absolute_error')\n",
      "\n",
      "Parameters: {'model__weights': 'distance', 'model__n_neighbors': 17, 'model__metric': 'manhattan', 'model__algorithm': 'kd_tree'}\n",
      "\n",
      "Performance: NMAE (val): -2880131.5631625694 | RMSE train: 0.0 | MAE train: 0.0 | RMSE train: 3565366.01276105 | MAE test: 2558754.341563862\n",
      "Execution time: 21.66078281402588s\n"
     ]
    }
   ],
   "source": [
    "np.random.seed(10)\n",
    "budget = 75\n",
    "n_splits = 5\n",
    "\n",
    "pipeline = Pipeline(\n",
    "    [\n",
    "        (\"scaler\", RobustScaler()),\n",
    "        (\"model\", KNeighborsRegressor()),\n",
    "    ]\n",
    ")\n",
    "\n",
    "param_grid = {\n",
    "    \"model__n_neighbors\": list(range(1, 50, 2)),\n",
    "    \"model__weights\": [\"uniform\", \"distance\"],\n",
    "    \"model__metric\": [\"euclidean\", \"manhattan\", \"minkowski\", \"chebyshev\"],\n",
    "    \"model__algorithm\": [\"auto\", \"ball_tree\", \"kd_tree\", \"brute\"],\n",
    "}\n",
    "\n",
    "model = RandomizedSearchCV(\n",
    "    pipeline,\n",
    "    param_grid,\n",
    "    scoring=\"neg_mean_absolute_error\",\n",
    "    cv=TimeSeriesSplit(\n",
    "        n_splits\n",
    "    ),  # TimeSeriesSplit to split the data in folds without losing the temporal order\n",
    "    n_iter=budget,\n",
    "    n_jobs=-1,\n",
    ")\n",
    "\n",
    "start_time = time.time()\n",
    "model.fit(X=X_train, y=y_train)\n",
    "end_time = time.time()\n",
    "\n",
    "total_time = end_time - start_time\n",
    "\n",
    "score = train_and_test(\n",
    "    model.best_estimator_, model.best_score_, X_train, y_train, X_test, y_test\n",
    ")\n",
    "\n",
    "models[\"KNN_select\"] = model\n",
    "results[\"KNN_select\"] = score\n",
    "times[\"KNN_select\"] = total_time\n",
    "\n",
    "print_results(\"KNN SELECTED PARAMETERS\", model, score, total_time)"
   ]
  },
  {
   "attachments": {},
   "cell_type": "markdown",
   "metadata": {},
   "source": [
    "#### 5.1.2.2. KNN - Selected parameters - Attribute selection"
   ]
  },
  {
   "cell_type": "code",
   "execution_count": 14,
   "metadata": {
    "notebookRunGroups": {
     "groupValue": "1"
    }
   },
   "outputs": [
    {
     "name": "stdout",
     "output_type": "stream",
     "text": [
      "Results of the best estimator of Pipeline\n",
      "NMAE in validation: -2620137.86\n",
      "RMSE train: 0.00\tMAE train: 0.00\n",
      "RMSE test: 3573786.29\tMAE test: 2470235.34\n",
      "---------------------------------------------------\n",
      "KNN SELECTED PARAMETERS best model is:\n",
      "\n",
      "GridSearchCV(cv=TimeSeriesSplit(gap=0, max_train_size=None, n_splits=5, test_size=None),\n",
      "             estimator=Pipeline(steps=[('scaler', RobustScaler()),\n",
      "                                       ('select',\n",
      "                                        SelectKBest(score_func=<function f_regression at 0x7fbf8629ab90>)),\n",
      "                                       ('model', KNeighborsRegressor())]),\n",
      "             n_jobs=-1,\n",
      "             param_grid={'model__algorithm': ['kd_tree'],\n",
      "                         'model__metric': ['minkowski'],\n",
      "                         'model__n_neighbors': [9],\n",
      "                         'model__weights': ['distance'],\n",
      "                         'select__k': [1, 2, 3, 4, 5, 6, 7, 8, 9, 10, 11, 12,\n",
      "                                       13, 14, 15, 16, 17, 18, 19, 20, 21, 22,\n",
      "                                       23, 24, 25, 26, 27, 28, 29, 30, ...]},\n",
      "             scoring='neg_mean_absolute_error')\n",
      "\n",
      "Parameters: {'model__algorithm': 'kd_tree', 'model__metric': 'minkowski', 'model__n_neighbors': 9, 'model__weights': 'distance', 'select__k': 8}\n",
      "\n",
      "Performance: NMAE (val): -2620137.8590261317 | RMSE train: 0.0 | MAE train: 0.0 | RMSE train: 3573786.2885428783 | MAE test: 2470235.3428950827\n",
      "Execution time: 5.894104719161987s\n"
     ]
    }
   ],
   "source": [
    "# Now, we will use the previously calculated best model to add the selection of attributes through the SelectKBest function in the pipeline\n",
    "np.random.seed(10)\n",
    "n_splits = 5\n",
    "\n",
    "\n",
    "pipeline = Pipeline(\n",
    "    [\n",
    "        (\"scaler\", RobustScaler()),\n",
    "        (\"select\", SelectKBest(f_regression)),\n",
    "        (\"model\", KNeighborsRegressor()),\n",
    "    ]\n",
    ")\n",
    "\n",
    "# Previous best model had as parameters: {'model__weights': 'distance', 'model__n_neighbors': 9, 'model__metric': 'manhattan'}\n",
    " \n",
    "param_grid = {\n",
    "    \"model__n_neighbors\": [9],\n",
    "    \"model__weights\": [\"distance\"],\n",
    "    \"model__metric\": [\"minkowski\"],\n",
    "    \"model__algorithm\": [\"kd_tree\"],\n",
    "    \"select__k\": list(range(1, X_train.shape[1] + 1)),\n",
    "}\n",
    "\n",
    "model = GridSearchCV(\n",
    "    pipeline,\n",
    "    param_grid,\n",
    "    scoring=\"neg_mean_absolute_error\",\n",
    "    cv=TimeSeriesSplit(\n",
    "        n_splits\n",
    "    ),\n",
    "    n_jobs=-1,\n",
    ")\n",
    "\n",
    "start_time = time.time()\n",
    "model.fit(X=X_train, y=y_train)\n",
    "end_time = time.time()\n",
    "\n",
    "total_time = end_time - start_time\n",
    "\n",
    "score = train_and_test(\n",
    "    model.best_estimator_, model.best_score_, X_train, y_train, X_test, y_test\n",
    ")\n",
    "\n",
    "models[\"KNN_select_k\"] = model\n",
    "results[\"KNN_select_k\"] = score\n",
    "times[\"KNN_select_k\"] = total_time\n",
    "\n",
    "print_results(\"KNN SELECTED PARAMETERS\", model, score, total_time)"
   ]
  },
  {
   "attachments": {},
   "cell_type": "markdown",
   "metadata": {},
   "source": [
    "## 5.2 Regression Trees"
   ]
  },
  {
   "attachments": {},
   "cell_type": "markdown",
   "metadata": {},
   "source": [
    "Trees work by recursively partitioning the data into subsets based on the values of their features, creating a tree-like structure that maps each set of features to a predicted target value. Each node in the tree represents a feature, and each branch represents a decision rule based on the value of that feature. The goal is to split the data in a way that creates the most homogeneous subsets with respect to the target variable. Once the tree is constructed, it can be used to make predictions on new data by following the decision rules down the tree until a leaf node is reached, which contains the predicted target value."
   ]
  },
  {
   "attachments": {},
   "cell_type": "markdown",
   "metadata": {},
   "source": [
    "Note: In trees (both regression trees and random forests), it is not necessary to scale the data, as the algorithm is not sensitive to the scale of the data."
   ]
  },
  {
   "cell_type": "code",
   "execution_count": 15,
   "metadata": {
    "notebookRunGroups": {
     "groupValue": "1"
    }
   },
   "outputs": [],
   "source": [
    "from sklearn.tree import DecisionTreeRegressor"
   ]
  },
  {
   "attachments": {},
   "cell_type": "markdown",
   "metadata": {},
   "source": [
    "### 5.2.1. Regression Trees - Predefined parameters"
   ]
  },
  {
   "attachments": {},
   "cell_type": "markdown",
   "metadata": {},
   "source": [
    "#### 5.2.1.1. Regression Trees - Predefined parameters - No attribute selection"
   ]
  },
  {
   "cell_type": "code",
   "execution_count": 16,
   "metadata": {
    "notebookRunGroups": {
     "groupValue": "1"
    }
   },
   "outputs": [
    {
     "name": "stdout",
     "output_type": "stream",
     "text": [
      "Results of the best estimator of Pipeline\n",
      "NMAE in validation: -3467149.44\n",
      "RMSE train: 0.00\tMAE train: 0.00\n",
      "RMSE test: 4415298.67\tMAE test: 3096676.85\n",
      "Grid scores on development set:\n",
      "[-3467149.44078947] [354807.01638332]\n",
      "---------------------------------------------------\n",
      "REGRESSION TREES PREDEFINED PARAMETERS best model is:\n",
      "\n",
      "GridSearchCV(cv=TimeSeriesSplit(gap=0, max_train_size=None, n_splits=5, test_size=None),\n",
      "             estimator=Pipeline(steps=[('model',\n",
      "                                        DecisionTreeRegressor(random_state=1))]),\n",
      "             n_jobs=-1,\n",
      "             param_grid={'model__criterion': ['squared_error'],\n",
      "                         'model__max_depth': [None],\n",
      "                         'model__max_features': [None],\n",
      "                         'model__min_samples_split': [2]},\n",
      "             scoring='neg_mean_absolute_error')\n",
      "\n",
      "Parameters: {'model__criterion': 'squared_error', 'model__max_depth': None, 'model__max_features': None, 'model__min_samples_split': 2}\n",
      "\n",
      "Performance: NMAE (val): -3467149.4407894737 | RMSE train: 0.0 | MAE train: 0.0 | RMSE train: 4415298.670843619 | MAE test: 3096676.8493150687\n",
      "Execution time: 0.5558083057403564s\n"
     ]
    }
   ],
   "source": [
    "np.random.seed(10)\n",
    "n_splits = 5\n",
    "\n",
    "pipeline = Pipeline(\n",
    "    [\n",
    "        (\"model\", DecisionTreeRegressor(random_state=1)),\n",
    "    ]\n",
    ")\n",
    "\n",
    "param_grid = {\n",
    "    \"model__criterion\": [\"squared_error\"],\n",
    "    \"model__max_depth\": [None],\n",
    "    \"model__min_samples_split\": [2],\n",
    "    \"model__max_features\": [None],\n",
    "}\n",
    "\n",
    "model = GridSearchCV(\n",
    "    pipeline,\n",
    "    param_grid,\n",
    "    scoring=\"neg_mean_absolute_error\",\n",
    "    cv=TimeSeriesSplit(n_splits),\n",
    "    n_jobs=-1,\n",
    ")\n",
    "\n",
    "\n",
    "start_time = time.time()\n",
    "model.fit(X=X_train, y=y_train)\n",
    "end_time = time.time()\n",
    "\n",
    "total_time = end_time - start_time\n",
    "\n",
    "score = train_and_test(\n",
    "    model.best_estimator_, model.best_score_, X_train, y_train, X_test, y_test\n",
    ")\n",
    "# Print the different grid scores\n",
    "print(\"Grid scores on development set:\")\n",
    "print(model.cv_results_[\"mean_test_score\"], model.cv_results_[\"std_test_score\"])\n",
    "\n",
    "models[\"RegTrees_pred\"] = model\n",
    "results[\"RegTrees_pred\"] = score\n",
    "times[\"RegTrees_pred\"] = total_time\n",
    "\n",
    "print_results(\"REGRESSION TREES PREDEFINED PARAMETERS\", model, score, total_time)"
   ]
  },
  {
   "attachments": {},
   "cell_type": "markdown",
   "metadata": {},
   "source": [
    "#### 5.2.1.2. Regression Trees - Predefined parameters - Attribute selection"
   ]
  },
  {
   "cell_type": "code",
   "execution_count": 17,
   "metadata": {
    "notebookRunGroups": {
     "groupValue": "1"
    }
   },
   "outputs": [
    {
     "name": "stdout",
     "output_type": "stream",
     "text": [
      "Results of the best estimator of Pipeline\n",
      "NMAE in validation: -3328832.17\n",
      "RMSE train: 0.00\tMAE train: 0.00\n",
      "RMSE test: 4436486.02\tMAE test: 3133033.15\n",
      "---------------------------------------------------\n",
      "REGRESSION TREES PREDEFINED PARAMETERS best model is:\n",
      "\n",
      "GridSearchCV(cv=TimeSeriesSplit(gap=0, max_train_size=None, n_splits=5, test_size=None),\n",
      "             estimator=Pipeline(steps=[('select',\n",
      "                                        SelectKBest(score_func=<function f_regression at 0x7fbf8629ab90>)),\n",
      "                                       ('model',\n",
      "                                        DecisionTreeRegressor(random_state=1))]),\n",
      "             n_jobs=-1,\n",
      "             param_grid={'model__criterion': ['squared_error'],\n",
      "                         'model__max_depth': [None],\n",
      "                         'model__max_features': [None],\n",
      "                         'model__min_samples_split': [2],\n",
      "                         'select__k': [1, 2, 3, 4, 5, 6, 7, 8, 9, 10, 11, 12,\n",
      "                                       13, 14, 15, 16, 17, 18, 19, 20, 21, 22,\n",
      "                                       23, 24, 25, 26, 27, 28, 29, 30, ...]},\n",
      "             scoring='neg_mean_absolute_error')\n",
      "\n",
      "Parameters: {'model__criterion': 'squared_error', 'model__max_depth': None, 'model__max_features': None, 'model__min_samples_split': 2, 'select__k': 74}\n",
      "\n",
      "Performance: NMAE (val): -3328832.171052632 | RMSE train: 0.0 | MAE train: 0.0 | RMSE train: 4436486.024386344 | MAE test: 3133033.1506849313\n",
      "Execution time: 2.886359453201294s\n"
     ]
    }
   ],
   "source": [
    "np.random.seed(10)\n",
    "n_splits = 5\n",
    "\n",
    "pipeline = Pipeline(\n",
    "    [\n",
    "        ('select', SelectKBest(f_regression)),\n",
    "        (\"model\", DecisionTreeRegressor(random_state=1)),\n",
    "    ]\n",
    ")\n",
    "\n",
    "param_grid = {\n",
    "    \"model__criterion\": [\"squared_error\"],\n",
    "    \"model__max_depth\": [None],\n",
    "    \"model__min_samples_split\": [2],\n",
    "    \"model__max_features\": [None],\n",
    "    \"select__k\": list(range(1, X_train.shape[1] + 1)),\n",
    "}\n",
    "\n",
    "model = GridSearchCV(\n",
    "    pipeline,\n",
    "    param_grid,\n",
    "    scoring=\"neg_mean_absolute_error\",\n",
    "    cv=TimeSeriesSplit(n_splits),\n",
    "    n_jobs=-1,\n",
    ")\n",
    "\n",
    "\n",
    "start_time = time.time()\n",
    "model.fit(X=X_train, y=y_train)\n",
    "end_time = time.time()\n",
    "\n",
    "total_time = end_time - start_time\n",
    "\n",
    "score = train_and_test(\n",
    "    model.best_estimator_, model.best_score_, X_train, y_train, X_test, y_test\n",
    ")\n",
    "\n",
    "models[\"RegTrees_pred_k\"] = model\n",
    "results[\"RegTrees_pred_k\"] = score\n",
    "times[\"RegTrees_pred_k\"] = total_time\n",
    "\n",
    "print_results(\"REGRESSION TREES PREDEFINED PARAMETERS\", model, score, total_time)"
   ]
  },
  {
   "attachments": {},
   "cell_type": "markdown",
   "metadata": {},
   "source": [
    "#### Note\n",
    "\n",
    "As we can see, the default model is clearly overfitting, as indicated by the 0 error for the train section and a high error for the test section. This is likely due to the lack of control over the maximum depth of the tree, combined with a small minimum sample split that leaves only one sample in each leaf. This causes the model to memorize each data point, leading to poor generalization performance.\n"
   ]
  },
  {
   "attachments": {},
   "cell_type": "markdown",
   "metadata": {},
   "source": [
    "### 5.2.2. Regression Trees - Selected parameters"
   ]
  },
  {
   "attachments": {},
   "cell_type": "markdown",
   "metadata": {},
   "source": [
    "Building upon the previous definition, we can reduce the most important parameters to be ajusted to the following:\n",
    "- max_features : controls the numberof features ( or attributes ) used in the tree. \n",
    "- min_samples-split : controls the minumum number of instances a leafe must have in order to be able to subdivide. This parameter can prevent the tree from overfitting. \n",
    "- max-depth : This parammeter also helps to prevent overfitting by stoping the tree from subdividing to much. "
   ]
  },
  {
   "attachments": {},
   "cell_type": "markdown",
   "metadata": {},
   "source": [
    "#### 5.2.2.1. Regression Trees - Selected parameters - No attribute selection"
   ]
  },
  {
   "cell_type": "code",
   "execution_count": 18,
   "metadata": {
    "notebookRunGroups": {
     "groupValue": "1"
    }
   },
   "outputs": [
    {
     "name": "stdout",
     "output_type": "stream",
     "text": [
      "Results of the best estimator of Pipeline\n",
      "NMAE in validation: -2743220.58\n",
      "RMSE train: 3259190.45\tMAE train: 2080612.60\n",
      "RMSE test: 3751318.58\tMAE test: 2517586.23\n",
      "---------------------------------------------------\n",
      "REGRESSION TREES SELECTED PARAMETERS best model is:\n",
      "\n",
      "RandomizedSearchCV(cv=TimeSeriesSplit(gap=0, max_train_size=None, n_splits=5, test_size=None),\n",
      "                   estimator=Pipeline(steps=[('model',\n",
      "                                              DecisionTreeRegressor(random_state=1))]),\n",
      "                   n_iter=75, n_jobs=-1,\n",
      "                   param_distributions={'model__criterion': ['absolute_error',\n",
      "                                                             'squared_error'],\n",
      "                                        'model__max_depth': [5, 10, 15, 20, 25,\n",
      "                                                             30, 35, 40, 45, 50,\n",
      "                                                             55, 60],\n",
      "                                        'model__max_features': ['sqrt', 'log2',\n",
      "                                                                None],\n",
      "                                        'model__min_samples_split': [5, 6, 7, 8,\n",
      "                                                                     9, 10, 11,\n",
      "                                                                     12, 13, 14,\n",
      "                                                                     15, 16, 17,\n",
      "                                                                     18, 19, 20,\n",
      "                                                                     21, 22, 23,\n",
      "                                                                     24, 25, 26,\n",
      "                                                                     27, 28, 29,\n",
      "                                                                     30, 31, 32,\n",
      "                                                                     33, 34, ...]},\n",
      "                   scoring='neg_mean_absolute_error')\n",
      "\n",
      "Parameters: {'model__min_samples_split': 106, 'model__max_features': None, 'model__max_depth': 30, 'model__criterion': 'absolute_error'}\n",
      "\n",
      "Performance: NMAE (val): -2743220.575657895 | RMSE train: 3259190.446254432 | MAE train: 2080612.602739726 | RMSE train: 3751318.579863181 | MAE test: 2517586.2328767125\n",
      "Execution time: 16.169135332107544s\n"
     ]
    }
   ],
   "source": [
    "np.random.seed(10)\n",
    "budget = 75\n",
    "n_splits = 5\n",
    "\n",
    "pipeline = Pipeline(\n",
    "    [\n",
    "        (\"model\", DecisionTreeRegressor(random_state=1))\n",
    "    ]\n",
    ")\n",
    "\n",
    "param_grid = {\n",
    "    \"model__criterion\": [\"absolute_error\", \"squared_error\"],\n",
    "    \"model__max_depth\": list(range(5, 61, 5)),\n",
    "    \"model__min_samples_split\": list(range(5, 200)),\n",
    "    \"model__max_features\": [\"sqrt\", \"log2\", None],\n",
    "}\n",
    "\n",
    "# We use TimeSeriesSplit to split the data in folds without losing the temporal order\n",
    "model = RandomizedSearchCV(\n",
    "    pipeline,\n",
    "    param_grid,\n",
    "    scoring=\"neg_mean_absolute_error\",\n",
    "    cv=TimeSeriesSplit(n_splits),\n",
    "    n_iter=budget,\n",
    "    n_jobs=-1,\n",
    ")\n",
    "\n",
    "start_time = time.time()\n",
    "model.fit(X=X_train, y=y_train)\n",
    "end_time = time.time()\n",
    "\n",
    "total_time = end_time - start_time\n",
    "\n",
    "score = train_and_test(\n",
    "    model.best_estimator_, model.best_score_, X_train, y_train, X_test, y_test\n",
    ")\n",
    "\n",
    "models[\"RegTrees_select\"] = model\n",
    "results[\"RegTrees_select\"] = score\n",
    "times[\"RegTrees_select\"] = total_time\n",
    "\n",
    "print_results(\"REGRESSION TREES SELECTED PARAMETERS\", model, score, total_time)"
   ]
  },
  {
   "attachments": {},
   "cell_type": "markdown",
   "metadata": {},
   "source": [
    "#### 5.2.2.2. Regression Trees - Selected parameters - Attribute selection"
   ]
  },
  {
   "cell_type": "code",
   "execution_count": 19,
   "metadata": {
    "notebookRunGroups": {
     "groupValue": "1"
    }
   },
   "outputs": [
    {
     "name": "stdout",
     "output_type": "stream",
     "text": [
      "Results of the best estimator of Pipeline\n",
      "NMAE in validation: -2727416.15\n",
      "RMSE train: 3452866.62\tMAE train: 2199234.33\n",
      "RMSE test: 3788146.80\tMAE test: 2545067.88\n",
      "---------------------------------------------------\n",
      "REGRESSION TREES SELECTED PARAMETERS best model is:\n",
      "\n",
      "GridSearchCV(cv=TimeSeriesSplit(gap=0, max_train_size=None, n_splits=5, test_size=None),\n",
      "             estimator=Pipeline(steps=[('select',\n",
      "                                        SelectKBest(score_func=<function f_regression at 0x7fbf8629ab90>)),\n",
      "                                       ('model',\n",
      "                                        DecisionTreeRegressor(random_state=1))]),\n",
      "             n_jobs=-1,\n",
      "             param_grid={'model__criterion': ['absolute_error'],\n",
      "                         'model__max_depth': [30],\n",
      "                         'model__max_features': [None],\n",
      "                         'model__min_samples_split': [106],\n",
      "                         'select__k': [1, 2, 3, 4, 5, 6, 7, 8, 9, 10, 11, 12,\n",
      "                                       13, 14, 15, 16, 17, 18, 19, 20, 21, 22,\n",
      "                                       23, 24, 25, 26, 27, 28, 29, 30, ...]},\n",
      "             scoring='neg_mean_absolute_error')\n",
      "\n",
      "Parameters: {'model__criterion': 'absolute_error', 'model__max_depth': 30, 'model__max_features': None, 'model__min_samples_split': 106, 'select__k': 11}\n",
      "\n",
      "Performance: NMAE (val): -2727416.151315789 | RMSE train: 3452866.617242818 | MAE train: 2199234.328767123 | RMSE train: 3788146.7966390885 | MAE test: 2545067.8767123288\n",
      "Execution time: 26.24833345413208s\n"
     ]
    }
   ],
   "source": [
    "np.random.seed(10)\n",
    "n_splits = 5\n",
    "\n",
    "pipeline = Pipeline(\n",
    "    [\n",
    "        (\"select\", SelectKBest(f_regression)),\n",
    "        (\"model\", DecisionTreeRegressor(random_state=1))\n",
    "    ]\n",
    ")\n",
    "\n",
    "# Previous model Parameters: {'model__min_samples_split': 106, 'model__max_features': None, 'model__max_depth': 30, 'model__criterion': 'absolute_error'}\n",
    "\n",
    "param_grid = {\n",
    "    \"model__criterion\": [\"absolute_error\"],\n",
    "    \"model__max_depth\": [30],\n",
    "    \"model__min_samples_split\": [106],\n",
    "    \"model__max_features\": [None],\n",
    "    \"select__k\": list(range(1, X_train.shape[1] + 1)),\n",
    "}\n",
    "\n",
    "# We use TimeSeriesSplit to split the data in folds without losing the temporal order\n",
    "model = GridSearchCV(\n",
    "    pipeline,\n",
    "    param_grid,\n",
    "    scoring=\"neg_mean_absolute_error\",\n",
    "    cv=TimeSeriesSplit(n_splits),\n",
    "    n_jobs=-1,\n",
    ")\n",
    "\n",
    "start_time = time.time()\n",
    "model.fit(X=X_train, y=y_train)\n",
    "end_time = time.time()\n",
    "\n",
    "total_time = end_time - start_time\n",
    "\n",
    "score = train_and_test(\n",
    "    model.best_estimator_, model.best_score_, X_train, y_train, X_test, y_test\n",
    ")\n",
    "\n",
    "models[\"RegTrees_select_k\"] = model\n",
    "results[\"RegTrees_select_k\"] = score\n",
    "times[\"RegTrees_select_k\"] = total_time\n",
    "\n",
    "print_results(\"REGRESSION TREES SELECTED PARAMETERS\", model, score, total_time)"
   ]
  },
  {
   "attachments": {},
   "cell_type": "markdown",
   "metadata": {},
   "source": [
    "## 5.3 Linnear Regression"
   ]
  },
  {
   "attachments": {},
   "cell_type": "markdown",
   "metadata": {},
   "source": [
    "Linear regression is a supervised learning algorithm that models the relationship between a dependent variable and one or more independent variables by fitting a linear equation to the observed data. The goal is to find the best fit line that can predict the dependent variable given the independent variables.\n",
    "\n",
    "For the selected model we will be considering Lasso and Ridge.\n",
    "Lasso and Ridge regression are two popular regularization techniques used with linear regression. Lasso adds a penalty term to the regression equation that encourages the model to minimize the absolute value of the regression coefficients, which can lead to some coefficients being exactly zero. Ridge regression, on the other hand, adds a penalty term that encourages the model to minimize the square of the regression coefficients, which can help prevent overfitting. These techniques can improve the performance of the linear regression model by reducing the impact of irrelevant or highly correlated features."
   ]
  },
  {
   "cell_type": "code",
   "execution_count": 20,
   "metadata": {
    "notebookRunGroups": {
     "groupValue": "1"
    }
   },
   "outputs": [],
   "source": [
    "from sklearn.linear_model import LinearRegression, Lasso, Ridge, ElasticNet"
   ]
  },
  {
   "attachments": {},
   "cell_type": "markdown",
   "metadata": {},
   "source": [
    "### 5.3.1. Linear Regression - Predefined parameters"
   ]
  },
  {
   "attachments": {},
   "cell_type": "markdown",
   "metadata": {},
   "source": [
    "#### 5.3.1.1. KNN - Predefined parameters - No attribute selection"
   ]
  },
  {
   "cell_type": "code",
   "execution_count": 21,
   "metadata": {
    "notebookRunGroups": {
     "groupValue": "1"
    }
   },
   "outputs": [
    {
     "name": "stdout",
     "output_type": "stream",
     "text": [
      "Results of the best estimator of Pipeline\n",
      "NMAE in validation: -2437056.06\n",
      "RMSE train: 3254352.60\tMAE train: 2321647.06\n",
      "RMSE test: 3103586.45\tMAE test: 2242422.37\n",
      "---------------------------------------------------\n",
      "LINEAR REGRESSION PREDEFINED PARAMETERS best model is:\n",
      "\n",
      "GridSearchCV(cv=TimeSeriesSplit(gap=0, max_train_size=None, n_splits=5, test_size=None),\n",
      "             estimator=Pipeline(steps=[('scaler', RobustScaler()),\n",
      "                                       ('model', LinearRegression())]),\n",
      "             n_jobs=-1, param_grid={'model__fit_intercept': [True]},\n",
      "             scoring='neg_mean_absolute_error')\n",
      "\n",
      "Parameters: {'model__fit_intercept': True}\n",
      "\n",
      "Performance: NMAE (val): -2437056.0592061607 | RMSE train: 3254352.603690468 | MAE train: 2321647.0597032406 | RMSE train: 3103586.4486739947 | MAE test: 2242422.367108231\n",
      "Execution time: 0.30195021629333496s\n"
     ]
    }
   ],
   "source": [
    "np.random.seed(10)\n",
    "n_splits = 5\n",
    "\n",
    "pipeline = Pipeline([(\"scaler\", RobustScaler()), (\"model\", LinearRegression())])\n",
    "\n",
    "param_grid = {\n",
    "    \"model__fit_intercept\": [True],\n",
    "}\n",
    "\n",
    "model = GridSearchCV(\n",
    "    pipeline,\n",
    "    param_grid,\n",
    "    scoring=\"neg_mean_absolute_error\",\n",
    "    cv=TimeSeriesSplit(n_splits),\n",
    "    n_jobs=-1,\n",
    ")\n",
    "\n",
    "start_time = time.time()\n",
    "model.fit(X=X_train, y=y_train)\n",
    "end_time = time.time()\n",
    "\n",
    "total_time = end_time - start_time\n",
    "\n",
    "score = train_and_test(\n",
    "    model.best_estimator_, model.best_score_, X_train, y_train, X_test, y_test\n",
    ")\n",
    "\n",
    "models[\"LinearReg_pred\"] = model\n",
    "results[\"LinearReg_pred\"] = score\n",
    "times[\"LinearReg_pred\"] = total_time\n",
    "\n",
    "print_results(\"LINEAR REGRESSION PREDEFINED PARAMETERS\", model, score, total_time)"
   ]
  },
  {
   "attachments": {},
   "cell_type": "markdown",
   "metadata": {},
   "source": [
    "#### 5.3.1.2. KNN - Predefined parameters - No attribute selection"
   ]
  },
  {
   "cell_type": "code",
   "execution_count": 22,
   "metadata": {
    "notebookRunGroups": {
     "groupValue": "1"
    }
   },
   "outputs": [
    {
     "name": "stdout",
     "output_type": "stream",
     "text": [
      "Results of the best estimator of Pipeline\n",
      "NMAE in validation: -2421796.65\n",
      "RMSE train: 3256574.00\tMAE train: 2323171.61\n",
      "RMSE test: 3107801.96\tMAE test: 2248616.81\n",
      "---------------------------------------------------\n",
      "LINEAR REGRESSION PREDEFINED PARAMETERS best model is:\n",
      "\n",
      "GridSearchCV(cv=TimeSeriesSplit(gap=0, max_train_size=None, n_splits=5, test_size=None),\n",
      "             estimator=Pipeline(steps=[('scaler', RobustScaler()),\n",
      "                                       ('select',\n",
      "                                        SelectKBest(score_func=<function f_regression at 0x7fbf8629ab90>)),\n",
      "                                       ('model', LinearRegression())]),\n",
      "             n_jobs=-1,\n",
      "             param_grid={'model__fit_intercept': [True],\n",
      "                         'select__k': [1, 2, 3, 4, 5, 6, 7, 8, 9, 10, 11, 12,\n",
      "                                       13, 14, 15, 16, 17, 18, 19, 20, 21, 22,\n",
      "                                       23, 24, 25, 26, 27, 28, 29, 30, ...]},\n",
      "             scoring='neg_mean_absolute_error')\n",
      "\n",
      "Parameters: {'model__fit_intercept': True, 'select__k': 72}\n",
      "\n",
      "Performance: NMAE (val): -2421796.652193799 | RMSE train: 3256573.9989301027 | MAE train: 2323171.6092511206 | RMSE train: 3107801.9576505884 | MAE test: 2248616.8067180943\n",
      "Execution time: 2.0286073684692383s\n"
     ]
    }
   ],
   "source": [
    "np.random.seed(10)\n",
    "n_splits = 5\n",
    "\n",
    "pipeline = Pipeline(\n",
    "    [\n",
    "        (\"scaler\", RobustScaler()),\n",
    "        (\"select\", SelectKBest(f_regression)),\n",
    "        (\"model\", LinearRegression()),\n",
    "    ]\n",
    ")\n",
    "\n",
    "param_grid = {\n",
    "    \"model__fit_intercept\": [True],\n",
    "    \"select__k\": list(range(1, X_train.shape[1] + 1)),\n",
    "}\n",
    "\n",
    "model = GridSearchCV(\n",
    "    pipeline,\n",
    "    param_grid,\n",
    "    scoring=\"neg_mean_absolute_error\",\n",
    "    cv=TimeSeriesSplit(n_splits),\n",
    "    n_jobs=-1,\n",
    ")\n",
    "\n",
    "\n",
    "start_time = time.time()\n",
    "model.fit(X=X_train, y=y_train)\n",
    "end_time = time.time()\n",
    "\n",
    "total_time = end_time - start_time\n",
    "\n",
    "score = train_and_test(\n",
    "    model.best_estimator_, model.best_score_, X_train, y_train, X_test, y_test\n",
    ")\n",
    "\n",
    "models[\"LinearReg_pred_k\"] = model\n",
    "results[\"LinearReg_pred_k\"] = score\n",
    "times[\"LinearReg_pred_k\"] = total_time\n",
    "\n",
    "print_results(\"LINEAR REGRESSION PREDEFINED PARAMETERS\", model, score, total_time)"
   ]
  },
  {
   "attachments": {},
   "cell_type": "markdown",
   "metadata": {},
   "source": [
    "### 5.3.2. Linear Regression - Selected parameters"
   ]
  },
  {
   "attachments": {},
   "cell_type": "markdown",
   "metadata": {},
   "source": [
    "Expanding upon the previous discussion, when using Lasso regression, we can focus on adjusting the following key parameters:\n",
    "\n",
    "- alpha: This parameter determines the amount of regularization applied to the model. A higher alpha results in stronger regularization, which can help to reduce overfitting.\n",
    "- k: This parameter determines the number of features selected by the Lasso model. By adjusting k, we can control the complexity of the model and potentially improve its performance.\n",
    "It's worth noting that these are just a few of the many parameters that can be adjusted when using Lasso regression. However, by focusing on these key parameters, we can gain a better understanding of how the model works and how to optimize its performance.\n",
    "\n",
    "\n",
    "\n",
    "We can reduce the most important parameters to be adjusted for Ridge regression to the following:\n",
    "\n",
    "- alpha: controls the strength of the regularization penalty applied to the coefficients. A high alpha value can lead to underfitting, while a low alpha value can lead to overfitting.\n",
    "- k: the number of top features selected by the SelectKBest function. This parameter determines the number of features to be used in the model and can have an impact on its performance.\n",
    "\n",
    "\n",
    "We can reduce the most important parameters for Elastic Net regression to be adjusted to the following:\n",
    "\n",
    "- alpha: controls the regularization strength of both L1 and L2 penalties. A high alpha will increase the regularization strength, while a low alpha will decrease it.\n",
    "- l1_ratio: controls the ratio between L1 and L2 penalties. A l1_ratio of 1 is equivalent to Lasso regression, while a ratio of 0 is equivalent to Ridge regression.\n",
    "- k: the number of features to be selected by the SelectKBest method. This parameter is part of the pipeline and helps to select the most relevant features for the model.\n",
    "Adjusting these parameters can help prevent overfitting and improve the performance of the Elastic Net regression model.\n"
   ]
  },
  {
   "attachments": {},
   "cell_type": "markdown",
   "metadata": {},
   "source": [
    "#### 5.3.2.1. Linear Regression - Selected parameters - Attribute Selection"
   ]
  },
  {
   "cell_type": "code",
   "execution_count": 23,
   "metadata": {
    "notebookRunGroups": {
     "groupValue": "1"
    }
   },
   "outputs": [
    {
     "name": "stdout",
     "output_type": "stream",
     "text": [
      "Model: -2916665.224197623\n",
      "{'model__alpha': 52025.49442372698}\n",
      "Results of the best estimator of Pipeline\n",
      "NMAE in validation: -2916665.22\n",
      "RMSE train: 3876831.69\tMAE train: 2906173.48\n",
      "RMSE test: 3737074.21\tMAE test: 2829956.26\n",
      "Model: -2396352.0117066414\n",
      "{'model__alpha': 0.9693631061142517}\n",
      "Results of the best estimator of Pipeline\n",
      "NMAE in validation: -2396352.01\n",
      "RMSE train: 3276534.92\tMAE train: 2333075.68\n",
      "RMSE test: 3103991.39\tMAE test: 2240841.40\n",
      "[1.7644586563110352, 1.6062359809875488]\n",
      "---------------------------------------------------\n",
      "LINEAR REGRESSION SELECTED PARAMETERS best model is:\n",
      "\n",
      "RandomizedSearchCV(cv=TimeSeriesSplit(gap=0, max_train_size=None, n_splits=5, test_size=None),\n",
      "                   estimator=Pipeline(steps=[('scaler', RobustScaler()),\n",
      "                                             ('model',\n",
      "                                              Ridge(random_state=10))]),\n",
      "                   n_iter=75, n_jobs=-1,\n",
      "                   param_distributions={'model__alpha': array([ 0.01      ,  0.01097844,  0.01205261,  0.01323188,  0.01452654,\n",
      "        0.01594787,  0.01750827,  0.01922135,  0.02110203,  0.02316674,\n",
      "        0.025...\n",
      "        0.66730492,  0.73259654,  0.80427655,  0.88297   ,  0.96936311,\n",
      "        1.06420924,  1.16833549,  1.28264983,  1.40814912,  1.54592774,\n",
      "        1.69718713,  1.86324631,  2.04555335,  2.245698  ,  2.46542555,\n",
      "        2.70665207,  2.9714811 ,  3.26222201,  3.5814101 ,  3.93182876,\n",
      "        4.31653369,  4.73887961,  5.20254944,  5.71158648,  6.27042962,\n",
      "        6.88395207,  7.55750387,  8.29695852,  9.1087642 , 10.        ])},\n",
      "                   scoring='neg_mean_absolute_error')\n",
      "\n",
      "Parameters: {'model__alpha': 0.9693631061142517}\n",
      "\n",
      "Performance: NMAE (val): -2421796.652193799 | RMSE train: 3256573.9989301027 | MAE train: 2323171.6092511206 | RMSE train: 3107801.9576505884 | MAE test: 2248616.8067180943\n",
      "Execution time: 1.6062359809875488s\n"
     ]
    }
   ],
   "source": [
    "np.random.seed(10)\n",
    "budget = 75\n",
    "n_splits = 5\n",
    "\n",
    "all_scores = []\n",
    "\n",
    "# ! Pipelines\n",
    "pipeline_lasso = Pipeline(\n",
    "    [\n",
    "        (\"scaler\", RobustScaler()),\n",
    "        (\"model\", Lasso(fit_intercept=True, tol=0.5, random_state=10)),\n",
    "    ]\n",
    ")\n",
    "\n",
    "pipeline_ridge = Pipeline(\n",
    "    [\n",
    "        (\"scaler\", RobustScaler()),\n",
    "        (\"model\", Ridge(fit_intercept=True, random_state=10)),\n",
    "    ]\n",
    ")\n",
    "\n",
    "# pipeline_elastic = Pipeline(\n",
    "#     [\n",
    "#         (\"scaler\", RobustScaler()),\n",
    "#         (\"model\", ElasticNet(fit_intercept=True, tol=0.5, random_state=10)),\n",
    "#     ]\n",
    "# )\n",
    "\n",
    "# ! Parameter grids\n",
    "param_grid_lasso = {\n",
    "    \"model__alpha\": np.logspace(-2, 5, 75), # Between 0.001 and 100000\n",
    "}\n",
    "\n",
    "param_grid_ridge = {\n",
    "    \"model__alpha\": np.logspace(-2, 1, 75), # Between 0.001 and 10\n",
    "}\n",
    "\n",
    "param_grid_elastic = {\n",
    "    \"model__alpha\": np.logspace(-2, 5, 75), # Between 0.001 and 10\n",
    "    \"model__l1_ratio\": np.linspace(0, 1, 75), # Between 0 and 1\n",
    "}\n",
    "\n",
    "# ! If we want to use random values for the parameters -> unconsistency in the results\n",
    "regr_lasso = RandomizedSearchCV(\n",
    "    pipeline_lasso,\n",
    "    param_grid_lasso,\n",
    "    scoring=\"neg_mean_absolute_error\",\n",
    "    cv=TimeSeriesSplit(),\n",
    "    n_iter=budget,\n",
    "    n_jobs=-1,\n",
    ")\n",
    "\n",
    "regr_ridge = RandomizedSearchCV(\n",
    "    pipeline_ridge,\n",
    "    param_grid_ridge,\n",
    "    scoring=\"neg_mean_absolute_error\",\n",
    "    cv=TimeSeriesSplit(),\n",
    "    n_iter=budget,\n",
    "    n_jobs=-1,\n",
    ")\n",
    "\n",
    "# regr_elastic = RandomizedSearchCV(\n",
    "#     pipeline_elastic,\n",
    "#     param_grid_elastic,\n",
    "#     scoring=\"neg_mean_absolute_error\",\n",
    "#     cv=TimeSeriesSplit(),\n",
    "#     n_iter=budget,\n",
    "#     n_jobs=-1,\n",
    "# )\n",
    "\n",
    "model = [regr_lasso, regr_ridge] #, regr_elastic]\n",
    "\n",
    "\n",
    "ln_reg_time, scoring = [], []\n",
    "\n",
    "for i in model:\n",
    "    start_time = time.time()\n",
    "    i.fit(X=X_train, y=y_train)\n",
    "    print(f\"Model: {i.best_score_}\")\n",
    "    print(i.best_params_)\n",
    "    # Now we reevaluate the model on the test set to obtain more accurate results\n",
    "    scoring.append(i.best_score_)\n",
    "    all_scores.append(\n",
    "        train_and_test(\n",
    "            i.best_estimator_, i.best_score_, X_train, y_train, X_test, y_test\n",
    "        )\n",
    "    )\n",
    "    ln_reg_time.append(time.time() - start_time)\n",
    "\n",
    "print(ln_reg_time)\n",
    "\n",
    "# Select the best model (based on the MAE)\n",
    "max_score = min(\n",
    "    all_scores, key=lambda x: abs(x[0])\n",
    ")  # Best model is the one that minimizes the validation NMAE\n",
    "best_model = model[all_scores.index(max_score)]\n",
    "total_time = ln_reg_time[all_scores.index(max_score)]\n",
    "\n",
    "models[\"LinearReg_select\"] = best_model\n",
    "results[\"LinearReg_select\"] = max_score\n",
    "times[\"LinearReg_select\"] = total_time\n",
    "\n",
    "# Print results\n",
    "print_results(\"LINEAR REGRESSION SELECTED PARAMETERS\", best_model, score, total_time)"
   ]
  },
  {
   "attachments": {},
   "cell_type": "markdown",
   "metadata": {},
   "source": [
    "#### 5.3.2.2. Linear Regression - Selected parameters - Attribute Selection"
   ]
  },
  {
   "cell_type": "code",
   "execution_count": 24,
   "metadata": {
    "notebookRunGroups": {
     "groupValue": "1"
    }
   },
   "outputs": [
    {
     "name": "stdout",
     "output_type": "stream",
     "text": [
      "Results of the best estimator of Pipeline\n",
      "NMAE in validation: -2389586.49\n",
      "RMSE train: 3278341.47\tMAE train: 2333541.31\n",
      "RMSE test: 3108020.39\tMAE test: 2244967.22\n",
      "---------------------------------------------------\n",
      "LINEAR REGRESSION SELECTED PARAMETERS best model is:\n",
      "\n",
      "RandomizedSearchCV(cv=TimeSeriesSplit(gap=0, max_train_size=None, n_splits=5, test_size=None),\n",
      "                   estimator=Pipeline(steps=[('scaler', RobustScaler()),\n",
      "                                             ('model',\n",
      "                                              Ridge(random_state=10))]),\n",
      "                   n_iter=75, n_jobs=-1,\n",
      "                   param_distributions={'model__alpha': array([ 0.01      ,  0.01097844,  0.01205261,  0.01323188,  0.01452654,\n",
      "        0.01594787,  0.01750827,  0.01922135,  0.02110203,  0.02316674,\n",
      "        0.025...\n",
      "        0.66730492,  0.73259654,  0.80427655,  0.88297   ,  0.96936311,\n",
      "        1.06420924,  1.16833549,  1.28264983,  1.40814912,  1.54592774,\n",
      "        1.69718713,  1.86324631,  2.04555335,  2.245698  ,  2.46542555,\n",
      "        2.70665207,  2.9714811 ,  3.26222201,  3.5814101 ,  3.93182876,\n",
      "        4.31653369,  4.73887961,  5.20254944,  5.71158648,  6.27042962,\n",
      "        6.88395207,  7.55750387,  8.29695852,  9.1087642 , 10.        ])},\n",
      "                   scoring='neg_mean_absolute_error')\n",
      "\n",
      "Parameters: {'model__alpha': 0.9693631061142517}\n",
      "\n",
      "Performance: NMAE (val): -2389586.491181177 | RMSE train: 3278341.466529396 | MAE train: 2333541.305110323 | RMSE train: 3108020.390028838 | MAE test: 2244967.221944342\n",
      "Execution time: 1.8783280849456787s\n"
     ]
    }
   ],
   "source": [
    "np.random.seed(10)\n",
    "n_splits = 5\n",
    "\n",
    "# We use Ridge as model as it is the best performing one\n",
    "pipeline = Pipeline(\n",
    "    [\n",
    "        (\"scaler\", RobustScaler()),\n",
    "        (\"select\", SelectKBest(f_regression)),\n",
    "        (\"model\", Ridge(fit_intercept=True, random_state=10)),\n",
    "    ]\n",
    ")\n",
    "\n",
    "# Previous model Parameters: {'model__alpha': 0.9693631061142517}\n",
    "\n",
    "param_grid = {\n",
    "    \"model__alpha\": [0.9693631061142517],\n",
    "    \"select__k\": list(range(1, X_train.shape[1] + 1)),\n",
    "}\n",
    "\n",
    "# We use TimeSeriesSplit to split the data in folds without losing the temporal order\n",
    "model = GridSearchCV(\n",
    "    pipeline,\n",
    "    param_grid,\n",
    "    scoring=\"neg_mean_absolute_error\",\n",
    "    cv=TimeSeriesSplit(n_splits),\n",
    "    n_jobs=-1,\n",
    ")\n",
    "\n",
    "start_time = time.time()\n",
    "model.fit(X=X_train, y=y_train)\n",
    "end_time = time.time()\n",
    "\n",
    "total_time = end_time - start_time\n",
    "\n",
    "score = train_and_test(\n",
    "    model.best_estimator_, model.best_score_, X_train, y_train, X_test, y_test\n",
    ")\n",
    "\n",
    "models[\"LinearReg_select_k\"] = model\n",
    "results[\"LinearReg_select_k\"] = score\n",
    "times[\"LinearReg_select_k\"] = total_time\n",
    "\n",
    "# Print results\n",
    "print_results(\"LINEAR REGRESSION SELECTED PARAMETERS\", best_model, score, total_time)"
   ]
  },
  {
   "attachments": {},
   "cell_type": "markdown",
   "metadata": {},
   "source": [
    "To be observed, the selected model, Ridge, does not delete any of the attributes (as expected, as it is one of its flaws), but some of their weights are close to zero, so we can consider that they are not relevant for the model.\n",
    "\n",
    "On the other hand, the Lasso model and the ElasticNet model, do delete some of the attributes, but the results are worse than the Ridge model, so we will not consider them."
   ]
  },
  {
   "attachments": {},
   "cell_type": "markdown",
   "metadata": {},
   "source": [
    "## 5.4. Results"
   ]
  },
  {
   "cell_type": "code",
   "execution_count": 25,
   "metadata": {
    "notebookRunGroups": {
     "groupValue": "1"
    }
   },
   "outputs": [
    {
     "name": "stdout",
     "output_type": "stream",
     "text": [
      "Best model: LinearReg_select_k with score (-NMAE) 2389586.491181177 and time 1.8783280849456787s\n",
      "Worst model: RegTrees_pred with score (-NMAE) 3467149.4407894737 and time 0.5558083057403564s\n",
      "Fastest model: KNN_pred with score (-NMAE) 3239984.25 and time 0.2155897617340088s\n",
      "Slowest model: RegTrees_select_k with score(-NMAE) 2727416.151315789 and time 26.24833345413208s\n",
      "\n",
      "Average models score: 2778536.9694322506\n",
      "Average models time: 7.423440059026082\n",
      "\n",
      "The score difference between the best and worst model is:  1077562.9496082966\n",
      "The score difference between the best and fastest model is:  5629570.741181177\n",
      "The time difference between the best and fastest model model is:  1.66273832321167\n",
      "The time difference between the fastest and slowest model is:  26.03274369239807\n"
     ]
    }
   ],
   "source": [
    "np.random.seed(10)\n",
    "\n",
    "# ! Obtain best, worst, fastest and slowest model\n",
    "max_score = max(results.values(), key=lambda x: abs(x[0]))  # We use the scoring (NMAE) as explained above to select the best model\n",
    "min_score = min(results.values(), key=lambda x: abs(x[0]))\n",
    "# Obtain the key name of the best and worst model\n",
    "max_time = max(times.values(), key=lambda x: x)\n",
    "min_time = min(times.values(), key=lambda x: x)\n",
    "\n",
    "best_model = list(results.keys())[list(results.values()).index(min_score)]\n",
    "worst_model = list(results.keys())[list(results.values()).index(max_score)]\n",
    "fastest_model = list(times.keys())[list(times.values()).index(min_time)]\n",
    "slowest_model = list(times.keys())[list(times.values()).index(max_time)]\n",
    "\n",
    "print(f\"Best model: {best_model} with score (-NMAE) {abs(min_score[0])} and time {list(times.values())[list(results.values()).index(min_score)]}s\")\n",
    "print(f\"Worst model: {worst_model} with score (-NMAE) {abs(max_score[0])} and time {list(times.values())[list(results.values()).index(max_score)]}s\")\n",
    "print(f\"Fastest model: {fastest_model} with score (-NMAE) {abs(results[fastest_model][0])} and time {min_time}s\")\n",
    "print(f\"Slowest model: {slowest_model} with score(-NMAE) {abs(results[slowest_model][0])} and time {max_time}s\")\n",
    "\n",
    "\n",
    "# ! Average (test MAE) score of the models\n",
    "avg_score = 0\n",
    "avg_time = 0\n",
    "\n",
    "for key, value in results.items():\n",
    "    avg_score += results[key][0]\n",
    "    avg_time += times[key]\n",
    "\n",
    "print(f\"\\nAverage models score: {abs(avg_score/len(results))}\")\n",
    "print(f\"Average models time: {avg_time/len(times)}\\n\")\n",
    "\n",
    "\n",
    "# ! Differences\n",
    "print(\"The score difference between the best and worst model is: \", abs(max_score[0] - min_score)[0])  # Scoring evaluation -NMAE\n",
    "print(\"The score difference between the best and fastest model is: \", abs(min_score[0] - abs(results[fastest_model][0])))  # Scoring evaluation -NMAE\n",
    "print(\"The time difference between the best and fastest model model is: \", abs(list(times.values())[list(results.values()).index(min_score)] - min_time))\n",
    "print(\"The time difference between the fastest and slowest model is: \", abs(max_time - min_time))"
   ]
  },
  {
   "cell_type": "code",
   "execution_count": 26,
   "metadata": {
    "notebookRunGroups": {
     "groupValue": "1"
    }
   },
   "outputs": [
    {
     "name": "stdout",
     "output_type": "stream",
     "text": [
      "MODEL SCORES (NMAE in evaluation)\n",
      "0. KNN_pred: 3239984.25\n",
      "1. KNN_pred_k: 2690780.4078947366\n",
      "2. KNN_select: 2880131.5631625694\n",
      "3. KNN_select_k: 2620137.8590261317\n",
      "4. RegTrees_pred: 3467149.4407894737\n",
      "5. RegTrees_pred_k: 3328832.171052632\n",
      "6. RegTrees_select: 2743220.575657895\n",
      "7. RegTrees_select_k: 2727416.151315789\n",
      "8. LinearReg_pred: 2437056.0592061607\n",
      "9. LinearReg_pred_k: 2421796.652193799\n",
      "10. LinearReg_select: 2396352.0117066414\n",
      "11. LinearReg_select_k: 2389586.491181177\n"
     ]
    },
    {
     "data": {
      "image/png": "[encoded data removed]",
      "text/plain": [
       "<Figure size 640x480 with 1 Axes>"
      ]
     },
     "metadata": {},
     "output_type": "display_data"
    },
    {
     "name": "stdout",
     "output_type": "stream",
     "text": [
      "MODEL TIMES (s)\n",
      "0. KNN_pred: 0.2155897617340088\n",
      "2. KNN_select: 21.66078281402588\n",
      "4. RegTrees_pred: 0.5558083057403564\n",
      "6. RegTrees_select: 16.169135332107544\n",
      "8. LinearReg_pred: 0.30195021629333496\n",
      "10. LinearReg_select: 1.6062359809875488\n"
     ]
    },
    {
     "data": {
      "image/png": "[encoded data removed]",
      "text/plain": [
       "<Figure size 640x480 with 1 Axes>"
      ]
     },
     "metadata": {},
     "output_type": "display_data"
    },
    {
     "name": "stdout",
     "output_type": "stream",
     "text": [
      "MODEL ATTRIBUTE SELECTION TIMES (s)\n",
      "1. KNN_pred_k: 9.636045217514038\n",
      "3. KNN_select_k: 5.894104719161987\n",
      "5. RegTrees_pred_k: 2.886359453201294\n",
      "7. RegTrees_select_k: 26.24833345413208\n",
      "9. LinearReg_pred_k: 2.0286073684692383\n",
      "11. LinearReg_select_k: 1.8783280849456787\n"
     ]
    },
    {
     "data": {
      "image/png": "[encoded data removed]",
      "text/plain": [
       "<Figure size 640x480 with 1 Axes>"
      ]
     },
     "metadata": {},
     "output_type": "display_data"
    }
   ],
   "source": [
    "# Print the results up to now\n",
    "# ! Plot the score\n",
    "print(\"MODEL SCORES (NMAE in evaluation)\")\n",
    "iter = 0\n",
    "for key, value in results.items():\n",
    "    plt.bar(iter, abs(value[0]))\n",
    "    print(f\"{iter}. {key}: {abs(value[0])}\")\n",
    "    iter += 1\n",
    "plt.title(\"Score\")\n",
    "plt.xlabel(\"Model\")\n",
    "plt.ylabel(\"MAE\")\n",
    "plt.tight_layout()\n",
    "\n",
    "# Exporting image as png to ../data/img folder\n",
    "plt.savefig(\"../data/img/basic_methods_score.png\")\n",
    "plt.show()\n",
    "\n",
    "# ! Plot the time (just the even ones == the ones that are not selectors of attributes)\n",
    "print(\"MODEL TIMES (s)\")\n",
    "iter = 0\n",
    "for key, value in times.items():\n",
    "    if iter % 2 == 0:\n",
    "        plt.bar(iter, value)\n",
    "        print(f\"{iter}. {key}: {value}\")\n",
    "    iter += 1\n",
    "plt.title(\"Time\")\n",
    "plt.xlabel(\"Model\")\n",
    "plt.ylabel(\"Time (s)\")\n",
    "plt.tight_layout()\n",
    "\n",
    "# Exporting image as png to ../data/img folder\n",
    "plt.savefig(\"../data/img/basic_methods_time.png\")\n",
    "plt.show()\n",
    "\n",
    "# ! Plot the time (just the odd ones == the selectors of attributes)\n",
    "print(\"MODEL ATTRIBUTE SELECTION TIMES (s)\")\n",
    "iter = 0\n",
    "for key, value in times.items():\n",
    "    if iter % 2 != 0:\n",
    "        plt.bar(iter, value)\n",
    "        print(f\"{iter}. {key}: {value}\")\n",
    "    iter += 1\n",
    "plt.title(\"Time to select attributes\")\n",
    "plt.xlabel(\"Model\")\n",
    "plt.ylabel(\"Time (s)\")\n",
    "plt.tight_layout()\n",
    "\n",
    "# Exporting image as png to ../data/img folder - easier to visualize the annotations, better resolution\n",
    "plt.savefig(\"../data/img/basic_methods_time_atb.png\")\n",
    "plt.show()"
   ]
  },
  {
   "attachments": {},
   "cell_type": "markdown",
   "metadata": {},
   "source": [
    "## 5.5. Conclusions: \n",
    "\n",
    "After computig the models we can see that the best model in terms of MAE is the LinearReg_selected, but the best timing model is LinearReg_pred.\n",
    "\n",
    "***Obtener algunas conclusiones, tales como: ¿cuál es el mejor método? ¿Cuál de los métodos \n",
    "básicos de aprendizaje automático es más rápido? ¿Los resultados son mejores que los \n",
    "regresores triviales/naive/baseline? ¿El ajuste de hiperparámetros mejora con respecto a los \n",
    "valores por omisión? ¿Hay algún equilibrio entre tiempo de ejecución y mejora de \n",
    "resultados? Etc***\n",
    "\n"
   ]
  },
  {
   "attachments": {},
   "cell_type": "markdown",
   "metadata": {},
   "source": [
    "---\n",
    "# 6. Reducing Dimensionality TODO\n",
    ">¿Es posible reducir la dimensionalidad del problema?\n",
    "\n",
    "Yes, it is possible to reduce the problem dimensionality, and as stated throughout the EDA, there are a lot of attributes that are highly correlated, so we can reduce the dimensionality of the problem by removing some of the attributes. Thus, it is recommended to use a PCA to reduce the dimensionality of the problem."
   ]
  },
  {
   "attachments": {},
   "cell_type": "markdown",
   "metadata": {},
   "source": [
    "As mentioned in the EDA section, there are several attributes that are closely related to the point of being redundant. Our hypothesis is that dropping these features would not significantly affect the overall results. Additionally, we have implemented an additional step to detect and eliminate different attributes based on the model. We have done this by using the \"SelectKBest\" feature selector, which only considers the relationship between the attributes and the output variable. The tests designed to check the hypothesis will only contain the selected features from the SelectKBest step."
   ]
  },
  {
   "attachments": {},
   "cell_type": "markdown",
   "metadata": {},
   "source": [
    "---\n",
    "# 7. Advanced methods"
   ]
  },
  {
   "attachments": {},
   "cell_type": "markdown",
   "metadata": {},
   "source": [
    "In order to be consistent, although we have already seen that usign the selection of attributes makes the model better, we will continue to use the two-step method we have been doing. This way, we can also verify that the results are better than the ones obtained with the basic methods (for both with and without attribute selection)."
   ]
  },
  {
   "attachments": {},
   "cell_type": "markdown",
   "metadata": {},
   "source": [
    "## 7.1. Support Vector Machines (SVMs)"
   ]
  },
  {
   "attachments": {},
   "cell_type": "markdown",
   "metadata": {},
   "source": [
    "Support Vector Machine (SVM) is a supervised learning algorithm used for classification and regression analysis. SVM works by finding the hyperplane that best separates the data into different classes. The hyperplane is chosen such that it maximizes the margin between the closest data points from each class, known as support vectors. SVM can also use kernel functions to transform the input data into a higher dimensional space, allowing the separation of non-linearly separable data."
   ]
  },
  {
   "cell_type": "code",
   "execution_count": 27,
   "metadata": {
    "notebookRunGroups": {
     "groupValue": "1"
    }
   },
   "outputs": [],
   "source": [
    "from sklearn.svm import SVR"
   ]
  },
  {
   "attachments": {},
   "cell_type": "markdown",
   "metadata": {},
   "source": [
    "### 7.1.1. SVMs - Predefined parameters"
   ]
  },
  {
   "attachments": {},
   "cell_type": "markdown",
   "metadata": {},
   "source": [
    "#### 7.1.1.1. SVMs - Predefined parameters - No attribute selection"
   ]
  },
  {
   "cell_type": "code",
   "execution_count": 32,
   "metadata": {
    "notebookRunGroups": {
     "groupValue": "1"
    }
   },
   "outputs": [
    {
     "name": "stdout",
     "output_type": "stream",
     "text": [
      "Results of the best estimator of Pipeline\n",
      "NMAE in validation: -6953343.12\n",
      "RMSE train: 8058525.28\tMAE train: 6899170.65\n",
      "RMSE test: 7478465.50\tMAE test: 6281604.09\n",
      "---------------------------------------------------\n",
      "SVM PREDEFINED PARAMETERS best model is:\n",
      "\n",
      "GridSearchCV(cv=TimeSeriesSplit(gap=0, max_train_size=None, n_splits=5, test_size=None),\n",
      "             estimator=Pipeline(steps=[('scaler', RobustScaler()),\n",
      "                                       ('model', SVR())]),\n",
      "             param_grid={'model__epsilon': [0.1], 'model__gamma': ['scale'],\n",
      "                         'model__kernel': ['rbf']},\n",
      "             scoring='neg_mean_absolute_error')\n",
      "\n",
      "Parameters: {'model__epsilon': 0.1, 'model__gamma': 'scale', 'model__kernel': 'rbf'}\n",
      "\n",
      "Performance: NMAE (val): -6953343.117286754 | RMSE train: 8058525.276321875 | MAE train: 6899170.647284467 | RMSE train: 7478465.501368871 | MAE test: 6281604.088961575\n",
      "Execution time: 2.069565773010254s\n"
     ]
    }
   ],
   "source": [
    "np.random.seed(10)\n",
    "n_splits = 5\n",
    "\n",
    "pipeline = Pipeline(\n",
    "    [\n",
    "        ('scaler', RobustScaler()),\n",
    "        (\"model\", SVR())\n",
    "    ]\n",
    ")\n",
    "\n",
    "param_grid = {\n",
    "    \"model__kernel\": [\"rbf\"],\n",
    "    \"model__C\": [1.0],\n",
    "    \"model__gamma\": [\"scale\"],\n",
    "    \"model__epsilon\": [0.1],\n",
    "}\n",
    "\n",
    "model = GridSearchCV(\n",
    "    pipeline,\n",
    "    param_grid,\n",
    "    scoring=\"neg_mean_absolute_error\",\n",
    "    cv=TimeSeriesSplit(n_splits),\n",
    ")\n",
    "\n",
    "\n",
    "start_time = time.time()\n",
    "model.fit(X=X_train, y=y_train)\n",
    "end_time = time.time()\n",
    "\n",
    "total_time = end_time - start_time\n",
    "\n",
    "score = train_and_test(\n",
    "    model.best_estimator_, model.best_score_, X_train, y_train, X_test, y_test\n",
    ")\n",
    "\n",
    "models[\"SVM_pred\"] = model\n",
    "results[\"SVM_pred\"] = score\n",
    "times[\"SVM_pred\"] = total_time\n",
    "\n",
    "print_results(\"SVM PREDEFINED PARAMETERS\", model, score, total_time)"
   ]
  },
  {
   "attachments": {},
   "cell_type": "markdown",
   "metadata": {},
   "source": [
    "#### 7.1.1.2. SVMs - Predefined parameters - Attribute selection"
   ]
  },
  {
   "cell_type": "code",
   "execution_count": 31,
   "metadata": {},
   "outputs": [
    {
     "name": "stdout",
     "output_type": "stream",
     "text": [
      "Results of the best estimator of Pipeline\n",
      "NMAE in validation: -6952999.55\n",
      "RMSE train: 8057851.47\tMAE train: 6898491.59\n",
      "RMSE test: 7477858.61\tMAE test: 6280965.57\n",
      "---------------------------------------------------\n",
      "SVM PREDEFINED PARAMETERS best model is:\n",
      "\n",
      "GridSearchCV(cv=TimeSeriesSplit(gap=0, max_train_size=None, n_splits=5, test_size=None),\n",
      "             estimator=Pipeline(steps=[('scaler', RobustScaler()),\n",
      "                                       ('select',\n",
      "                                        SelectKBest(score_func=<function f_regression at 0x7fbf8629ab90>)),\n",
      "                                       ('model', SVR())]),\n",
      "             n_jobs=-1,\n",
      "             param_grid={'model__C': [1.0], 'model__epsilon': [0.1],\n",
      "                         'model__gamma': ['scale'], 'model__kernel': ['rbf'],\n",
      "                         'select__k': [1, 2, 3, 4, 5, 6, 7, 8, 9, 10, 11, 12,\n",
      "                                       13, 14, 15, 16, 17, 18, 19, 20, 21, 22,\n",
      "                                       23, 24, 25, 26, 27, 28, 29, 30, ...]},\n",
      "             scoring='neg_mean_absolute_error')\n",
      "\n",
      "Parameters: {'model__C': 1.0, 'model__epsilon': 0.1, 'model__gamma': 'scale', 'model__kernel': 'rbf', 'select__k': 2}\n",
      "\n",
      "Performance: NMAE (val): -6952999.553407727 | RMSE train: 8057851.465218631 | MAE train: 6898491.591050504 | RMSE train: 7477858.611258205 | MAE test: 6280965.566937376\n",
      "Execution time: 29.70225501060486s\n"
     ]
    }
   ],
   "source": [
    "np.random.seed(10)\n",
    "n_splits = 5\n",
    "\n",
    "pipeline = Pipeline(\n",
    "    [\n",
    "        (\"scaler\", RobustScaler()),\n",
    "        (\"select\", SelectKBest(f_regression)),\n",
    "        (\"model\", SVR()),\n",
    "    ]\n",
    ")\n",
    "\n",
    "param_grid = {\n",
    "    \"model__kernel\": [\"rbf\"],\n",
    "    \"model__C\": [1.0],\n",
    "    \"model__gamma\": [\"scale\"],\n",
    "    \"model__epsilon\": [0.1],\n",
    "    \"select__k\": list(range(1, X_train.shape[1] + 1)),\n",
    "}\n",
    "\n",
    "model = GridSearchCV(\n",
    "    pipeline,\n",
    "    param_grid,\n",
    "    scoring=\"neg_mean_absolute_error\",\n",
    "    cv=TimeSeriesSplit(n_splits),\n",
    "    n_jobs=-1,\n",
    ")\n",
    "\n",
    "\n",
    "start_time = time.time()\n",
    "model.fit(X=X_train, y=y_train)\n",
    "end_time = time.time()\n",
    "\n",
    "total_time = end_time - start_time\n",
    "\n",
    "score = train_and_test(\n",
    "    model.best_estimator_, model.best_score_, X_train, y_train, X_test, y_test\n",
    ")\n",
    "\n",
    "models[\"SVM_pred_k\"] = model\n",
    "results[\"SVM_pred_k\"] = score\n",
    "times[\"SVM_pred_k\"] = total_time\n",
    "\n",
    "print_results(\"SVM PREDEFINED PARAMETERS\", model, score, total_time)"
   ]
  },
  {
   "attachments": {},
   "cell_type": "markdown",
   "metadata": {},
   "source": [
    "### 7.1.2. SVMs - Selected parameters"
   ]
  },
  {
   "attachments": {},
   "cell_type": "markdown",
   "metadata": {},
   "source": [
    "Building upon the previous definition, we can reduce the most important parameters to be adjusted to the following for SVM:\n",
    "\n",
    "- Kernel: This parameter defines the type of kernel used to transform the input data into a higher-dimensional space in order to perform classification. The most commonly used kernels are linear, polynomial, radial basis function (RBF), and sigmoid.\n",
    "- C: This parameter determines the trade-off between maximizing the margin and minimizing the classification error. A smaller value of C creates a larger margin but may misclassify some data points, while a larger value of C may lead to overfitting.\n",
    "- Gamma: This parameter defines the influence of each training example on the decision boundary. A smaller value of gamma makes the decision boundary smoother, while a larger value of gamma makes it more complex and can lead to overfitting."
   ]
  },
  {
   "attachments": {},
   "cell_type": "markdown",
   "metadata": {},
   "source": [
    "#### 7.1.2.1. SVMs - Selected parameters - No attribute selection"
   ]
  },
  {
   "cell_type": "code",
   "execution_count": 44,
   "metadata": {},
   "outputs": [
    {
     "name": "stdout",
     "output_type": "stream",
     "text": [
      "Results of the best estimator of Pipeline\n",
      "NMAE in validation: -2331773.95\n",
      "RMSE train: 3384381.68\tMAE train: 2251590.34\n",
      "RMSE test: 3314781.26\tMAE test: 2272204.42\n",
      "---------------------------------------------------\n",
      "SVM SELECTED PARAMETERS best model is:\n",
      "\n",
      "RandomizedSearchCV(cv=TimeSeriesSplit(gap=0, max_train_size=None, n_splits=5, test_size=None),\n",
      "                   estimator=Pipeline(steps=[('scaler', StandardScaler()),\n",
      "                                             ('model', SVR())]),\n",
      "                   n_iter=15, n_jobs=-1,\n",
      "                   param_distributions={'model__C': [100000, 1000000, 5000000],\n",
      "                                        'model__gamma': ['scale', 'auto'],\n",
      "                                        'model__kernel': ['linear', 'poly',\n",
      "                                                          'rbf', 'sigmoid']},\n",
      "                   scoring='neg_mean_absolute_error')\n",
      "\n",
      "Parameters: {'model__kernel': 'linear', 'model__gamma': 'auto', 'model__C': 1000000}\n",
      "\n",
      "Performance: NMAE (val): -2331773.9543751357 | RMSE train: 3384381.6752997166 | MAE train: 2251590.3404441564 | RMSE train: 3314781.2564529474 | MAE test: 2272204.415296306\n",
      "Execution time: 36.98407244682312s\n"
     ]
    }
   ],
   "source": [
    "np.random.seed(10)\n",
    "budget = 15\n",
    "n_splits = 5\n",
    "\n",
    "pipeline = Pipeline(\n",
    "    [\n",
    "        (\"scaler\", StandardScaler()),\n",
    "        # We scale the data to avoid overfitting - Recommended for SVMs\n",
    "        (\"model\", SVR())\n",
    "        # Support Vector Regression (SVR for regression, SVC for classification)\n",
    "    ]\n",
    ")\n",
    "\n",
    "param_grid = {\n",
    "    \"model__kernel\": [\"linear\", \"poly\", \"rbf\", \"sigmoid\"],\n",
    "    \"model__C\": [100000, 500000, 1000000, 5000000],\n",
    "    \"model__gamma\": [\"scale\", \"auto\"],\n",
    "}\n",
    "\n",
    "# We use TimeSeriesSplit to split the data in folds without losing the temporal order\n",
    "model = RandomizedSearchCV(\n",
    "    pipeline,\n",
    "    param_grid,\n",
    "    scoring=\"neg_mean_absolute_error\",\n",
    "    cv=TimeSeriesSplit(n_splits),\n",
    "    n_iter=budget,\n",
    "    n_jobs=-1,\n",
    ")\n",
    "\n",
    "start_time = time.time()\n",
    "model.fit(X=X_train, y=y_train)\n",
    "end_time = time.time()\n",
    "\n",
    "total_time = end_time - start_time\n",
    "\n",
    "score = train_and_test(\n",
    "    model.best_estimator_, model.best_score_, X_train, y_train, X_test, y_test\n",
    ")\n",
    "\n",
    "models[\"SVM_select\"] = model\n",
    "results[\"SVM_select\"] = score\n",
    "times[\"SVM_select\"] = total_time\n",
    "\n",
    "print_results(\"SVM SELECTED PARAMETERS\", model, score, total_time)"
   ]
  },
  {
   "cell_type": "code",
   "execution_count": 45,
   "metadata": {
    "notebookRunGroups": {
     "groupValue": "1"
    }
   },
   "outputs": [
    {
     "name": "stdout",
     "output_type": "stream",
     "text": [
      "Results of the best estimator of Pipeline\n",
      "NMAE in validation: -2331773.95\n",
      "RMSE train: 3384381.68\tMAE train: 2251590.34\n",
      "RMSE test: 3314781.26\tMAE test: 2272204.42\n",
      "---------------------------------------------------\n",
      "SVM SELECTED PARAMETERS best model is:\n",
      "\n",
      "GridSearchCV(cv=TimeSeriesSplit(gap=0, max_train_size=None, n_splits=5, test_size=None),\n",
      "             estimator=Pipeline(steps=[('scaler', StandardScaler()),\n",
      "                                       ('select',\n",
      "                                        SelectKBest(score_func=<function f_regression at 0x7fbf8629ab90>)),\n",
      "                                       ('model', SVR())]),\n",
      "             n_jobs=-1,\n",
      "             param_grid={'model__C': [1000000], 'model__gamma': ['auto'],\n",
      "                         'model__kernel': ['linear'],\n",
      "                         'select__k': [1, 2, 3, 4, 5, 6, 7, 8, 9, 10, 11, 12,\n",
      "                                       13, 14, 15, 16, 17, 18, 19, 20, 21, 22,\n",
      "                                       23, 24, 25, 26, 27, 28, 29, 30, ...]},\n",
      "             scoring='neg_mean_absolute_error')\n",
      "\n",
      "Parameters: {'model__C': 1000000, 'model__gamma': 'auto', 'model__kernel': 'linear', 'select__k': 75}\n",
      "\n",
      "Performance: NMAE (val): -2331773.9543751357 | RMSE train: 3384381.6752997166 | MAE train: 2251590.3404441564 | RMSE train: 3314781.2564529474 | MAE test: 2272204.415296306\n",
      "Execution time: 36.91520929336548s\n"
     ]
    }
   ],
   "source": [
    "np.random.seed(10)\n",
    "n_splits = 5\n",
    "\n",
    "# We use Ridge as model as it is the best performing one\n",
    "pipeline = Pipeline(\n",
    "    [\n",
    "        (\"scaler\", StandardScaler()),\n",
    "        (\"select\", SelectKBest(f_regression)),\n",
    "        (\"model\", SVR())\n",
    "    ]\n",
    ")\n",
    "\n",
    "# Previous model Parameters: {'model__kernel': 'linear', 'model__gamma': 'auto', 'model__C': 1000000}\n",
    "\n",
    "param_grid = {\n",
    "    \"model__kernel\": [\"linear\"],\n",
    "    \"model__C\": [1000000],\n",
    "    \"model__gamma\": [\"auto\"],\n",
    "    \"select__k\": list(range(1, X_train.shape[1] + 1)),\n",
    "}\n",
    "\n",
    "# We use TimeSeriesSplit to split the data in folds without losing the temporal order\n",
    "model = GridSearchCV(\n",
    "    pipeline,\n",
    "    param_grid,\n",
    "    scoring=\"neg_mean_absolute_error\",\n",
    "    cv=TimeSeriesSplit(n_splits),\n",
    "    n_jobs=-1,\n",
    ")\n",
    "\n",
    "start_time = time.time()\n",
    "model.fit(X=X_train, y=y_train)\n",
    "end_time = time.time()\n",
    "\n",
    "total_time = end_time - start_time\n",
    "\n",
    "score = train_and_test(\n",
    "    model.best_estimator_, model.best_score_, X_train, y_train, X_test, y_test\n",
    ")\n",
    "\n",
    "models[\"SVM_select_k\"] = model\n",
    "results[\"SVM_select_k\"] = score\n",
    "times[\"SVM_select_k\"] = total_time\n",
    "\n",
    "print_results(\"SVM SELECTED PARAMETERS\", model, score, total_time)"
   ]
  },
  {
   "attachments": {},
   "cell_type": "markdown",
   "metadata": {},
   "source": [
    "## 7.2. Random Forests"
   ]
  },
  {
   "attachments": {},
   "cell_type": "markdown",
   "metadata": {},
   "source": [
    "Random forest is an ensemble learning method for classification, regression and other tasks that operates by constructing a multitude of decision trees at training time and outputting the class or mean prediction of the individual trees. Random forests improve on the decision tree model by reducing overfitting and increasing accuracy. This is achieved by generating multiple decision trees and then aggregating their predictions through a voting system."
   ]
  },
  {
   "cell_type": "code",
   "execution_count": 47,
   "metadata": {
    "notebookRunGroups": {
     "groupValue": "1"
    }
   },
   "outputs": [],
   "source": [
    "from sklearn.ensemble import RandomForestRegressor"
   ]
  },
  {
   "attachments": {},
   "cell_type": "markdown",
   "metadata": {},
   "source": [
    "### 7.2.1. Random Forests - Predefined parameters"
   ]
  },
  {
   "attachments": {},
   "cell_type": "markdown",
   "metadata": {},
   "source": [
    "#### 7.2.1.1. Random Forests - Predefined parameters - No attribute selection"
   ]
  },
  {
   "cell_type": "code",
   "execution_count": 48,
   "metadata": {
    "notebookRunGroups": {
     "groupValue": "1"
    }
   },
   "outputs": [
    {
     "name": "stdout",
     "output_type": "stream",
     "text": [
      "Results of the best estimator of Pipeline\n",
      "NMAE in validation: -2447807.29\n",
      "RMSE train: 1249861.81\tMAE train: 866788.80\n",
      "RMSE test: 3157684.68\tMAE test: 2212594.97\n",
      "---------------------------------------------------\n",
      "RANDOM FOREST PREDEFINED PARAMETERS best model is:\n",
      "\n",
      "GridSearchCV(cv=TimeSeriesSplit(gap=0, max_train_size=None, n_splits=5, test_size=None),\n",
      "             estimator=Pipeline(steps=[('model', RandomForestRegressor())]),\n",
      "             param_grid={'model__criterion': ['squared_error'],\n",
      "                         'model__max_depth': [None],\n",
      "                         'model__max_features': [None],\n",
      "                         'model__min_samples_split': [2],\n",
      "                         'model__n_estimators': [100]},\n",
      "             scoring='neg_mean_absolute_error')\n",
      "\n",
      "Parameters: {'model__criterion': 'squared_error', 'model__max_depth': None, 'model__max_features': None, 'model__min_samples_split': 2, 'model__n_estimators': 100}\n",
      "\n",
      "Performance: NMAE (val): -2447807.2894736845 | RMSE train: 1249861.8142356414 | MAE train: 866788.7991780821 | RMSE train: 3157684.6842388203 | MAE test: 2212594.97260274\n",
      "Execution time: 39.911582946777344s\n"
     ]
    }
   ],
   "source": [
    "np.random.seed(10)\n",
    "n_splits = 5\n",
    "\n",
    "pipeline = Pipeline([(\"model\", RandomForestRegressor(random_state=10))])\n",
    "\n",
    "param_grid = {\n",
    "    \"model__n_estimators\": [100],\n",
    "    \"model__criterion\": [\"squared_error\"],\n",
    "    \"model__max_depth\": [None],\n",
    "    \"model__min_samples_split\": [2],\n",
    "    \"model__max_features\": [None],\n",
    "}\n",
    "\n",
    "model = GridSearchCV(\n",
    "    pipeline,\n",
    "    param_grid,\n",
    "    scoring=\"neg_mean_absolute_error\",\n",
    "    cv=TimeSeriesSplit(n_splits),\n",
    "    n_jobs=-1,\n",
    ")\n",
    "\n",
    "start_time = time.time()\n",
    "model.fit(X=X_train, y=y_train)\n",
    "end_time = time.time()\n",
    "\n",
    "total_time = end_time - start_time\n",
    "\n",
    "score = train_and_test(\n",
    "    model.best_estimator_, model.best_score_, X_train, y_train, X_test, y_test\n",
    ")\n",
    "\n",
    "models[\"RandForest_pred\"] = model\n",
    "results[\"RandForest_pred\"] = score\n",
    "times[\"RandForest_pred\"] = total_time\n",
    "\n",
    "print_results(\"RANDOM FOREST PREDEFINED PARAMETERS\", model, score, total_time)"
   ]
  },
  {
   "attachments": {},
   "cell_type": "markdown",
   "metadata": {},
   "source": [
    "#### 7.2.1.2. Random Forests - Predefined parameters - Attribute selection"
   ]
  },
  {
   "cell_type": "code",
   "execution_count": 49,
   "metadata": {},
   "outputs": [
    {
     "name": "stdout",
     "output_type": "stream",
     "text": [
      "Results of the best estimator of Pipeline\n",
      "NMAE in validation: -2436340.53\n",
      "RMSE train: 1230647.08\tMAE train: 859275.53\n",
      "RMSE test: 3167880.67\tMAE test: 2219648.30\n",
      "---------------------------------------------------\n",
      "RANDOM FOREST PREDEFINED PARAMETERS best model is:\n",
      "\n",
      "GridSearchCV(cv=TimeSeriesSplit(gap=0, max_train_size=None, n_splits=5, test_size=None),\n",
      "             estimator=Pipeline(steps=[('select',\n",
      "                                        SelectKBest(score_func=<function f_regression at 0x7fbf8629ab90>)),\n",
      "                                       ('model', RandomForestRegressor())]),\n",
      "             n_jobs=-1,\n",
      "             param_grid={'model__criterion': ['squared_error'],\n",
      "                         'model__max_depth': [None],\n",
      "                         'model__max_features': [None],\n",
      "                         'model__min_samples_split': [2],\n",
      "                         'model__n_estimators': [100],\n",
      "                         'select__k': [1, 2, 3, 4, 5, 6, 7, 8, 9, 10, 11, 12,\n",
      "                                       13, 14, 15, 16, 17, 18, 19, 20, 21, 22,\n",
      "                                       23, 24, 25, 26, 27, 28, 29, 30, ...]},\n",
      "             scoring='neg_mean_absolute_error')\n",
      "\n",
      "Parameters: {'model__criterion': 'squared_error', 'model__max_depth': None, 'model__max_features': None, 'model__min_samples_split': 2, 'model__n_estimators': 100, 'select__k': 75}\n",
      "\n",
      "Performance: NMAE (val): -2436340.5286184214 | RMSE train: 1230647.077689153 | MAE train: 859275.5293150685 | RMSE train: 3167880.67115327 | MAE test: 2219648.301369863\n",
      "Execution time: 150.3789565563202s\n"
     ]
    }
   ],
   "source": [
    "np.random.seed(10)\n",
    "n_splits = 5\n",
    "\n",
    "pipeline = Pipeline(\n",
    "    [(\"select\", SelectKBest(f_regression)), (\"model\", RandomForestRegressor(random_state=10))]\n",
    ")\n",
    "\n",
    "param_grid = {\n",
    "    \"model__n_estimators\": [100],\n",
    "    \"model__criterion\": [\"squared_error\"],\n",
    "    \"model__max_depth\": [None],\n",
    "    \"model__min_samples_split\": [2],\n",
    "    \"model__max_features\": [None],\n",
    "    \"select__k\": list(range(1, X_train.shape[1] + 1)),\n",
    "}\n",
    "\n",
    "model = GridSearchCV(\n",
    "    pipeline,\n",
    "    param_grid,\n",
    "    scoring=\"neg_mean_absolute_error\",\n",
    "    cv=TimeSeriesSplit(n_splits),\n",
    "    n_jobs=-1,\n",
    ")\n",
    "\n",
    "start_time = time.time()\n",
    "model.fit(X=X_train, y=y_train)\n",
    "end_time = time.time()\n",
    "\n",
    "total_time = end_time - start_time\n",
    "\n",
    "score = train_and_test(\n",
    "    model.best_estimator_, model.best_score_, X_train, y_train, X_test, y_test\n",
    ")\n",
    "\n",
    "models[\"RandForest_pred_k\"] = model\n",
    "results[\"RandForest_pred_k\"] = score\n",
    "times[\"RandForest_pred_k\"] = total_time\n",
    "\n",
    "print_results(\"RANDOM FOREST PREDEFINED PARAMETERS\", model, score, total_time)"
   ]
  },
  {
   "attachments": {},
   "cell_type": "markdown",
   "metadata": {},
   "source": [
    "### 7.2.2. Random Forests - Selected parameters"
   ]
  },
  {
   "attachments": {},
   "cell_type": "markdown",
   "metadata": {},
   "source": [
    "Building upon the previous definition, we can reduce the most important parameters to be adjusted to the following:\n",
    "\n",
    "- n_estimators: controls the number of trees in the forest.\n",
    "- max_depth: controls the maximum depth of each tree in the forest.\n",
    "- min_samples_split: controls the minimum number of instances a leaf must have in order to be able to subdivide. This parameter can prevent the tree from overfitting.\n",
    "- min_samples_leaf: controls the minimum number of instances required to be at a leaf node. Like min_samples_split, this parameter can also help prevent overfitting."
   ]
  },
  {
   "cell_type": "code",
   "execution_count": 66,
   "metadata": {
    "notebookRunGroups": {
     "groupValue": "1"
    }
   },
   "outputs": [
    {
     "name": "stdout",
     "output_type": "stream",
     "text": [
      "Results of the best estimator of Pipeline\n",
      "NMAE in validation: -2382299.52\n",
      "RMSE train: 1425045.62\tMAE train: 980722.47\n",
      "RMSE test: 3052803.13\tMAE test: 2107542.02\n",
      "---------------------------------------------------\n",
      "Random Forest best model is:\n",
      "\n",
      "RandomizedSearchCV(cv=TimeSeriesSplit(gap=0, max_train_size=None, n_splits=5, test_size=None),\n",
      "                   estimator=Pipeline(steps=[('model',\n",
      "                                              RandomForestRegressor(random_state=10))]),\n",
      "                   n_iter=75, n_jobs=-1,\n",
      "                   param_distributions={'model__max_depth': [5, 10, 15, 20, 25,\n",
      "                                                             30, 35],\n",
      "                                        'model__max_features': ['sqrt', 'log2'],\n",
      "                                        'model__min_samples_split': [2, 3, 5, 7,\n",
      "                                                                     10],\n",
      "                                        'model__n_estimators': [100, 300, 800,\n",
      "                                                                900]},\n",
      "                   scoring='neg_mean_absolute_error')\n",
      "\n",
      "Parameters: {'model__n_estimators': 900, 'model__min_samples_split': 5, 'model__max_features': 'sqrt', 'model__max_depth': 25}\n",
      "\n",
      "Performance: NMAE (val): -2382299.5231620534 | RMSE train: 1425045.6232300766 | MAE train: 980722.4699717613 | RMSE train: 3052803.132746112 | MAE test: 2107542.020872962\n",
      "Execution time: 157.48544430732727s\n"
     ]
    }
   ],
   "source": [
    "np.random.seed(10)\n",
    "budget = 75\n",
    "n_splits = 5\n",
    "\n",
    "pipeline = Pipeline(\n",
    "    [\n",
    "        (\"model\", RandomForestRegressor(random_state=10))\n",
    "    ]\n",
    ")\n",
    "\n",
    "param_grid = {\n",
    "    \"model__n_estimators\": [100, 300, 800, 900],\n",
    "    \"model__max_depth\": list(range(5, 36, 5)),\n",
    "    \"model__min_samples_split\": [2, 3, 5, 7, 10],\n",
    "    \"model__max_features\": [\"sqrt\", \"log2\"],\n",
    "}\n",
    "\n",
    "model = RandomizedSearchCV(\n",
    "    pipeline,\n",
    "    param_grid,\n",
    "    scoring=\"neg_mean_absolute_error\",\n",
    "    cv=TimeSeriesSplit(n_splits),\n",
    "    n_iter=budget,\n",
    "    n_jobs=-1,\n",
    ")\n",
    "\n",
    "start_time = time.time()\n",
    "model.fit(X=X_train, y=y_train)\n",
    "end_time = time.time()\n",
    "\n",
    "total_time = end_time - start_time\n",
    "\n",
    "score = train_and_test(\n",
    "    model.best_estimator_, model.best_score_, X_train, y_train, X_test, y_test\n",
    ")\n",
    "\n",
    "models[\"RandForest_select\"] = model\n",
    "results[\"RandForest_select\"] = score\n",
    "times[\"RandForest_select\"] = total_time\n",
    "\n",
    "print_results(\"Random Forest\", model, score, total_time)"
   ]
  },
  {
   "cell_type": "code",
   "execution_count": 54,
   "metadata": {},
   "outputs": [
    {
     "name": "stdout",
     "output_type": "stream",
     "text": [
      "Results of the best estimator of Pipeline\n",
      "NMAE in validation: -2388704.04\n",
      "RMSE train: 1779325.48\tMAE train: 1287528.38\n",
      "RMSE test: 3046110.91\tMAE test: 2100753.02\n",
      "---------------------------------------------------\n",
      "Random Forest best model is:\n",
      "\n",
      "GridSearchCV(cv=TimeSeriesSplit(gap=0, max_train_size=None, n_splits=5, test_size=None),\n",
      "             estimator=Pipeline(steps=[('select',\n",
      "                                        SelectKBest(score_func=<function f_regression at 0x7fbf8629ab90>)),\n",
      "                                       ('model',\n",
      "                                        RandomForestRegressor(random_state=10))]),\n",
      "             n_jobs=-1,\n",
      "             param_grid={'model__max_depth': [11],\n",
      "                         'model__max_features': ['sqrt'],\n",
      "                         'model__min_samples_split': [5],\n",
      "                         'model__n_estimators': [200],\n",
      "                         'select__k': [1, 2, 3, 4, 5, 6, 7, 8, 9, 10, 11, 12,\n",
      "                                       13, 14, 15, 16, 17, 18, 19, 20, 21, 22,\n",
      "                                       23, 24, 25, 26, 27, 28, 29, 30, ...]},\n",
      "             scoring='neg_mean_absolute_error')\n",
      "\n",
      "Parameters: {'model__max_depth': 11, 'model__max_features': 'sqrt', 'model__min_samples_split': 5, 'model__n_estimators': 200, 'select__k': 75}\n",
      "\n",
      "Performance: NMAE (val): -2388704.0372038735 | RMSE train: 1779325.482904614 | MAE train: 1287528.379922953 | RMSE train: 3046110.9140748647 | MAE test: 2100753.0185126793\n",
      "Execution time: 44.384307622909546s\n"
     ]
    }
   ],
   "source": [
    "np.random.seed(10)\n",
    "n_splits = 5\n",
    "\n",
    "pipeline = Pipeline(\n",
    "    [(\"select\", SelectKBest(f_regression)), (\"model\", RandomForestRegressor(random_state=10))]\n",
    ")\n",
    "\n",
    "param_grid = {\n",
    "    \"model__n_estimators\": [200],\n",
    "    \"model__max_depth\": [11],\n",
    "    \"model__min_samples_split\": [5],\n",
    "    \"model__max_features\": [\"sqrt\"],\n",
    "    \"select__k\": list(range(1, X_train.shape[1] + 1)),\n",
    "}\n",
    "\n",
    "model = GridSearchCV(\n",
    "    pipeline,\n",
    "    param_grid,\n",
    "    scoring=\"neg_mean_absolute_error\",\n",
    "    cv=TimeSeriesSplit(n_splits),\n",
    "    n_jobs=-1,\n",
    ")\n",
    "\n",
    "start_time = time.time()\n",
    "model.fit(X=X_train, y=y_train)\n",
    "end_time = time.time()\n",
    "\n",
    "total_time = end_time - start_time\n",
    "\n",
    "score = train_and_test(\n",
    "    model.best_estimator_, model.best_score_, X_train, y_train, X_test, y_test\n",
    ")\n",
    "\n",
    "models[\"RandForest_select_k\"] = model\n",
    "results[\"RandForest_select_k\"] = score\n",
    "times[\"RandForest_select_k\"] = total_time\n",
    "\n",
    "print_results(\"Random Forest\", model, score, total_time)"
   ]
  },
  {
   "attachments": {},
   "cell_type": "markdown",
   "metadata": {},
   "source": [
    "---\n",
    "# 8. Best model\n",
    "We will re-visit all the models and select the best one, which we have stated to be the one with the lowest MAE and the lowest RMSE."
   ]
  },
  {
   "cell_type": "code",
   "execution_count": 53,
   "metadata": {
    "notebookRunGroups": {
     "groupValue": "1"
    }
   },
   "outputs": [
    {
     "name": "stdout",
     "output_type": "stream",
     "text": [
      "\n",
      "\n",
      "0. Sected model: KNN_pred\n",
      "\n",
      "Parameters: {'model__algorithm': 'auto', 'model__metric': 'minkowski', 'model__n_neighbors': 5, 'model__weights': 'uniform'}\n",
      "Score NMAE in train-validation: -3239984.25\n",
      "Score MAE (train): 2493007.2164383563 | Score RMSE (train): 3517654.379918169\n",
      "Score MAE (test): 2932657.7260273974 | Score RMSE (test): 4052918.045996807\n",
      "Time: 0.2155897617340088\n",
      "\n",
      "\n",
      "1. Sected model: KNN_pred_k\n",
      "\n",
      "Parameters: {'model__algorithm': 'auto', 'model__metric': 'minkowski', 'model__n_neighbors': 5, 'model__weights': 'uniform', 'select__k': 6}\n",
      "Score NMAE in train-validation: -2690780.4078947366\n",
      "Score MAE (train): 2162755.2657534247 | Score RMSE (train): 3108869.5243311627\n",
      "Score MAE (test): 2636704.8493150687 | Score RMSE (test): 3817678.9396583214\n",
      "Time: 9.636045217514038\n",
      "\n",
      "\n",
      "2. Sected model: KNN_select\n",
      "\n",
      "Parameters: {'model__weights': 'distance', 'model__n_neighbors': 17, 'model__metric': 'manhattan', 'model__algorithm': 'kd_tree'}\n",
      "Score NMAE in train-validation: -2880131.5631625694\n",
      "Score MAE (train): 0.0 | Score RMSE (train): 0.0\n",
      "Score MAE (test): 2558754.341563862 | Score RMSE (test): 3565366.01276105\n",
      "Time: 21.66078281402588\n",
      "\n",
      "\n",
      "3. Sected model: KNN_select_k\n",
      "\n",
      "Parameters: {'model__algorithm': 'kd_tree', 'model__metric': 'minkowski', 'model__n_neighbors': 9, 'model__weights': 'distance', 'select__k': 8}\n",
      "Score NMAE in train-validation: -2620137.8590261317\n",
      "Score MAE (train): 0.0 | Score RMSE (train): 0.0\n",
      "Score MAE (test): 2470235.3428950827 | Score RMSE (test): 3573786.2885428783\n",
      "Time: 5.894104719161987\n",
      "\n",
      "\n",
      "4. Sected model: RegTrees_pred\n",
      "\n",
      "Parameters: {'model__criterion': 'squared_error', 'model__max_depth': None, 'model__max_features': None, 'model__min_samples_split': 2}\n",
      "Score NMAE in train-validation: -3467149.4407894737\n",
      "Score MAE (train): 0.0 | Score RMSE (train): 0.0\n",
      "Score MAE (test): 3096676.8493150687 | Score RMSE (test): 4415298.670843619\n",
      "Time: 0.5558083057403564\n",
      "\n",
      "\n",
      "5. Sected model: RegTrees_pred_k\n",
      "\n",
      "Parameters: {'model__criterion': 'squared_error', 'model__max_depth': None, 'model__max_features': None, 'model__min_samples_split': 2, 'select__k': 74}\n",
      "Score NMAE in train-validation: -3328832.171052632\n",
      "Score MAE (train): 0.0 | Score RMSE (train): 0.0\n",
      "Score MAE (test): 3133033.1506849313 | Score RMSE (test): 4436486.024386344\n",
      "Time: 2.886359453201294\n",
      "\n",
      "\n",
      "6. Sected model: RegTrees_select\n",
      "\n",
      "Parameters: {'model__min_samples_split': 106, 'model__max_features': None, 'model__max_depth': 30, 'model__criterion': 'absolute_error'}\n",
      "Score NMAE in train-validation: -2743220.575657895\n",
      "Score MAE (train): 2080612.602739726 | Score RMSE (train): 3259190.446254432\n",
      "Score MAE (test): 2517586.2328767125 | Score RMSE (test): 3751318.579863181\n",
      "Time: 16.169135332107544\n",
      "\n",
      "\n",
      "7. Sected model: RegTrees_select_k\n",
      "\n",
      "Parameters: {'model__criterion': 'absolute_error', 'model__max_depth': 30, 'model__max_features': None, 'model__min_samples_split': 106, 'select__k': 11}\n",
      "Score NMAE in train-validation: -2727416.151315789\n",
      "Score MAE (train): 2199234.328767123 | Score RMSE (train): 3452866.617242818\n",
      "Score MAE (test): 2545067.8767123288 | Score RMSE (test): 3788146.7966390885\n",
      "Time: 26.24833345413208\n",
      "\n",
      "\n",
      "8. Sected model: LinearReg_pred\n",
      "\n",
      "Parameters: {'model__fit_intercept': True}\n",
      "Score NMAE in train-validation: -2437056.0592061607\n",
      "Score MAE (train): 2321647.0597032406 | Score RMSE (train): 3254352.603690468\n",
      "Score MAE (test): 2242422.367108231 | Score RMSE (test): 3103586.4486739947\n",
      "Time: 0.30195021629333496\n",
      "\n",
      "\n",
      "9. Sected model: LinearReg_pred_k\n",
      "\n",
      "Parameters: {'model__fit_intercept': True, 'select__k': 72}\n",
      "Score NMAE in train-validation: -2421796.652193799\n",
      "Score MAE (train): 2323171.6092511206 | Score RMSE (train): 3256573.9989301027\n",
      "Score MAE (test): 2248616.8067180943 | Score RMSE (test): 3107801.9576505884\n",
      "Time: 2.0286073684692383\n",
      "\n",
      "\n",
      "10. Sected model: LinearReg_select\n",
      "\n",
      "Parameters: {'model__alpha': 0.9693631061142517}\n",
      "Score NMAE in train-validation: -2396352.0117066414\n",
      "Score MAE (train): 2333075.6766354376 | Score RMSE (train): 3276534.918917554\n",
      "Score MAE (test): 2240841.395277726 | Score RMSE (test): 3103991.394817176\n",
      "Time: 1.6062359809875488\n",
      "\n",
      "\n",
      "11. Sected model: LinearReg_select_k\n",
      "\n",
      "Parameters: {'model__alpha': 0.9693631061142517, 'select__k': 72}\n",
      "Score NMAE in train-validation: -2389586.491181177\n",
      "Score MAE (train): 2333541.305110323 | Score RMSE (train): 3278341.466529396\n",
      "Score MAE (test): 2244967.221944342 | Score RMSE (test): 3108020.390028838\n",
      "Time: 1.8783280849456787\n",
      "\n",
      "\n",
      "12. Sected model: SVM_pred\n",
      "\n",
      "Parameters: {'model__epsilon': 0.1, 'model__gamma': 'scale', 'model__kernel': 'rbf'}\n",
      "Score NMAE in train-validation: -6953343.117286754\n",
      "Score MAE (train): 6899170.647284467 | Score RMSE (train): 8058525.276321875\n",
      "Score MAE (test): 6281604.088961575 | Score RMSE (test): 7478465.501368871\n",
      "Time: 2.069565773010254\n",
      "\n",
      "\n",
      "13. Sected model: SVM_pred_k\n",
      "\n",
      "Parameters: {'model__C': 1.0, 'model__epsilon': 0.1, 'model__gamma': 'scale', 'model__kernel': 'rbf', 'select__k': 2}\n",
      "Score NMAE in train-validation: -6952999.553407727\n",
      "Score MAE (train): 6898491.591050504 | Score RMSE (train): 8057851.465218631\n",
      "Score MAE (test): 6280965.566937376 | Score RMSE (test): 7477858.611258205\n",
      "Time: 29.70225501060486\n",
      "\n",
      "\n",
      "14. Sected model: SVM_select\n",
      "\n",
      "Parameters: {'model__kernel': 'linear', 'model__gamma': 'auto', 'model__C': 1000000}\n",
      "Score NMAE in train-validation: -2331773.9543751357\n",
      "Score MAE (train): 2251590.3404441564 | Score RMSE (train): 3384381.6752997166\n",
      "Score MAE (test): 2272204.415296306 | Score RMSE (test): 3314781.2564529474\n",
      "Time: 36.98407244682312\n",
      "\n",
      "\n",
      "15. Sected model: SVM_select_k\n",
      "\n",
      "Parameters: {'model__C': 1000000, 'model__gamma': 'auto', 'model__kernel': 'linear', 'select__k': 75}\n",
      "Score NMAE in train-validation: -2331773.9543751357\n",
      "Score MAE (train): 2251590.3404441564 | Score RMSE (train): 3384381.6752997166\n",
      "Score MAE (test): 2272204.415296306 | Score RMSE (test): 3314781.2564529474\n",
      "Time: 36.91520929336548\n",
      "\n",
      "\n",
      "16. Sected model: RandForest_pred\n",
      "\n",
      "Parameters: {'model__criterion': 'squared_error', 'model__max_depth': None, 'model__max_features': None, 'model__min_samples_split': 2, 'model__n_estimators': 100}\n",
      "Score NMAE in train-validation: -2447807.2894736845\n",
      "Score MAE (train): 866788.7991780821 | Score RMSE (train): 1249861.8142356414\n",
      "Score MAE (test): 2212594.97260274 | Score RMSE (test): 3157684.6842388203\n",
      "Time: 39.911582946777344\n",
      "\n",
      "\n",
      "17. Sected model: RandForest_pred_k\n",
      "\n",
      "Parameters: {'model__criterion': 'squared_error', 'model__max_depth': None, 'model__max_features': None, 'model__min_samples_split': 2, 'model__n_estimators': 100, 'select__k': 75}\n",
      "Score NMAE in train-validation: -2436340.5286184214\n",
      "Score MAE (train): 859275.5293150685 | Score RMSE (train): 1230647.077689153\n",
      "Score MAE (test): 2219648.301369863 | Score RMSE (test): 3167880.67115327\n",
      "Time: 150.3789565563202\n",
      "\n",
      "\n",
      "18. Sected model: RandForest_select\n",
      "\n",
      "Parameters: {'model__n_estimators': 200, 'model__min_samples_split': 5, 'model__max_features': 'sqrt', 'model__max_depth': 11}\n",
      "Score NMAE in train-validation: -2388704.0372038735\n",
      "Score MAE (train): 1287528.379922953 | Score RMSE (train): 1779325.482904614\n",
      "Score MAE (test): 2100753.0185126793 | Score RMSE (test): 3046110.9140748647\n",
      "Time: 10.94435429573059\n"
     ]
    },
    {
     "data": {
      "image/png": "[encoded data removed]",
      "text/plain": [
       "<Figure size 640x480 with 1 Axes>"
      ]
     },
     "metadata": {},
     "output_type": "display_data"
    },
    {
     "data": {
      "image/png": "[encoded data removed]",
      "text/plain": [
       "<Figure size 640x480 with 1 Axes>"
      ]
     },
     "metadata": {},
     "output_type": "display_data"
    },
    {
     "data": {
      "image/png": "[encoded data removed]",
      "text/plain": [
       "<Figure size 640x480 with 1 Axes>"
      ]
     },
     "metadata": {},
     "output_type": "display_data"
    }
   ],
   "source": [
    "# ! Print the models best parameters\n",
    "i = 0\n",
    "for key, value in models.items():\n",
    "    print(f\"\\n\\n{i}. Sected model: {key}\\n\")\n",
    "    print(f\"Parameters: {value.best_params_}\")\n",
    "    print(f\"Score NMAE in train-validation: {results[key][0]}\")\n",
    "    print(f\"Score MAE (train): {results[key][2]} | Score RMSE (train): {results[key][1]}\")\n",
    "    print(f\"Score MAE (test): {results[key][4]} | Score RMSE (test): {results[key][3]}\")\n",
    "    print(f\"Time: {times[key]}\")\n",
    "    i+=1\n",
    "\n",
    "# ! Plot the test score (MAE)\n",
    "for key, value in results.items():\n",
    "    plt.bar(key, abs(value[4]))\n",
    "    # print(f\"{key}: {abs(value[3])}\")\n",
    "plt.title(\"Score\")\n",
    "plt.xlabel(\"Model\")\n",
    "plt.ylabel(\"MAE - test\")\n",
    "plt.tight_layout()\n",
    "\n",
    "# Exporting image as png to ../data/img folder\n",
    "plt.savefig(\"../data/img/basic_methods_score_mae.png\")\n",
    "plt.show()\n",
    "\n",
    "# ! Plot the test score (RMSE)\n",
    "for key, value in results.items():\n",
    "    plt.bar(key, abs(value[3]))\n",
    "    # print(f\"{key}: {abs(value[2])}\")\n",
    "plt.title(\"Score\")\n",
    "plt.xlabel(\"Model\")\n",
    "plt.ylabel(\"RMSE - test\")\n",
    "plt.tight_layout()\n",
    "\n",
    "# Exporting image as png to ../data/img folder\n",
    "plt.savefig(\"../data/img/basic_methods_score_rmse.png\")\n",
    "plt.show()\n",
    "\n",
    "# ! Plot the time\n",
    "for key, value in times.items():\n",
    "    plt.bar(key, value)\n",
    "plt.title(\"Time\")\n",
    "plt.xlabel(\"Model\")\n",
    "plt.ylabel(\"Time (s)\")\n",
    "plt.tight_layout()\n",
    "\n",
    "# Exporting image as png to ../data/img folder - easier to visualize the annotations, better resolution\n",
    "plt.savefig(\"../data/img/basic_methods_time.png\")\n",
    "plt.show()"
   ]
  },
  {
   "attachments": {},
   "cell_type": "markdown",
   "metadata": {},
   "source": [
    "## 8.2. Exportación del modelo seleccionado"
   ]
  },
  {
   "cell_type": "code",
   "execution_count": null,
   "metadata": {},
   "outputs": [],
   "source": [
    "np.random.seed(10)\n",
    "\n",
    "def train_best_model(selected_model):\n",
    "    print(\"\")"
   ]
  },
  {
   "cell_type": "code",
   "execution_count": null,
   "metadata": {
    "notebookRunGroups": {
     "groupValue": "1"
    }
   },
   "outputs": [],
   "source": [
    "import pickle\n",
    "# Export final selected model (RandForest_select) -> 10th position\n",
    "# Select the 9th position in the dictionary\n",
    "selected_model = models[\"RandForest_select\"]\n",
    "\n",
    "# ! Entrenamos el modelo con los mejores datos\n",
    "best_model = train_best_model(selected_model)\n",
    "\n",
    "print(f\"\\nSelected model: {model}\")\n",
    "\n",
    "# Export model as pickle file in ../data/model folder\n",
    "with open(\"../data/model/modelo_final.pkl\", \"wb\") as file:\n",
    "    pickle.dump(selected_model, file)\n",
    "\n",
    "# ! Compare the model exported with the one loaded - check if it is the same\n",
    "# Load model from pickle file\n",
    "with open(\"../data/model/modelo_final.pkl\", \"rb\") as file:\n",
    "    loaded_model = pickle.load(file)\n",
    "\n",
    "print(f\"\\nSaved model: {loaded_model}, {type(loaded_model)}, {loaded_model.best_params_}\")\n",
    "    \n",
    "if selected_model.best_params_ == loaded_model.best_params_:\n",
    "    print(\"\\n\\nThe models are the same\")\n",
    "else:\n",
    "    print(\"\\n\\nERROR: The models are different\")"
   ]
  },
  {
   "attachments": {},
   "cell_type": "markdown",
   "metadata": {},
   "source": [
    "---\n",
    "# 9. Conclusiones"
   ]
  },
  {
   "attachments": {},
   "cell_type": "markdown",
   "metadata": {},
   "source": [
    "---\n",
    "# X. Output the Jupyter Notebook as an HTML file"
   ]
  },
  {
   "cell_type": "code",
   "execution_count": null,
   "metadata": {},
   "outputs": [],
   "source": [
    "import os\n",
    "\n",
    "# Export the notebook to HTML\n",
    "os.system(\"jupyter nbconvert --to html model.ipynb --output ../data/html/model.html\")\n",
    "print(\"Notebook exported to HTML\")"
   ]
  }
 ],
 "metadata": {
  "kernelspec": {
   "display_name": "Python 3",
   "language": "python",
   "name": "python3"
  },
  "language_info": {
   "codemirror_mode": {
    "name": "ipython",
    "version": 3
   },
   "file_extension": ".py",
   "mimetype": "text/x-python",
   "name": "python",
   "nbconvert_exporter": "python",
   "pygments_lexer": "ipython3",
   "version": "3.10.10"
  },
  "orig_nbformat": 4,
  "vscode": {
   "interpreter": {
    "hash": "b4c01c8f52586033bb4bb2bf4f864991e275e728809d596b5bf2a750c26b84f7"
   }
  }
 },
 "nbformat": 4,
 "nbformat_minor": 2
}
