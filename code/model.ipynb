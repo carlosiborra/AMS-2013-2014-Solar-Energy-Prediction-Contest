{
 "cells": [
  {
   "attachments": {},
   "cell_type": "markdown",
   "metadata": {},
   "source": [
    "# Práctica 1. Aprendizaje Automático\n",
    "\n",
    "Authors: Carlos Iborra Llopis (100451170), Alejandra Galán Arrospide (100451273)\n"
   ]
  },
  {
   "attachments": {},
   "cell_type": "markdown",
   "metadata": {},
   "source": [
    "# 0. Table of contents\n",
    "\n",
    "- [Práctica 1. Aprendizaje Automático](#práctica-1-aprendizaje-automático)\n",
    "  - [0. Table of contents](#0-table-of-contents)\n",
    "  - [1. Requirements](#1-requirements)\n",
    "  - [2. Reading the datasets](#2-reading-the-datasets)\n",
    "  - [3. Exploratory Data Analysis](#3-EDA)"
   ]
  },
  {
   "attachments": {},
   "cell_type": "markdown",
   "metadata": {},
   "source": [
    "# 1. Requirements\n"
   ]
  },
  {
   "cell_type": "code",
   "execution_count": null,
   "metadata": {
    "notebookRunGroups": {
     "groupValue": "1"
    }
   },
   "outputs": [],
   "source": [
    "\"\"\" Importing necessary libraries \"\"\"\n",
    "import pandas as pd\n",
    "import numpy as np\n",
    "import matplotlib.pyplot as plt\n",
    "import missingno as msno\n",
    "import seaborn as sns\n",
    "import scipy.stats as st\n",
    "import scipy\n",
    "import sklearn\n",
    "\n",
    "from matplotlib.cbook import boxplot_stats as bps"
   ]
  },
  {
   "attachments": {},
   "cell_type": "markdown",
   "metadata": {},
   "source": [
    "### 1.1. Cleaning ../data/img/ folder\n",
    "This way we avoid creating multiple images and sending the old ones to the trash.<br>\n",
    "Also using this to upload cleaner commits to GitHub.\n"
   ]
  },
  {
   "cell_type": "code",
   "execution_count": null,
   "metadata": {
    "notebookRunGroups": {
     "groupValue": "1"
    }
   },
   "outputs": [],
   "source": [
    "\"\"\" Cleaning the ../data/img/ folder \"\"\"\n",
    "import os\n",
    "import glob\n",
    "\n",
    "files = glob.glob(\"../data/img/*\")\n",
    "for f in files:\n",
    "    if os.path.isfile(f) and f.endswith(\".png\"):\n",
    "        os.remove(f)\n",
    "\n",
    "files = glob.glob(\"../data/img/box-plot/*\")\n",
    "for f in files:\n",
    "    if os.path.isfile(f) and f.endswith(\".png\"):\n",
    "        os.remove(f)"
   ]
  },
  {
   "attachments": {},
   "cell_type": "markdown",
   "metadata": {},
   "source": [
    "---\n",
    "# 2. Reading the datasets\n",
    "Reading the datasets from the bz2 files, group 2."
   ]
  },
  {
   "cell_type": "code",
   "execution_count": null,
   "metadata": {
    "notebookRunGroups": {
     "groupValue": "1"
    }
   },
   "outputs": [],
   "source": [
    "\"\"\" Reading the dataset \"\"\"\n",
    "disp_df = pd.read_csv(\"../data/disp_st2ns1.txt.bz2\", compression=\"bz2\", index_col=0)\n",
    "comp_df = pd.read_csv(\"../data/comp_st2ns1.txt.bz2\", compression=\"bz2\", index_col=0)"
   ]
  },
  {
   "attachments": {},
   "cell_type": "markdown",
   "metadata": {},
   "source": [
    "---\n",
    "# 3. EDA"
   ]
  },
  {
   "attachments": {},
   "cell_type": "markdown",
   "metadata": {},
   "source": [
    "**Key Concepts of Exploratory Data Analysis**\n",
    "\n",
    "- **2 types of Data Analysis**\n",
    "  - Confirmatory Data Analysis\n",
    "  - Exploratory Data Analysis\n",
    "- **4 Objectives of EDA**\n",
    "  - Discover Patterns\n",
    "  - Spot Anomalies\n",
    "  - Frame Hypothesis\n",
    "  - Check Assumptions\n",
    "- **2 methods for exploration**\n",
    "  - Univariate Analysis\n",
    "  - Bivariate Analysis\n",
    "- **Stuff done during EDA**\n",
    "  - Trends\n",
    "  - Distribution\n",
    "  - Mean\n",
    "  - Median\n",
    "  - Outlier\n",
    "  - Spread measurement (SD)\n",
    "  - Correlations\n",
    "  - Hypothesis testing\n",
    "  - Visual Exploration\n"
   ]
  },
  {
   "attachments": {},
   "cell_type": "markdown",
   "metadata": {},
   "source": [
    "## 3.0. Dataset preparation\n",
    "\n",
    "To conduct exploratory data analysis (EDA) on our real data, we need to prepare the data first. Therefore, we have decided to separate the data into training and test sets at an early stage to avoid data leakage, which could result in an overly optimistic evaluation of the model, among other consequences. This separation will be done by dividing the data prematurely into training and test sets since potential data leakage can occur from the usage of the test partition, especially when including the result variable.\n",
    "\n",
    "It is important to note that this step is necessary because all the information obtained in this section will be used to make decisions such as dimensionality reduction. Furthermore, this approach makes the evaluation more realistic and rigorous since the test set is not used until the end of the process.\n",
    "\n",
    "\n"
   ]
  },
  {
   "cell_type": "code",
   "execution_count": null,
   "metadata": {},
   "outputs": [],
   "source": [
    "\"\"\" Train Test Split (time series) \"\"\"\n",
    "\n",
    "# * Make a copy of the dataframe (as Padas dataframe is mutable, therefore uses a reference)\n",
    "disp_df_copy = disp_df.copy()\n",
    "\n",
    "# print(disp_df)\n",
    "# print(disp_df_copy)\n",
    "\n",
    "# Now we make the train_x, train_y, test_x, test_y splits taking into account the time series\n",
    "# Note: the time series is ordered by date, therefore we need to split the data in a way that the train data is before the test data\n",
    "# Note: the 10 first years are used for training and the last two years for testing\n",
    "# Note: this is done because if not, we will be predicting the past from the future, which leads to errors and overfitting (data leakage) in the model\n",
    "\n",
    "# * Calculate the number of rows for training and testing\n",
    "num_rows = disp_df_copy.shape[0]\n",
    "num_train_rows = int(\n",
    "    num_rows * 10 / 12\n",
    ")  # 10 first years for training, 2 last years for testing\n",
    "\n",
    "# * Split the data into train and test dataframes (using iloc instead of train_test_split as it picks random rows)\n",
    "train_df = disp_df_copy.iloc[\n",
    "    :num_train_rows, :\n",
    "]  # train contains the first 10 years of rows\n",
    "test_df = disp_df_copy.iloc[\n",
    "    num_train_rows:, :\n",
    "]  # test contains the last 2 years of rows\n",
    "\n",
    "# Print the number of rows for each dataframe\n",
    "print(f\"Number of rows for training (EDA): {train_df.shape[0]}\")\n",
    "print(f\"Number of rows for testing: {test_df.shape[0]}\")\n",
    "\n",
    "\n",
    "# ! We maintain the original dataframe for later use (as we will divide it into train and test dataframes below)\n",
    "# ! For the EDA, we will use the train_df dataframe (with the outpout variable)."
   ]
  },
  {
   "attachments": {},
   "cell_type": "markdown",
   "metadata": {},
   "source": [
    "## 3.1. Dataset description\n",
    "\n",
    "- **apcp_sfc**: 3-Hour accumulated precipitation at the surface (kg·m⁽⁻²⁾)\n",
    "- **dlwrf_sfc**: Downward long-wave radiative flux average at the surface (W·m⁽⁻²⁾)\n",
    "- **dswrf_sfc**: Downward short-wave radiative flux average at the surface (W·m⁽⁻²⁾)\n",
    "- **pres_msl**: Air pressure at mean sea level (Pa)\n",
    "- **pwat_eatm**: Precipitable Water over the entire depth of the atmosphere (kg·m⁽⁻²⁾)\n",
    "- **spfh_2m**: Specific Humidity at 2 m above ground (kg·kg⁽⁻¹⁾)\n",
    "- **tcdc_eatm**: Total cloud cover over the entire depth of the atmosphere (%)\n",
    "- **tcolc_eatm**: Total column-integrated condensate over the entire atmos. (kg·m⁽⁻²⁾)\n",
    "- **tmax_2m**: Maximum Temperature over the past 3 hours at 2 m above the ground (K)\n",
    "- **tmin_2m**: Mininmum Temperature over the past 3 hours at 2 m above the ground (K)\n",
    "- **tmp_2m**: Current temperature at 2 m above the ground (K)\n",
    "- **tmp_sfc**: Temperature of the surface (K)\n",
    "- **ulwrf_sfc**: Upward long-wave radiation at the surface (W·m⁽⁻²⁾)\n",
    "- **ulwrf_tatm**: Upward long-wave radiation at the top of the atmosphere (W·m⁽⁻²⁾)\n",
    "- **uswrf_sfc**: Upward short-wave radiation at the surface (W·m⁽⁻²⁾)\n"
   ]
  },
  {
   "cell_type": "code",
   "execution_count": null,
   "metadata": {},
   "outputs": [],
   "source": [
    "# Display all the columns of the dataframe\n",
    "pd.set_option(\"display.max_columns\", None)\n",
    "\n",
    "train_df.describe()"
   ]
  },
  {
   "cell_type": "code",
   "execution_count": null,
   "metadata": {},
   "outputs": [],
   "source": [
    "train_df.shape"
   ]
  },
  {
   "cell_type": "code",
   "execution_count": null,
   "metadata": {},
   "outputs": [],
   "source": [
    "train_df.head()"
   ]
  },
  {
   "cell_type": "code",
   "execution_count": null,
   "metadata": {},
   "outputs": [],
   "source": [
    "train_df.info()"
   ]
  },
  {
   "attachments": {},
   "cell_type": "markdown",
   "metadata": {},
   "source": [
    "## 3.2. Missing values\n"
   ]
  },
  {
   "attachments": {},
   "cell_type": "markdown",
   "metadata": {},
   "source": [
    "Fist, we check the number the total number of missing values in the dataset in order to know if we have to clean the dataset or not."
   ]
  },
  {
   "cell_type": "code",
   "execution_count": null,
   "metadata": {},
   "outputs": [],
   "source": [
    "train_df.isna().sum()"
   ]
  },
  {
   "attachments": {},
   "cell_type": "markdown",
   "metadata": {},
   "source": [
    "As we can oberve, there are no missing values in the dataset, but theres still the possibility of having missing values measured as 0's, so we will check if all those zeros make sense in the context of the dataset or not."
   ]
  },
  {
   "cell_type": "code",
   "execution_count": null,
   "metadata": {},
   "outputs": [],
   "source": [
    "# In the plot, we can see that there are a lot of 0 values in the dataset\n",
    "train_df.plot(legend=False, figsize=(15, 5))"
   ]
  },
  {
   "cell_type": "code",
   "execution_count": null,
   "metadata": {},
   "outputs": [],
   "source": [
    "result = train_df.eq(0.0).sum() / len(train_df) * 100\n",
    "\n",
    "# Select those columns with more than 30% of zeros\n",
    "result = result[result > 30.0]\n",
    "result = result.sort_values(ascending=False)\n",
    "result"
   ]
  },
  {
   "cell_type": "markdown",
   "metadata": {},
   "source": []
  },
  {
   "attachments": {},
   "cell_type": "markdown",
   "metadata": {},
   "source": [
    "### Observations\n",
    "\n",
    "As output of the previous cell, we can see that there exist a lot of zeros in the dataset, let's analize if those zeros make sense or not.\n",
    "\n",
    "The variables with most ammount of zeros (>30%) are:\n",
    "\n",
    "- **dswrf_s1_1**: Downward short-wave radiative flux average at the surface, at 12:00 UTC, normal to have a lot of zeros as it is not sunny at 12:00\n",
    "- **uswrf_s1_1**: Upward short-wave radiation at the surface, at 12:00 UTC, normal to have a lot of zeros as it is not sunny at 12:00\n",
    "- **apcp_s**: 3-Hour accumulated precipitation at the surface, as it is not raining every day, it is normal to have a lot of zeros\n",
    "- **tcdc_ea**: Total cloud cover over the entire depth of the atmosphere, as it is not cloudy every day, it is normal to have a lot of zeros\n"
   ]
  },
  {
   "attachments": {},
   "cell_type": "markdown",
   "metadata": {},
   "source": [
    "First, lets start by assigning the zeros to NaNs. By doing this we can visualize the varibles that take more values other than zero.\n"
   ]
  },
  {
   "cell_type": "code",
   "execution_count": null,
   "metadata": {},
   "outputs": [],
   "source": [
    "disp_df_nan = train_df.replace(0.0, np.nan)"
   ]
  },
  {
   "cell_type": "code",
   "execution_count": null,
   "metadata": {},
   "outputs": [],
   "source": [
    "\"\"\" Plotting missing values \"\"\"\n",
    "# Sustitute 0.0 values with NaN and plot the name of the columns with missing values\n",
    "# ? msno.bar is a simple visualization of nullity by column\n",
    "msno.bar(disp_df_nan, labels=True, fontsize=7, figsize=(15, 7))\n",
    "\n",
    "# Exporting image as png to ../data/img folder\n",
    "plt.savefig(\"../data/img/missing_values_bar.png\")"
   ]
  },
  {
   "cell_type": "code",
   "execution_count": null,
   "metadata": {},
   "outputs": [],
   "source": [
    "\"\"\" Plotting the missing values in a matrix \"\"\"\n",
    "\n",
    "# ? The msno.matrix nullity matrix is a data-dense display which lets you quickly visually pick out patterns in data completion.\n",
    "msno.matrix(disp_df_nan)\n",
    "\n",
    "# Exporting image as png to ../data/img folder\n",
    "plt.savefig(\"../data/img/missing_values_matrix.png\")"
   ]
  },
  {
   "cell_type": "code",
   "execution_count": null,
   "metadata": {},
   "outputs": [],
   "source": [
    "\"\"\" Plotting the missing values in a heatmap \"\"\"\n",
    "# As in a hetmap not every value is shown, we must delimit the values to the ones with more than 30% of missing values\n",
    "result = disp_df.eq(0.0).sum() / len(disp_df) * 100\n",
    "result = result[result > 30.0]  # Select those columns with more than 30% of zeros\n",
    "result = result.sort_values(ascending=False)\n",
    "result = result.index.tolist()  # Convert to list\n",
    "result\n",
    "\n",
    "# ? The missingno correlation heatmap measures nullity correlation: how strongly the presence or absence of one variable affects the presence of another\n",
    "msno.heatmap(disp_df_nan[result], fontsize=7, figsize=(15, 7))\n",
    "\n",
    "# Exporting image as png to ../data/img folder\n",
    "plt.savefig(\"../data/img/missing_values_heatmap.png\")"
   ]
  },
  {
   "cell_type": "code",
   "execution_count": null,
   "metadata": {},
   "outputs": [],
   "source": [
    "\"\"\" Plotting the dendrogram \"\"\"\n",
    "\n",
    "# ? The dendrogram allows you to more fully correlate variable completion, revealing trends deeper than the pairwise ones visible in the correlation heatmap:\n",
    "msno.dendrogram(disp_df_nan, orientation=\"top\", fontsize=7, figsize=(15, 7))\n",
    "\n",
    "# Exporting image as png to ../data/img folder\n",
    "plt.savefig(\"../data/img/missing_values_dendrogram.png\")"
   ]
  },
  {
   "attachments": {},
   "cell_type": "markdown",
   "metadata": {
    "notebookRunGroups": {
     "groupValue": "1"
    }
   },
   "source": [
    "### Conclusions\n",
    "In this section, we have observe that there are no attibutes with 'Null' nor 'NaN' nor 'None' values. This indicated that at a first glance, the data is clean, at least of those datatypes.\n",
    "\n",
    "In second place, we have observed that the attributes that we suspected could have an important number of missing values (represented by 0 instead of the previously mentioned), had instead valuable information, as we have proved along this section.<br>Since the data is clean and we have concluded there are no missing values, we do not need to complete them using a model or other methods, so we can move on to the next step, observing the outliers."
   ]
  },
  {
   "attachments": {},
   "cell_type": "markdown",
   "metadata": {},
   "source": [
    "## 3.3. Outliers\n"
   ]
  },
  {
   "attachments": {},
   "cell_type": "markdown",
   "metadata": {},
   "source": [
    "With the objective of noticing the outliers on each attribute, we create a box-plot of each of the attributes "
   ]
  },
  {
   "cell_type": "code",
   "execution_count": null,
   "metadata": {},
   "outputs": [],
   "source": [
    "list_of_attributes = train_df.columns.values.tolist()\n",
    "#print(list_of_attributes)"
   ]
  },
  {
   "cell_type": "code",
   "execution_count": null,
   "metadata": {},
   "outputs": [],
   "source": [
    "# Boxplot with all attributes in the dataset\n",
    "# sns.boxplot(data=train_df, orient=\"h\")\n",
    "# plt.show()"
   ]
  },
  {
   "cell_type": "code",
   "execution_count": null,
   "metadata": {},
   "outputs": [],
   "source": [
    "train_df.describe()"
   ]
  },
  {
   "cell_type": "code",
   "execution_count": null,
   "metadata": {},
   "outputs": [],
   "source": [
    "train_df['apcp_sf1_1'].value_counts()"
   ]
  },
  {
   "attachments": {},
   "cell_type": "markdown",
   "metadata": {},
   "source": [
    "Here, by plotting the boxplots and making the outliers (fliers) visible, we are able to see some outliers in the dataset.<br>\n",
    "Take into account that the outliers are represented by the points outside the boxplot and they can be potentially wrong values or just values that are not usual in the dataset (ruido)."
   ]
  },
  {
   "cell_type": "code",
   "execution_count": null,
   "metadata": {},
   "outputs": [],
   "source": [
    "plt.hist(train_df)\n",
    "plt.show()"
   ]
  },
  {
   "cell_type": "code",
   "execution_count": null,
   "metadata": {},
   "outputs": [],
   "source": [
    "\"\"\" Plotting the boxplot for each attribute and getting the outliers of each attribute \"\"\"\n",
    "total_outliers = []\n",
    "# * We iterate over the list of attributes\n",
    "for attribute in list_of_attributes:\n",
    "    # * sns.regplot(x=train_df[attribute], y=train_df['total'], fit_reg=False)\n",
    "    sns.boxplot(data=train_df[attribute], x=train_df[attribute], orient=\"h\")\n",
    "    # * Use the command below to show each plot (small size for visualization sake)\n",
    "    # sns.set(rc={'figure.figsize':(1,.5)})\n",
    "    # plt.show()\n",
    "    # * All the images are saved in the folder ../data/img/box-plot\n",
    "    plt.savefig(f\"../data/img/box-plot/{str(attribute)}.png\")\n",
    "\n",
    "    # We obtain the a list of outliers for each attribute\n",
    "    list_of_outliers = train_df[attribute][train_df[attribute] > train_df[attribute].quantile(0.75) + 1.5*(train_df[attribute].quantile(0.75) - train_df[attribute].quantile(0.25))].tolist()\n",
    "    outliers = [f'{attribute} outliers'] + [len(list_of_outliers)] + [list_of_outliers]\n",
    "    # * In order to print the total number of outliers for each attribute\n",
    "    # print(f'{attribute} has {len(list_of_outliers)} outliers')\n",
    "    # ! Data structure: [attribute, number of outliers, list of outliers]\n",
    "    # print(outliers)\n",
    "    total_outliers.append(outliers)\n",
    "\n",
    "# print the first 2 elements of each element in the list -> [[atb, num],[atb, num],...]\n",
    "num_atb_outliers = 0\n",
    "for i in total_outliers:\n",
    "    if i[1] != 0:\n",
    "        num_atb_outliers += 1\n",
    "        print(f\"{i[0:2]}...\")\n",
    "        \n",
    "# Number of outliers != 0 for each attribute\n",
    "print(f\"Total number of atributes with outliers: {num_atb_outliers} / {len(total_outliers)-1}\")"
   ]
  },
  {
   "attachments": {},
   "cell_type": "markdown",
   "metadata": {},
   "source": [
    "We managed to create a list containing the name of the atribute, the number of outliers and the value of the outliers for each attribute, calculated by applying the IQR method.<br> This is relevant as we managed to create a 'total_outliers' variable that contains the list data structures of all the different outliers from all the attributes, so that it can be easily accessed in a future to remove the outliers from the dataset if needed for testing purposes.\n",
    "\n",
    "As suspected, we can see that there are a lot of outliers in the dataset, therefore it is plausible that some of them are noise, thus possibly being removed in a future model in order to improve it.<br>Now, we need to analyze if they are the result of bad measurements or if they are significant data for the analysis.\n"
   ]
  },
  {
   "attachments": {},
   "cell_type": "markdown",
   "metadata": {},
   "source": [
    "Additionaly, as we will see later, this amount of outliers indicate us that using a Robust Scaler will be more appropriate than using a Standard Scaler, as the Robust Scaler is more robust to outliers than the Standard Scaler, thus being more appropriate for this dataset model."
   ]
  },
  {
   "cell_type": "code",
   "execution_count": null,
   "metadata": {},
   "outputs": [],
   "source": [
    "\"\"\" Skewness \"\"\"\n",
    "# ? skewness: measure of the asymmetry of the probability distribution of a real-valued random variable about its mean.\n",
    "train_df.skew().sort_values(ascending=False)"
   ]
  },
  {
   "cell_type": "code",
   "execution_count": null,
   "metadata": {},
   "outputs": [],
   "source": [
    "\"\"\" Kurtosis \"\"\"\n",
    "# ? kurtosis: measure of whether the data are heavy-tailed or light-tailed relative to a normal distribution.\n",
    "train_df.kurt().sort_values(ascending=False)"
   ]
  },
  {
   "cell_type": "code",
   "execution_count": null,
   "metadata": {},
   "outputs": [],
   "source": [
    "y = train_df[\"apcp_sf4_1\"]\n",
    "plt.figure(1)\n",
    "plt.title(\"Normal\")\n",
    "sns.distplot(y, kde=True, fit=st.norm)\n",
    "plt.figure(2)\n",
    "plt.title(\"Log Normal\")\n",
    "sns.distplot(y, kde=True, fit=st.lognorm)"
   ]
  },
  {
   "cell_type": "code",
   "execution_count": null,
   "metadata": {},
   "outputs": [],
   "source": [
    "sns.distplot(train_df.skew(), color=\"blue\", axlabel=\"Skewness\")"
   ]
  },
  {
   "cell_type": "code",
   "execution_count": null,
   "metadata": {},
   "outputs": [],
   "source": [
    "plt.figure(figsize=(12, 8))\n",
    "sns.distplot(\n",
    "    train_df.kurt(), color=\"r\", axlabel=\"Kurtosis\", norm_hist=False, kde=True, rug=False\n",
    ")\n",
    "# plt.hist(train.kurt(),orientation = 'vertical',histtype = 'bar',label ='Kurtosis', color ='blue')\n",
    "plt.show()"
   ]
  },
  {
   "attachments": {},
   "cell_type": "markdown",
   "metadata": {},
   "source": [
    "## 3.4. Correlation\n"
   ]
  },
  {
   "attachments": {},
   "cell_type": "markdown",
   "metadata": {},
   "source": [
    "In this section we are getting information about the correlation of the variables between them. This information is valuable in order to make good decisions when deleting redundant attributes. Also note we are getting information about the correlation between each attribute and the solution variable. This allows us to know the most relevant attributes, making the best decisions when creating the different models.  "
   ]
  },
  {
   "cell_type": "code",
   "execution_count": null,
   "metadata": {},
   "outputs": [],
   "source": [
    "correlation = train_df.corr()\n",
    "correlation = abs(correlation)\n",
    "print(correlation.shape)  # 76 x 76 matrix of correlation values"
   ]
  },
  {
   "attachments": {},
   "cell_type": "markdown",
   "metadata": {},
   "source": [
    "### Getting the correlation matrix formatted into our own data structure\n",
    "This is done for the sake of simplicity and to be able to visualize the correlation matrix in a more intuitive way.\n"
   ]
  },
  {
   "cell_type": "code",
   "execution_count": null,
   "metadata": {},
   "outputs": [],
   "source": [
    "correlation_list = []\n",
    "\n",
    "for column in train_df.columns:\n",
    "    correlation.loc[:, column] = abs(\n",
    "        correlation.iloc[:, train_df.columns.get_loc(column)]\n",
    "    )\n",
    "    mask = correlation.loc[:, column] > 0.95\n",
    "    # print(correlation[column][mask].sort_values(ascending = False))\n",
    "\n",
    "    # Translate the comment below to English:\n",
    "    # we add the correlation values to a list of lists, which contains the names of the correlated columns and their correlation index\n",
    "\n",
    "    # The first segment adds the name of the column we are analyzing\n",
    "    # The second segment adds the names of the columns correlated (except the column we are analyzing) > 0.95\n",
    "    # The third segment adds the correlation index of the columns correlated (except the column we are analyzing) > 0.95\n",
    "    # Second and third segment are added to the first segment as a list of lists\n",
    "\n",
    "    # First we need to create a dictionary with the column names and their correlation values (except the column we are analyzing)\n",
    "    dict = {\n",
    "        key: value\n",
    "        for key, value in correlation.loc[column, mask]\n",
    "        .sort_values(ascending=False)\n",
    "        .iloc[1:]\n",
    "        .to_dict()\n",
    "        .items()\n",
    "    }\n",
    "    # print (dict)\n",
    "\n",
    "    # Then we create a list of lists with the column names and their correlation values from the dictionary created above\n",
    "    corr_list = [[key] + [value] for key, value in dict.items()]\n",
    "    # Finally we add the name of the column we are analyzing to the list of lists created above as the first element of the list (str)\n",
    "    corr_list.insert(0, [\"Columna: \" + column])\n",
    "\n",
    "    # ! Data structure: [[columna, [columna correlada 1, indice de correlacion], [columna correlada 2, indice de correlacion], ...], ...]\n",
    "    print(corr_list)\n",
    "\n",
    "    correlation_list += [corr_list]\n",
    "print(correlation_list)"
   ]
  },
  {
   "attachments": {},
   "cell_type": "markdown",
   "metadata": {},
   "source": [
    "### Correlation Heat Map"
   ]
  },
  {
   "cell_type": "code",
   "execution_count": null,
   "metadata": {},
   "outputs": [],
   "source": [
    "\"\"\" seaborne Correlation Heat Map \"\"\"\n",
    "# It needs to show all the columns\n",
    "fig, ax = plt.subplots(figsize=(19, 18))\n",
    "\n",
    "plt.title(\"Correlation Heat Map\", y=1)\n",
    "# We use blue color scale because it is easier to see the annotations and the correlation values\n",
    "sns.heatmap(\n",
    "    correlation,\n",
    "    square=True,\n",
    "    cmap=\"Blues\",\n",
    "    annot=True,\n",
    "    fmt=\".2f\",\n",
    "    annot_kws={\"size\": 4},\n",
    "    cbar_kws={\"shrink\": 0.5},\n",
    "    vmin=0.0,\n",
    "    vmax=1,\n",
    ")\n",
    "# We can modify vmax=0.95 in order to get same color scale for values with more than 0.95 correlation\n",
    "# Note: it delays around 15 seconds as it needs to plot a 76*76 matrix with its 5766 correlation values\n",
    "\n",
    "# Exporting image as png to ../data/img folder - easier to visualize the annotations, better resolution\n",
    "plt.savefig(\"../data/img/correlation_heatmap.png\", dpi=200)"
   ]
  },
  {
   "attachments": {},
   "cell_type": "markdown",
   "metadata": {},
   "source": [
    "Once obtained the most correlated columns of the dataset, we can plot them and visualize their correlation."
   ]
  },
  {
   "cell_type": "code",
   "execution_count": null,
   "metadata": {},
   "outputs": [],
   "source": [
    "# 1\n",
    "columns = ['apcp_sf1_1', 'apcp_sf2_1', 'apcp_sf3_1','apcp_sf4_1', 'apcp_sf5_1']\n",
    "\n",
    "sns.pairplot(train_df[columns], height = 1, kind ='scatter',diag_kind='kde')\n",
    "plt.show()"
   ]
  },
  {
   "cell_type": "code",
   "execution_count": null,
   "metadata": {},
   "outputs": [],
   "source": [
    "# 2\n",
    "columns = [ 'dlwrf_s1_1', 'dlwrf_s2_1', 'dlwrf_s3_1', 'dlwrf_s4_1', 'dlwrf_s5_1']\n",
    "\n",
    "sns.pairplot(train_df[columns], height = 1, kind ='scatter',diag_kind='kde')\n",
    "plt.show()"
   ]
  },
  {
   "cell_type": "code",
   "execution_count": null,
   "metadata": {},
   "outputs": [],
   "source": [
    "# 3\n",
    "columns = ['pwat_ea1_1', 'pwat_ea2_1','pwat_ea3_1','pwat_ea4_1','pwat_ea5_1', 'dlwrf_s1_1', 'dlwrf_s2_1', 'dlwrf_s3_1', 'dlwrf_s4_1', 'dlwrf_s5_1']\n",
    "\n",
    "sns.pairplot(train_df[columns], height = 1, kind ='scatter',diag_kind='kde')\n",
    "plt.show()"
   ]
  },
  {
   "cell_type": "code",
   "execution_count": null,
   "metadata": {},
   "outputs": [],
   "source": [
    "# 4\n",
    "columns = ['dswrf_s1_1', 'dswrf_s2_1', 'dswrf_s3_1', 'dswrf_s4_1', 'dswrf_s5_1']\n",
    "\n",
    "sns.pairplot(train_df[columns], height = 1, kind ='scatter',diag_kind='kde')\n",
    "plt.show()"
   ]
  },
  {
   "cell_type": "code",
   "execution_count": null,
   "metadata": {},
   "outputs": [],
   "source": [
    "# 5\n",
    "columns = ['dswrf_s1_1', 'dswrf_s2_1', 'dswrf_s3_1', 'dswrf_s4_1', 'dswrf_s5_1', 'uswrf_s1_1', 'uswrf_s2_1', 'uswrf_s3_1', 'uswrf_s4_1', 'uswrf_s5_1']\n",
    "\n",
    "sns.pairplot(train_df[columns], height = 1, kind ='scatter',diag_kind='kde')\n",
    "plt.show()"
   ]
  },
  {
   "cell_type": "code",
   "execution_count": null,
   "metadata": {},
   "outputs": [],
   "source": [
    "# 6\n",
    "columns = ['pres_ms1_1', 'pres_ms2_1', 'pres_ms3_1', 'pres_ms4_1', 'pres_ms5_1']\n",
    "\n",
    "sns.pairplot(train_df[columns], height = 1, kind ='scatter',diag_kind='kde')\n",
    "plt.show()"
   ]
  },
  {
   "cell_type": "code",
   "execution_count": null,
   "metadata": {},
   "outputs": [],
   "source": [
    "# 7\n",
    "columns = ['pwat_ea1_1', 'pwat_ea2_1','pwat_ea3_1','pwat_ea4_1','pwat_ea5_1', 'spfh_2m1_1', 'spfh_2m2_1', 'spfh_2m3_1', 'spfh_2m4_1', 'spfh_2m5_1']\n",
    "\n",
    "sns.pairplot(train_df[columns], height = 1, kind ='scatter',diag_kind='kde')\n",
    "plt.show()"
   ]
  },
  {
   "cell_type": "code",
   "execution_count": null,
   "metadata": {},
   "outputs": [],
   "source": [
    "# 8\n",
    "columns = ['spfh_2m1_1', 'spfh_2m2_1', 'spfh_2m3_1', 'spfh_2m4_1', 'spfh_2m5_1','ulwrf_s1_1', 'ulwrf_s2_1', 'ulwrf_s3_1', 'ulwrf_s4_1', 'ulwrf_s5_1']\n",
    "\n",
    "sns.pairplot(train_df[columns], height = 1, kind ='scatter',diag_kind='kde')\n",
    "plt.show()"
   ]
  },
  {
   "cell_type": "code",
   "execution_count": null,
   "metadata": {},
   "outputs": [],
   "source": [
    "# 9\n",
    "# columns = ['tmax_2m1_1', 'tmax_2m2_1', 'tmax_2m3_1', 'tmax_2m4_1', 'tmax_2m5_1', 'tmin_2m1_1', 'tmin_2m2_1', 'tmin_2m3_1', 'tmin_2m4_1', 'tmin_2m5_1','tmp_2m_1_1', 'tmp_2m_2_1', 'tmp_2m_3_1', 'tmp_2m_4_1', 'tmp_2m_5_1', 'tmp_sfc1_1', 'tmp_sfc2_1', 'tmp_sfc3_1', 'tmp_sfc4_1', 'tmp_sfc5_1','ulwrf_s1_1', 'ulwrf_s2_1', 'ulwrf_s3_1', 'ulwrf_s4_1', 'ulwrf_s5_1']\n",
    "\n",
    "# sns.pairplot(train_df[columns], height = 1 ,kind ='scatter',diag_kind='kde')\n",
    "# plt.show()"
   ]
  },
  {
   "cell_type": "code",
   "execution_count": null,
   "metadata": {},
   "outputs": [],
   "source": [
    "# 10\n",
    "columns = [\"ulwrf_t1_1\", \"ulwrf_t2_1\", \"ulwrf_t3_1\"]\n",
    "\n",
    "sns.pairplot(train_df[columns], height=1, kind=\"scatter\", diag_kind=\"kde\")\n",
    "plt.show()"
   ]
  },
  {
   "cell_type": "code",
   "execution_count": null,
   "metadata": {},
   "outputs": [],
   "source": [
    "# 11\n",
    "columns = ['ulwrf_t4_1', 'ulwrf_t5_1', ]\n",
    "\n",
    "sns.pairplot(train_df[columns], height = 1 ,kind ='scatter',diag_kind='kde')\n",
    "plt.show()\n"
   ]
  },
  {
   "cell_type": "code",
   "execution_count": null,
   "metadata": {},
   "outputs": [],
   "source": [
    "# 12\n",
    "columns = [\"uswrf_s2_1\", \"uswrf_s3_1\", \"uswrf_s4_1\", \"uswrf_s5_1\"]\n",
    "\n",
    "sns.pairplot(train_df[columns], height=1, kind=\"scatter\", diag_kind=\"kde\")\n",
    "plt.show()"
   ]
  },
  {
   "attachments": {},
   "cell_type": "markdown",
   "metadata": {},
   "source": [
    "As we can observe in the graphs above, the most correlated variables present a linear relationship between them. This shows as a diagonal in the graph, since both variables grow at the same time. "
   ]
  },
  {
   "attachments": {},
   "cell_type": "markdown",
   "metadata": {},
   "source": [
    "---\n",
    "# 4. Train-Test division \n",
    "\n",
    "Since we are working with a time dependent data, we need to avoid mixing it. Also, we are required to add the first 10 years of data to the train set and the last 2 years to the test set. This means we are assigning a 83.333333 of the data to train and a 16.66666666 to test.\n",
    "\n",
    "**Note**: This division was already done before the EDA. We overwrite it to start from a clean state."
   ]
  },
  {
   "attachments": {},
   "cell_type": "markdown",
   "metadata": {},
   "source": [
    "Note: `iloc` is useful when we want to split data based on the index or other criteria, while `train_test_split` is useful when wanting to randomly split data into training and testing subsets.<br>\n",
    "Therefore, we will use `iloc` to split the data into train and test sets as we are dealing with time dependent data."
   ]
  },
  {
   "cell_type": "code",
   "execution_count": null,
   "metadata": {
    "notebookRunGroups": {
     "groupValue": "1"
    }
   },
   "outputs": [],
   "source": [
    "import time\n",
    "import matplotlib.pyplot as plt\n",
    "\n",
    "# Import the metrics from sklearn\n",
    "from sklearn.metrics import mean_squared_error, mean_absolute_error, r2_score\n",
    "\n",
    "from sklearn.pipeline import Pipeline\n",
    "\n",
    "# As we have noted during the EDA, for this dataset full of outliers, its preferable to use the RobustScaler\n",
    "# Although this wont make a huge difference\n",
    "from sklearn.preprocessing import StandardScaler, RobustScaler\n",
    "\n",
    "from sklearn.feature_selection import SelectKBest, f_regression\n",
    "from sklearn.model_selection import TimeSeriesSplit, RandomizedSearchCV, GridSearchCV"
   ]
  },
  {
   "attachments": {},
   "cell_type": "markdown",
   "metadata": {},
   "source": [
    "## 4.1. Train-Test split"
   ]
  },
  {
   "cell_type": "code",
   "execution_count": null,
   "metadata": {
    "notebookRunGroups": {
     "groupValue": "1"
    }
   },
   "outputs": [],
   "source": [
    "\"\"\" Train Test Split (time series) \"\"\"\n",
    "\n",
    "np.random.seed(10)\n",
    "\n",
    "# * Make a copy of the dataframe (as Padas dataframe is mutable, therefore uses a reference)\n",
    "disp_df_copy = disp_df.copy()\n",
    "\n",
    "# print(disp_df)\n",
    "# print(disp_df_copy)\n",
    "\n",
    "# Now we make the train_x, train_y, test_x, test_y splits taking into account the time series\n",
    "# Note: the time series is ordered by date, therefore we need to split the data in a way that the train data is before the test data\n",
    "# Note: the 10 first years are used for training and the last two years for testing\n",
    "# Note: this is done because if not, we will be predicting the past from the future, which leads to errors and overfitting (data leakage) in the model\n",
    "\n",
    "# * Calculate the number of rows for training and testing\n",
    "num_rows = disp_df_copy.shape[0]\n",
    "num_train_rows = int(\n",
    "    num_rows * 10 / 12\n",
    ")  # 10 first years for training, 2 last years for testing\n",
    "\n",
    "# * Split the data into train and test dataframes (using iloc instead of train_test_split as it picks random rows)\n",
    "train_df = disp_df_copy.iloc[\n",
    "    :num_train_rows, :\n",
    "]  # train contains the first 10 years of rows\n",
    "test_df = disp_df_copy.iloc[\n",
    "    num_train_rows:, :\n",
    "]  # test contains the last 2 years of rows\n",
    "\n",
    "# Print the number of rows for each dataframe\n",
    "print(f\"Number of rows for training: {train_df.shape[0]}\")\n",
    "print(f\"Number of rows for testing: {test_df.shape[0]}\")\n",
    "\n",
    "# Print the dataframes\n",
    "# print(train_df), print(test_df)\n",
    "\n",
    "# * Separate the input features and target variable for training and testing\n",
    "X_train = train_df.drop(\"salida\", axis=1)  # This is the input features for training\n",
    "y_train = train_df[\"salida\"]  # This is the target variable for training\n",
    "X_test = test_df.drop(\"salida\", axis=1)  # This is the input features for testing\n",
    "y_test = test_df[\"salida\"]  # This is the target variable for testing\n",
    "\n",
    "# Print the shapes of the dataframes\n",
    "print(X_train.shape, y_train.shape, X_test.shape, y_test.shape)"
   ]
  },
  {
   "attachments": {},
   "cell_type": "markdown",
   "metadata": {},
   "source": [
    "## 4.2. Train-Test RMSE and MAE function"
   ]
  },
  {
   "cell_type": "code",
   "execution_count": null,
   "metadata": {
    "notebookRunGroups": {
     "groupValue": "1"
    }
   },
   "outputs": [],
   "source": [
    "np.random.seed(10)\n",
    "\n",
    "\n",
    "def train_and_test(model, X_train, y_train, X_test, y_test):\n",
    "    model.fit(X=X_train, y=y_train)\n",
    "    y_train_pred = model.predict(X_train)\n",
    "    y_test_pred = model.predict(X_test)\n",
    "\n",
    "    # RMSE\n",
    "    rmse_train = mean_squared_error(y_train, y_train_pred, squared=False)\n",
    "    rmse_test = mean_squared_error(y_test, y_test_pred, squared=False)\n",
    "\n",
    "    # MAE\n",
    "    mae_train = mean_absolute_error(y_train, y_train_pred)\n",
    "    mae_test = mean_absolute_error(y_test, y_test_pred)\n",
    "\n",
    "    print(f\"Results of the best estimator of {model.__class__.__name__}\")\n",
    "    print(f\"RMSE train: {rmse_train:.2f}\", f\"RMSE test: {rmse_test:.2f}\", sep=\"\\t\")\n",
    "    print(f\"MAE train: {mae_train:.2f}\", f\"MAE test: {mae_test:.2f}\", sep=\"\\t\")\n",
    "\n",
    "    # plt.plot(X_train.iloc[:, [0]], y_train, \".\", label=\"train\")\n",
    "    # plt.plot(X_train.iloc[:, [0]], y_train_pred, \"r.\", label=\"train pred\")\n",
    "    plt.plot(X_test.iloc[:, [0]], y_test, \".\", label=\"test\")\n",
    "    plt.plot(X_test.iloc[:, [0]], y_test_pred, \"r.\", label=\"test pred\")\n",
    "    plt.legend()\n",
    "    plt.show()\n",
    "\n",
    "    return [rmse_train, rmse_test, mae_train, mae_test]"
   ]
  },
  {
   "attachments": {},
   "cell_type": "markdown",
   "metadata": {},
   "source": [
    "## 4.3. Print model results"
   ]
  },
  {
   "cell_type": "code",
   "execution_count": null,
   "metadata": {
    "notebookRunGroups": {
     "groupValue": "1"
    }
   },
   "outputs": [],
   "source": [
    "def print_results(name, model, score, time):\n",
    "    print(\"---------------------------------------------------\")\n",
    "    print(f\"{name} best model is:\\n\\n{model}\")\n",
    "    print(\"\\nParameters:\", model.best_params_)\n",
    "    print(\n",
    "        f\"\\nPerformance: RMSE train: {score[0]}\",\n",
    "        f\"RMSE test: {score[1]}\",\n",
    "        f\"MAE train: {score[2]}\",\n",
    "        f\"MAE test: {score[3]}\",\n",
    "        sep=\" | \",\n",
    "    )\n",
    "    print(f\"Execution time: {time}s\")"
   ]
  },
  {
   "attachments": {},
   "cell_type": "markdown",
   "metadata": {},
   "source": [
    "---\n",
    "# 5. Basic methods:"
   ]
  },
  {
   "attachments": {},
   "cell_type": "markdown",
   "metadata": {},
   "source": [
    "We need to divide the train set using train-test-split in order to simulate the cross validation to get the best hiperparameters. test_size=0.1666666666"
   ]
  },
  {
   "cell_type": "code",
   "execution_count": null,
   "metadata": {
    "notebookRunGroups": {
     "groupValue": "1"
    }
   },
   "outputs": [],
   "source": [
    "# Two dictionaries to store the results of the models\n",
    "results, times = {}, {}"
   ]
  },
  {
   "attachments": {},
   "cell_type": "markdown",
   "metadata": {},
   "source": [
    "## 5.1. KNN\n"
   ]
  },
  {
   "cell_type": "code",
   "execution_count": null,
   "metadata": {
    "notebookRunGroups": {
     "groupValue": "1"
    }
   },
   "outputs": [],
   "source": [
    "from sklearn.neighbors import KNeighborsRegressor"
   ]
  },
  {
   "attachments": {},
   "cell_type": "markdown",
   "metadata": {},
   "source": [
    "### 5.1.1. KNN - Predefined parameters\n",
    "The KNN predefinded hyperparameters are the following: "
   ]
  },
  {
   "cell_type": "code",
   "execution_count": null,
   "metadata": {
    "notebookRunGroups": {
     "groupValue": "1"
    }
   },
   "outputs": [],
   "source": [
    "np.random.seed(10)\n",
    "n_splits = 5\n",
    "\n",
    "# Using a pipeline to scale the data and then apply the model\n",
    "pipeline = Pipeline(\n",
    "    [\n",
    "        (\"scale\", StandardScaler()),\n",
    "        # ('select', SelectKBest(f_regression)),\n",
    "        (\"model\", KNeighborsRegressor()),\n",
    "    ]\n",
    ")\n",
    "\n",
    "param_grid = {\n",
    "    \"model__n_neighbors\": [5],\n",
    "    \"model__weights\": [\"uniform\"],\n",
    "    \"model__metric\": [\"minkowski\"],\n",
    "    # 'select__k': list(range(1, X_train.shape[1]+1))\n",
    "}\n",
    "\n",
    "regr = GridSearchCV(\n",
    "    pipeline,\n",
    "    param_grid,\n",
    "    scoring=\"neg_mean_absolute_error\",\n",
    "    cv=TimeSeriesSplit(\n",
    "        n_splits\n",
    "    ),  # We use TimeSeriesSplit to split the data in folds without losing the temporal order\n",
    ")\n",
    "\n",
    "start_time = time.time()\n",
    "regr.fit(X=X_train, y=y_train)\n",
    "end_time = time.time()\n",
    "\n",
    "total_time = end_time - start_time\n",
    "\n",
    "score = train_and_test(\n",
    "    regr.best_estimator_, X_train, y_train, X_test, y_test\n",
    ")  # We train and test the model another time to get the final score (with the best parameters)\n",
    "\n",
    "results[\"KNN_pred\"] = score\n",
    "times[\"KNN_pred\"] = total_time\n",
    "\n",
    "print_results(\"KNN PREDEFINED PARAMETERS\", regr, score, total_time)"
   ]
  },
  {
   "attachments": {},
   "cell_type": "markdown",
   "metadata": {},
   "source": [
    "###  5.1.2. KNN - Selected parameters"
   ]
  },
  {
   "cell_type": "code",
   "execution_count": null,
   "metadata": {
    "notebookRunGroups": {
     "groupValue": "1"
    }
   },
   "outputs": [],
   "source": [
    "np.random.seed(10)\n",
    "budget = 15\n",
    "n_splits = 5\n",
    "\n",
    "pipeline = Pipeline(\n",
    "    [\n",
    "        (\"scaler\", RobustScaler()),\n",
    "        (\"select\", SelectKBest(f_regression)),\n",
    "        (\"model\", KNeighborsRegressor()),\n",
    "    ]\n",
    ")\n",
    "\n",
    "param_grid = {\n",
    "    \"model__n_neighbors\": list(range(1, 50, 2)),\n",
    "    \"model__weights\": [\"uniform\", \"distance\"],\n",
    "    \"model__metric\": [\"euclidean\", \"manhattan\", \"minkowski\", \"chebyshev\"],\n",
    "    \"select__k\": list(range(1, X_train.shape[1] + 1)),\n",
    "}\n",
    "\n",
    "regr = RandomizedSearchCV(\n",
    "    pipeline,\n",
    "    param_grid,\n",
    "    scoring=\"neg_mean_absolute_error\",\n",
    "    cv=TimeSeriesSplit(\n",
    "        n_splits\n",
    "    ),  # TimeSeriesSplit to split the data in folds without losing the temporal order\n",
    "    n_iter=budget,\n",
    ")\n",
    "\n",
    "start_time = time.time()\n",
    "regr.fit(X=X_train, y=y_train)\n",
    "end_time = time.time()\n",
    "\n",
    "total_time = end_time - start_time\n",
    "\n",
    "score = train_and_test(\n",
    "    regr.best_estimator_, X_train, y_train, X_test, y_test\n",
    ")  # We train and test the model another time to get the final score (with the best parameters)\n",
    "\n",
    "results[\"KNN_select\"] = score\n",
    "times[\"KNN_select\"] = total_time\n",
    "\n",
    "print_results(\"KNN SELECTED PARAMETERS\", regr, score, total_time)"
   ]
  },
  {
   "attachments": {},
   "cell_type": "markdown",
   "metadata": {},
   "source": [
    "## 5.2 Regression Trees"
   ]
  },
  {
   "cell_type": "code",
   "execution_count": null,
   "metadata": {
    "notebookRunGroups": {
     "groupValue": "1"
    }
   },
   "outputs": [],
   "source": [
    "from sklearn.tree import DecisionTreeRegressor"
   ]
  },
  {
   "attachments": {},
   "cell_type": "markdown",
   "metadata": {},
   "source": [
    "### 5.2.1. Regression Trees - Predefined parameters"
   ]
  },
  {
   "cell_type": "code",
   "execution_count": null,
   "metadata": {
    "notebookRunGroups": {
     "groupValue": "1"
    }
   },
   "outputs": [],
   "source": [
    "np.random.seed(10)\n",
    "n_splits = 5\n",
    "\n",
    "pipeline = Pipeline(\n",
    "    [\n",
    "        # ('select', SelectKBest(f_regression)),\n",
    "        (\"model\", DecisionTreeRegressor())\n",
    "    ]\n",
    ")\n",
    "\n",
    "param_grid = {\n",
    "    \"model__criterion\": [\"squared_error\"],\n",
    "    \"model__splitter\": [\"best\"],\n",
    "    \"model__min_samples_split\": [2],\n",
    "}\n",
    "#   'select__k': list(range(1, X_train.shape[1]+1))}\n",
    "\n",
    "# We use TimeSeriesSplit to split the data in folds without losing the temporal order\n",
    "regr = GridSearchCV(\n",
    "    pipeline,\n",
    "    param_grid,\n",
    "    scoring=\"neg_mean_absolute_error\",\n",
    "    cv=TimeSeriesSplit(n_splits),\n",
    ")\n",
    "\n",
    "start_time = time.time()\n",
    "regr.fit(X=X_train, y=y_train)\n",
    "end_time = time.time()\n",
    "\n",
    "total_time = end_time - start_time\n",
    "\n",
    "score = train_and_test(\n",
    "    regr.best_estimator_, X_train, y_train, X_test, y_test\n",
    ")  # We train and test the model another time to get the final score (with the best parameters)\n",
    "\n",
    "results[\"RegTrees_pred\"] = score\n",
    "times[\"RegTrees_pred\"] = total_time\n",
    "\n",
    "print_results(\"REGRESSION TREES PREDEFINED PARAMETERS\", regr, score, total_time)"
   ]
  },
  {
   "attachments": {},
   "cell_type": "markdown",
   "metadata": {},
   "source": [
    "### 5.2.2. Regression Trees - Selected parameters"
   ]
  },
  {
   "cell_type": "code",
   "execution_count": null,
   "metadata": {
    "notebookRunGroups": {
     "groupValue": "1"
    }
   },
   "outputs": [],
   "source": [
    "np.random.seed(10)\n",
    "budget = 15\n",
    "n_splits = 5\n",
    "\n",
    "pipeline = Pipeline(\n",
    "    [(\"select\", SelectKBest(f_regression)), (\"model\", DecisionTreeRegressor())]\n",
    ")\n",
    "\n",
    "param_grid = {\n",
    "    \"model__criterion\": [\"absolute_error\", \"squared_error\"],\n",
    "    \"model__splitter\": [\"best\", \"random\"],\n",
    "    \"model__max_depth\": list(range(5, 60, 5)),\n",
    "    \"model__min_samples_split\": list(range(5, 200)),\n",
    "    \"model__max_features\": [\"sqrt\", \"log2\", None],\n",
    "    \"select__k\": list(range(1, X_train.shape[1] + 1)),\n",
    "}\n",
    "\n",
    "# We use TimeSeriesSplit to split the data in folds without losing the temporal order\n",
    "regr = RandomizedSearchCV(\n",
    "    pipeline,\n",
    "    param_grid,\n",
    "    scoring=\"neg_mean_absolute_error\",\n",
    "    cv=TimeSeriesSplit(n_splits),\n",
    "    n_iter=budget,\n",
    "    n_jobs=-1,\n",
    ")\n",
    "\n",
    "start_time = time.time()\n",
    "regr.fit(X=X_train, y=y_train)\n",
    "end_time = time.time()\n",
    "\n",
    "total_time = end_time - start_time\n",
    "\n",
    "score = train_and_test(\n",
    "    regr.best_estimator_, X_train, y_train, X_test, y_test\n",
    ")  # We train and test the model another time to get the final score (with the best parameters)\n",
    "\n",
    "results[\"RegTrees_select\"] = score\n",
    "times[\"RegTrees_select\"] = total_time\n",
    "\n",
    "print_results(\"REGRESSION TREES SELECTED PARAMETERS\", regr, score, total_time)"
   ]
  },
  {
   "attachments": {},
   "cell_type": "markdown",
   "metadata": {},
   "source": [
    "Note: if we add the selection of parameters, we get a worse result, although the tran and test is way faster."
   ]
  },
  {
   "attachments": {},
   "cell_type": "markdown",
   "metadata": {},
   "source": [
    "## 5.3 Linnear regression"
   ]
  },
  {
   "cell_type": "code",
   "execution_count": null,
   "metadata": {
    "notebookRunGroups": {
     "groupValue": "1"
    }
   },
   "outputs": [],
   "source": [
    "from sklearn.linear_model import LinearRegression, Lasso, Ridge, ElasticNet\n"
   ]
  },
  {
   "attachments": {},
   "cell_type": "markdown",
   "metadata": {},
   "source": [
    "### 5.3.1. Linear regression - Predefined parameters"
   ]
  },
  {
   "cell_type": "code",
   "execution_count": null,
   "metadata": {
    "notebookRunGroups": {
     "groupValue": "1"
    }
   },
   "outputs": [],
   "source": [
    "np.random.seed(10)\n",
    "n_splits=5\n",
    "\n",
    "pipeline = Pipeline([\n",
    "    # ('scaler', StandardScaler()),\n",
    "    # ('select', SelectKBest(f_regression)),\n",
    "    ('model', LinearRegression())\n",
    "])\n",
    "\n",
    "param_grid = {'model__fit_intercept': [True], }\n",
    "            #   'select__k': list(range(1, X_train.shape[1]+1))}\n",
    "\n",
    "regr = GridSearchCV(pipeline,\n",
    "                    param_grid,\n",
    "                    scoring='neg_mean_absolute_error',\n",
    "                    cv=TimeSeriesSplit(n_splits)\n",
    "                    )\n",
    "\n",
    "\n",
    "start_time = time.time()\n",
    "regr.fit(X=X_train, y=y_train)\n",
    "end_time = time.time()\n",
    "\n",
    "total_time = end_time - start_time\n",
    "\n",
    "score = train_and_test(regr.best_estimator_, X_train, y_train, X_test, y_test) # We train and test the model another time to get the final score (with the best parameters)\n",
    "\n",
    "results['LinearReg_pred'] = score\n",
    "times['LinearReg_pred'] = total_time\n",
    "\n",
    "print_results(\"LINEAR REGRESSION PREDEFINED PARAMETERS\", regr, score, total_time)\n"
   ]
  },
  {
   "cell_type": "markdown",
   "metadata": {},
   "source": [
    "With the select params, the train test is way slower."
   ]
  },
  {
   "attachments": {},
   "cell_type": "markdown",
   "metadata": {},
   "source": [
    "### 5.3.2. Linear regression - Selected parameters"
   ]
  },
  {
   "cell_type": "code",
   "execution_count": null,
   "metadata": {
    "notebookRunGroups": {
     "groupValue": "1"
    }
   },
   "outputs": [],
   "source": [
    "np.random.seed(10)\n",
    "budget = 15\n",
    "n_splits = 5\n",
    "\n",
    "all_scores = []\n",
    "\n",
    "# ! Pipelines\n",
    "pipeline_lasso = Pipeline([\n",
    "    ('scaler', StandardScaler()),\n",
    "    ('select', SelectKBest(f_regression)),\n",
    "    ('model', Lasso(fit_intercept=True, tol=.5, random_state=10))\n",
    "])\n",
    "\n",
    "pipeline_ridge = Pipeline([\n",
    "    ('scaler', StandardScaler()),\n",
    "    ('select', SelectKBest(f_regression)),\n",
    "    ('model', Ridge(fit_intercept=True, tol=.5, random_state=10))\n",
    "])\n",
    "\n",
    "pipeline_elastic = Pipeline([\n",
    "    ('scaler', StandardScaler()),\n",
    "    ('select', SelectKBest(f_regression)),\n",
    "    ('model', ElasticNet(fit_intercept=True, tol=.5, random_state=10))\n",
    "])\n",
    "\n",
    "# ! Parameter grids\n",
    "param_grid_lasso = {'model__alpha': np.logspace(-2, 1, 30),\n",
    "              'select__k': list(range(1, X_train.shape[1]+1))}\n",
    "\n",
    "pram_grid_ridge = {'model__alpha': np.logspace(-2, 1, 30),\n",
    "              'select__k': list(range(1, X_train.shape[1]+1))}\n",
    "\n",
    "param_grid_elastic = {'model__alpha': np.logspace(2.0, 3.0, num=4, base=2.0),\n",
    "                'model__l1_ratio': np.linspace(0, 1, 40),\n",
    "                'select__k': list(range(1, X_train.shape[1]+1))}\n",
    "\n",
    "# ! If we want to use random values for the parameters -> unconsistency in the results\n",
    "regr_lasso = RandomizedSearchCV(pipeline_lasso,\n",
    "                                param_grid_lasso,\n",
    "                                scoring='neg_mean_absolute_error',\n",
    "                                cv=TimeSeriesSplit(),\n",
    "                                n_iter=budget,\n",
    "                                )\n",
    "\n",
    "regr_ridge = RandomizedSearchCV(pipeline_ridge,\n",
    "                                pram_grid_ridge,\n",
    "                                scoring='neg_mean_absolute_error',\n",
    "                                cv=TimeSeriesSplit(),\n",
    "                                n_iter=budget,\n",
    "                                )\n",
    "\n",
    "regr_elastic = RandomizedSearchCV(pipeline_elastic,\n",
    "                                  param_grid_elastic,\n",
    "                                  scoring='neg_mean_absolute_error',\n",
    "                                  cv=TimeSeriesSplit(),\n",
    "                                  n_iter=budget,\n",
    "                                  )\n",
    "\n",
    "regr = [regr_lasso, regr_ridge, regr_elastic]\n",
    "\n",
    "\n",
    "ln_reg_time = []\n",
    "\n",
    "for i in regr:\n",
    "    start_time = time.time()\n",
    "    i.fit(X=X_train,y=y_train)\n",
    "    print(f\"Model: {i.best_score_}\")\n",
    "    print(i.best_params_)\n",
    "    # Now we reevaluate the model on the test set to obtain more accurate results\n",
    "    all_scores.append(train_and_test(i.best_estimator_, X_train, y_train, X_test, y_test))\n",
    "    ln_reg_time.append(time.time() - start_time)\n",
    "    \n",
    "print(ln_reg_time)\n",
    "\n",
    "# Select the best model (based on the MAE)\n",
    "max_score = min(all_scores, key=lambda x: x[3])  # Best model is the one that minimizes the MAE\n",
    "best_regr = regr[all_scores.index(max_score)]\n",
    "total_time = ln_reg_time[all_scores.index(max_score)]\n",
    " \n",
    "results['LinearReg_select'] = max_score\n",
    "print(results)\n",
    "times['LinearReg_select'] = total_time\n",
    "print(times)\n",
    "# print number of selected features\n",
    "print(f\"Number of selected features: {best_regr.best_estimator_.named_steps['select'].get_support().sum()}\")\n",
    "\n",
    "print_results(\"LINEAR REGRESSION SELECTED PARAMETERS\", best_regr, max_score, total_time)\n"
   ]
  },
  {
   "attachments": {},
   "cell_type": "markdown",
   "metadata": {},
   "source": [
    "To be observed, the selected model, Ridge, does not delete any of the attributes (as expected, as it is one of its flaws), but some of their weights are close to zero, so we can consider that they are not relevant for the model.\n",
    "\n",
    "On the other hand, the Lasso model and the ElasticNet model, do delete some of the attributes, but the results are worse than the Ridge model, so we will not consider them."
   ]
  },
  {
   "attachments": {},
   "cell_type": "markdown",
   "metadata": {},
   "source": [
    "## 5.4. Results"
   ]
  },
  {
   "cell_type": "code",
   "execution_count": null,
   "metadata": {
    "notebookRunGroups": {
     "groupValue": "1"
    }
   },
   "outputs": [],
   "source": [
    "np.random.seed(10)\n",
    "\n",
    "# ! Obtain best, worst, fastest and slowest model\n",
    "max_score = max(results.values(), key=lambda x: x[3])  # We determine the best model based on the MAE obtained in the test set (thus, excluding overfitting)\n",
    "min_score = min(results.values(), key=lambda x: x[3])\n",
    "# Obtain the key name of the best and worst model\n",
    "max_time = max(times.values(), key=lambda x: x)\n",
    "min_time = min(times.values(), key=lambda x: x)\n",
    "\n",
    "best_model = list(results.keys())[list(results.values()).index(min_score)]\n",
    "worst_model = list(results.keys())[list(results.values()).index(max_score)]\n",
    "fastest_model = list(times.keys())[list(times.values()).index(min_time)]\n",
    "slowest_model = list(times.keys())[list(times.values()).index(max_time)]\n",
    "\n",
    "print(f\"Best model: {best_model} with score {min_score} and time {list(times.values())[list(results.values()).index(min_score)]}s\")\n",
    "print(f\"Worst model: {worst_model} with score {max_score} and time {list(times.values())[list(results.values()).index(max_score)]}s\")\n",
    "print(f\"Fastest model: {fastest_model} with score {list(results.values())[list(times.values()).index(min_time)]} and time {min_time}s\")\n",
    "print(f\"Slowest model: {slowest_model} with score {list(results.values())[list(times.values()).index(max_time)]} and time {max_time}s\")\n",
    "\n",
    "\n",
    "# ! Average (test MAE) score of the models\n",
    "avg_score = 0\n",
    "avg_time = 0\n",
    "\n",
    "for key, value in results.items():\n",
    "    avg_score += results[key][3]\n",
    "    avg_time += times[key]\n",
    "\n",
    "print(f\"\\nAverage models score: {abs(avg_score/len(results))}\")\n",
    "print(f\"Average models time: {avg_time/len(times)}\\n\")\n",
    "\n",
    "\n",
    "# ! Differences\n",
    "print(\"The score difference between the best and worst model is: \", abs(max_score[3] - min_score)[3])  # test MAE\n",
    "print(\"The score difference between the best and fastest model is: \", abs(min_score[3] - list(results.values())[list(times.values()).index(min_time)])[3])  # test MAE\n",
    "print(\"The time difference between the best and fastest model model is: \", abs(list(times.values())[list(results.values()).index(min_score)] - min_time))\n",
    "print(\"The time difference between the fastest and slowest model is: \", abs(max_time - min_time))"
   ]
  },
  {
   "cell_type": "code",
   "execution_count": null,
   "metadata": {
    "notebookRunGroups": {
     "groupValue": "1"
    }
   },
   "outputs": [],
   "source": [
    "# ! Plot the score\n",
    "for key, value in results.items():\n",
    "    plt.bar(key, abs(value[3]))\n",
    "plt.title(\"Score\")\n",
    "plt.xlabel(\"Model\")\n",
    "plt.ylabel(\"MAE\")\n",
    "plt.tight_layout()\n",
    "\n",
    "# Exporting image as png to ../data/img folder\n",
    "plt.savefig(\"../data/img/basic_methods_score.png\")\n",
    "plt.show()\n",
    "\n",
    "# ! Plot the time\n",
    "for key, value in times.items():\n",
    "    plt.bar(key, value)\n",
    "plt.title(\"Time\")\n",
    "plt.xlabel(\"Model\")\n",
    "plt.ylabel(\"Time (s)\")\n",
    "plt.tight_layout()\n",
    "\n",
    "# Exporting image as png to ../data/img folder - easier to visualize the annotations, better resolution\n",
    "plt.savefig(\"../data/img/basic_methods_time.png\")\n",
    "plt.show()"
   ]
  },
  {
   "attachments": {},
   "cell_type": "markdown",
   "metadata": {},
   "source": [
    "## 5.5. Conclusions: \n",
    "\n",
    "After computig the models we can see that the best model in terms of MAE is the LinearReg_selected, but the best timing model is LinearReg_pred.\n",
    "\n",
    "***Obtener algunas conclusiones, tales como: ¿cuál es el mejor método? ¿Cuál de los métodos \n",
    "básicos de aprendizaje automático es más rápido? ¿Los resultados son mejores que los \n",
    "regresores triviales/naive/baseline? ¿El ajuste de hiperparámetros mejora con respecto a los \n",
    "valores por omisión? ¿Hay algún equilibrio entre tiempo de ejecución y mejora de \n",
    "resultados? Etc***\n",
    "\n"
   ]
  },
  {
   "attachments": {},
   "cell_type": "markdown",
   "metadata": {},
   "source": [
    "---\n",
    "# 6. Reducing Dimensionality TODO\n",
    ">¿Es posible reducir la dimensionalidad del problema?\n",
    "\n",
    "Yes, it is possible to reduce the problem dimensionality, and as stated throughout the EDA, there are a lot of attributes that are highly correlated, so we can reduce the dimensionality of the problem by removing some of the attributes. Thus, it is recommended to use a PCA to reduce the dimensionality of the problem."
   ]
  },
  {
   "attachments": {},
   "cell_type": "markdown",
   "metadata": {},
   "source": [
    "---\n",
    "# 7. Advanced methods"
   ]
  },
  {
   "attachments": {},
   "cell_type": "markdown",
   "metadata": {},
   "source": [
    "## 7.1. Support Vector Machines (SVMs)"
   ]
  },
  {
   "attachments": {},
   "cell_type": "markdown",
   "metadata": {},
   "source": [
    "** REVISAR Y MODIFICAR COMO LO HIZO EL PROFESOR **"
   ]
  },
  {
   "cell_type": "code",
   "execution_count": null,
   "metadata": {
    "notebookRunGroups": {
     "groupValue": "1"
    }
   },
   "outputs": [],
   "source": [
    "from sklearn.svm import SVR"
   ]
  },
  {
   "attachments": {},
   "cell_type": "markdown",
   "metadata": {},
   "source": [
    "### 7.1.1. SVMs - Predefined parameters"
   ]
  },
  {
   "cell_type": "code",
   "execution_count": null,
   "metadata": {
    "notebookRunGroups": {
     "groupValue": "1"
    }
   },
   "outputs": [],
   "source": [
    "np.random.seed(10)\n",
    "n_splits = 5\n",
    "\n",
    "# ! SVM with predefined parameters\n",
    "\n",
    "pipeline = Pipeline(\n",
    "    [\n",
    "        # ('scaler', StandardScaler()),\n",
    "        # ('select', SelectKBest(f_regression)),\n",
    "        (\"model\", SVR())\n",
    "    ]\n",
    ")\n",
    "\n",
    "param_grid = {\n",
    "    \"model__kernel\": [\"rbf\"],\n",
    "    \"model__degree\": [3],\n",
    "    \"model__C\": [1],\n",
    "    \"model__gamma\": [\"scale\"],\n",
    "    \"model__epsilon\": [0.1],\n",
    "#   'select__k': list(range(1, X_train.shape[1]+1)),\n",
    "}\n",
    "\n",
    "regr = GridSearchCV(\n",
    "    pipeline,\n",
    "    param_grid,\n",
    "    scoring=\"neg_mean_absolute_error\",\n",
    "    cv=TimeSeriesSplit(n_splits),\n",
    ")\n",
    "\n",
    "\n",
    "start_time = time.time()\n",
    "regr.fit(X=X_train, y=y_train)\n",
    "end_time = time.time()\n",
    "\n",
    "total_time = end_time - start_time\n",
    "\n",
    "score = train_and_test(\n",
    "    regr.best_estimator_, X_train, y_train, X_test, y_test\n",
    ")  # We train and test the model another time to get the final score (with the best parameters)\n",
    "\n",
    "results[\"SVM_pred\"] = score\n",
    "times[\"SVM_pred\"] = total_time\n",
    "\n",
    "print_results(\"SVM PREDEFINED PARAMETERS\", regr, score, total_time)"
   ]
  },
  {
   "attachments": {},
   "cell_type": "markdown",
   "metadata": {},
   "source": [
    "### 7.1.2. SVMs - Selected parameters"
   ]
  },
  {
   "cell_type": "code",
   "execution_count": null,
   "metadata": {
    "notebookRunGroups": {
     "groupValue": "1"
    }
   },
   "outputs": [],
   "source": [
    "np.random.seed(10)\n",
    "budget = 10\n",
    "n_splits = 5\n",
    "\n",
    "pipeline = Pipeline(\n",
    "    [\n",
    "        # ('scaler', StandardScaler()),  # We scale the data to avoid overfitting - Recommended for SVMs\n",
    "        # ('select', SelectKBest(f_regression)),\n",
    "        (\"model\", SVR())\n",
    "    ]\n",
    ")\n",
    "\n",
    "param_grid = {\n",
    "    \"model__kernel\": [\"linear\", \"poly\", \"rbf\", \"sigmoid\"],\n",
    "    \"model__C\": [0.1, 1, 10, 100, 1000],\n",
    "    \"model__gamma\": [\"scale\", \"auto\", 0.1, 1, 10, 100, 1000],\n",
    "#   'select__k': list(range(1, X_train.shape[1]+1))\n",
    "}\n",
    "\n",
    "# param_grid = {\n",
    "#     \"model__kernel\": [\"rbf\"],\n",
    "#     \"model__degree\": [3],\n",
    "#     \"model__C\": [1],\n",
    "#     \"model__gamma\": [\"scale\"],\n",
    "#     \"model__epsilon\": [0.1],\n",
    "# #   'select__k': list(range(1, X_train.shape[1]+1)),\n",
    "# }\n",
    "\n",
    "# Note: gamma is 1000 in the border, -> extend the range\n",
    "\n",
    "\n",
    "# We use TimeSeriesSplit to split the data in folds without losing the temporal order\n",
    "regr = RandomizedSearchCV(\n",
    "    pipeline,\n",
    "    param_grid,\n",
    "    scoring=\"neg_mean_absolute_error\",\n",
    "    cv=TimeSeriesSplit(n_splits),\n",
    "    n_iter=budget,\n",
    "    n_jobs=-1,\n",
    ")\n",
    "\n",
    "start_time = time.time()\n",
    "regr.fit(X=X_train, y=y_train)\n",
    "end_time = time.time()\n",
    "\n",
    "total_time = end_time - start_time\n",
    "\n",
    "score = train_and_test(\n",
    "    regr.best_estimator_, X_train, y_train, X_test, y_test\n",
    ")  # We train and test the model another time to get the final score (with the best parameters)\n",
    "\n",
    "results[\"SVM_select\"] = score\n",
    "times[\"SVM_select\"] = total_time\n",
    "\n",
    "print_results(\"SVM SELECTED PARAMETERS\", regr, score, total_time)"
   ]
  },
  {
   "attachments": {},
   "cell_type": "markdown",
   "metadata": {},
   "source": [
    "**Es mucho peor el resultado con escalado y seleccion de parametros y MAS LENTO!!!!**"
   ]
  },
  {
   "cell_type": "code",
   "execution_count": null,
   "metadata": {},
   "outputs": [],
   "source": []
  },
  {
   "attachments": {},
   "cell_type": "markdown",
   "metadata": {},
   "source": [
    "## 7.2. Random Forests"
   ]
  },
  {
   "cell_type": "code",
   "execution_count": null,
   "metadata": {
    "notebookRunGroups": {
     "groupValue": "1"
    }
   },
   "outputs": [],
   "source": [
    "from sklearn.ensemble import RandomForestRegressor"
   ]
  },
  {
   "attachments": {},
   "cell_type": "markdown",
   "metadata": {},
   "source": [
    "### 7.2.1. Random Forests - Predefined parameters"
   ]
  },
  {
   "cell_type": "code",
   "execution_count": null,
   "metadata": {},
   "outputs": [],
   "source": [
    "np.random.seed(10)\n",
    "n_splits = 5\n",
    "\n",
    "pipeline = Pipeline(\n",
    "    [\n",
    "        # ('select', SelectKBest(f_regression)),\n",
    "        (\"model\", RandomForestRegressor())\n",
    "    ]\n",
    ")\n",
    "\n",
    "param_grid = {\n",
    "    \"model__n_estimators\": [100],\n",
    "    \"model__max_features\": [None],\n",
    "    \"model__criterion\": [\"squared_error\"],\n",
    "    \"model__max_depth\": [None],\n",
    "    \"model__min_samples_split\": [2],\n",
    "    \"model__min_samples_leaf\": [1],\n",
    "    \"model__max_leaf_nodes\": [None],\n",
    "    \"model__min_impurity_decrease\": [0.0],\n",
    "    \"model__bootstrap\": [True],\n",
    "    # 'select__k': list(range(1, X_train.shape[1]+1)),\n",
    "}\n",
    "\n",
    "# \"model__max_depth\": [None],\n",
    "# \"model__min_samples_split\": [2],\n",
    "# \"model__min_samples_leaf\": [1],\n",
    "# 'model__min_weight_fraction_leaf': [0.0],\n",
    "# \"model__max_features\": [1.0], -> con este se da el mejor modelo, mejor que arriba\n",
    "# \"model__max_leaf_nodes\": [None],\n",
    "# \"model__min_impurity_decrease\": [0.0],\n",
    "# \"model__bootstrap\": [True],\n",
    "# 'model__random_state': [10],\n",
    "# 'model__ooob_score': [False],\n",
    "# # \"select__k\": list(range(1, X_train.shape[1] + 1)),\n",
    "\n",
    "regr = GridSearchCV(\n",
    "    pipeline,\n",
    "    param_grid,\n",
    "    scoring=\"neg_mean_absolute_error\",\n",
    "    cv=TimeSeriesSplit(n_splits),\n",
    ")\n",
    "\n",
    "\n",
    "start_time = time.time()\n",
    "regr.fit(X=X_train, y=y_train)\n",
    "end_time = time.time()\n",
    "\n",
    "total_time = end_time - start_time\n",
    "\n",
    "score = train_and_test(\n",
    "    regr.best_estimator_, X_train, y_train, X_test, y_test\n",
    ")  # We train and test the model another time to get the final score (with the best parameters)\n",
    "\n",
    "results[\"RandForest_pred\"] = score\n",
    "times[\"RandForest_pred\"] = total_time\n",
    "\n",
    "print_results(\"RANDOM FOREST PREDEFINED PARAMETERS\", regr, score, total_time)"
   ]
  },
  {
   "attachments": {},
   "cell_type": "markdown",
   "metadata": {},
   "source": [
    "### 7.2.2. Random Forests - Selected parameters"
   ]
  },
  {
   "cell_type": "code",
   "execution_count": null,
   "metadata": {
    "notebookRunGroups": {
     "groupValue": "1"
    }
   },
   "outputs": [],
   "source": [
    "np.random.seed(10)\n",
    "budget = 10\n",
    "n_splits = 5\n",
    "\n",
    "pipeline = Pipeline(\n",
    "    [\n",
    "        # ('select', SelectKBest(f_regression)),\n",
    "        (\"model\", RandomForestRegressor())\n",
    "    ]\n",
    ")\n",
    "\n",
    "param_grid = {\n",
    "    \"model__n_estimators\": [10, 50, 100, 200, 500],\n",
    "    \"model__max_depth\": [3, 5, 7, 9, 11, 13, 15, 17, 19, 21, 23, 25],\n",
    "    \"model__min_samples_split\": [2, 5, 10, 15, 20],\n",
    "    \"model__min_samples_leaf\": [1, 2, 4, 6, 8],\n",
    "    \"model__max_features\": [1.0, \"sqrt\", \"log2\"],\n",
    "    \"model__max_leaf_nodes\": [None, 10, 100, 500],\n",
    "}\n",
    "\n",
    "regr = RandomizedSearchCV(\n",
    "    pipeline,\n",
    "    param_grid,\n",
    "    scoring=\"neg_mean_absolute_error\",\n",
    "    cv=TimeSeriesSplit(n_splits),\n",
    "    n_iter=budget,\n",
    "    n_jobs=-1,\n",
    ")\n",
    "\n",
    "start_time = time.time()\n",
    "regr.fit(X=X_train, y=y_train)\n",
    "end_time = time.time()\n",
    "\n",
    "total_time = end_time - start_time\n",
    "\n",
    "score = train_and_test(regr.best_estimator_, X_train, y_train, X_test, y_test)\n",
    "\n",
    "results[\"RandForest_select\"] = score\n",
    "times[\"RandForest_select\"] = total_time\n",
    "\n",
    "print_results(\"Random Forest\", regr, score, total_time)\n",
    "\n",
    "\n",
    "# np.random.seed(10)\n",
    "# budget = 5\n",
    "# n_splits = 5\n",
    "\n",
    "# pipeline = Pipeline(\n",
    "#     [\n",
    "#         # ('select', SelectKBest(f_regression)),\n",
    "#         (\"model\", RandomForestRegressor())\n",
    "#     ]\n",
    "# )\n",
    "\n",
    "# # Sólo dos hiper-parámetros: número k de árboles en el\n",
    "# # ensemble y tamaño mtry del subconjunto de atributos\n",
    "\n",
    "# param_grid = {\n",
    "#     \"model__n_estimators\": [100, 150, 200],\n",
    "#     \"model__max_features\": [\"sqrt\", \"log2\", 1.0],\n",
    "#     \"model__criterion\": [\"squared_error\", \"absolute_error\"],\n",
    "# }\n",
    "\n",
    "\n",
    "# # \"model__max_depth\": [None],\n",
    "# #     \"model__min_samples_split\": [2],\n",
    "# #     \"model__min_samples_leaf\": [1],\n",
    "# #     \"model__max_leaf_nodes\": [None],\n",
    "# #     \"model__min_impurity_decrease\": [0.0],\n",
    "# #     \"model__bootstrap\": [True],\n",
    "# # \"model__n_estimators\": list(range(100, 230, 10)),\n",
    "# # \"model__max_features\": ['sqrt', 'log2', 1.0, 0.7, 0.5, 0.3, 0.1],\n",
    "# # Above 2 are the ones seen in class\n",
    "# # \"model__max_depth\": [None, 5, 10, 15, 20],\n",
    "# # \"model__min_samples_split\": [2, 5, 10, 15, 20],\n",
    "# # \"model__min_samples_leaf\": [1, 2, 4, 6, 8],\n",
    "# # 'select__k': list(range(1, X_train.shape[1]+1)),\n",
    "\n",
    "# regr = RandomizedSearchCV(\n",
    "#     pipeline,\n",
    "#     param_grid,\n",
    "#     scoring=\"neg_mean_absolute_error\",\n",
    "#     cv=TimeSeriesSplit(n_splits),\n",
    "#     n_iter=budget,\n",
    "#     n_jobs=-1,\n",
    "# )\n",
    "\n",
    "# start_time = time.time()\n",
    "# regr.fit(X=X_train, y=y_train)\n",
    "# end_time = time.time()\n",
    "\n",
    "# total_time = end_time - start_time\n",
    "\n",
    "# score = train_and_test(regr.best_estimator_, X_train, y_train, X_test, y_test)\n",
    "\n",
    "# results[\"RandForest_select\"] = score\n",
    "# times[\"RandForest_select\"] = total_time\n",
    "\n",
    "# print_results(\"Random Forest\", regr, score, total_time)"
   ]
  },
  {
   "attachments": {},
   "cell_type": "markdown",
   "metadata": {},
   "source": [
    "---\n",
    "# 8. Best model\n",
    "We will re-visit all the models and select the best one, which we have stated to be the one with the lowest MAE and the lowest RMSE."
   ]
  },
  {
   "attachments": {},
   "cell_type": "markdown",
   "metadata": {},
   "source": [
    "---\n",
    "# 9. Conclusions"
   ]
  },
  {
   "attachments": {},
   "cell_type": "markdown",
   "metadata": {},
   "source": [
    "---\n",
    "# X. Output the Jupyter Notebook as an HTML file"
   ]
  },
  {
   "cell_type": "code",
   "execution_count": null,
   "metadata": {},
   "outputs": [],
   "source": [
    "import os\n",
    "\n",
    "# Export the notebook to HTML\n",
    "os.system(\"jupyter nbconvert --to html model.ipynb --output ../data/html/model.html\")\n",
    "print(\"Notebook exported to HTML\")"
   ]
  }
 ],
 "metadata": {
  "kernelspec": {
   "display_name": "Python 3",
   "language": "python",
   "name": "python3"
  },
  "language_info": {
   "codemirror_mode": {
    "name": "ipython",
    "version": 3
   },
   "file_extension": ".py",
   "mimetype": "text/x-python",
   "name": "python",
   "nbconvert_exporter": "python",
   "pygments_lexer": "ipython3",
   "version": "3.10.10"
  },
  "orig_nbformat": 4,
  "vscode": {
   "interpreter": {
    "hash": "b4c01c8f52586033bb4bb2bf4f864991e275e728809d596b5bf2a750c26b84f7"
   }
  }
 },
 "nbformat": 4,
 "nbformat_minor": 2
}
